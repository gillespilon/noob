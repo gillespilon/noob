{
 "cells": [
  {
   "cell_type": "markdown",
   "metadata": {},
   "source": [
    "# Noob"
   ]
  },
  {
   "cell_type": "markdown",
   "metadata": {},
   "source": [
    "# Document\n",
    "\n",
    "<table align=\"left\">\n",
    "    <tr>\n",
    "        <th class=\"text-align:left\">Title</th>\n",
    "        <td class=\"text-align:left\">Python for Noobs</td>\n",
    "    </tr>\n",
    "    <tr>\n",
    "        <th class=\"text-align:left\">Last modified</th>\n",
    "        <td class=\"text-align:left\">2019-01-31</td>\n",
    "    </tr>\n",
    "    <tr>\n",
    "        <th class=\"text-align:left\">Author</th>\n",
    "        <td class=\"text-align:left\">Gilles Pilon <gillespilon13@gmail.com></td>\n",
    "    </tr>\n",
    "    <tr>\n",
    "        <th class=\"text-align:left\">Status</th>\n",
    "        <td class=\"text-align:left\">Active</td>\n",
    "    </tr>\n",
    "    <tr>\n",
    "        <th class=\"text-align:left\">Type</th>\n",
    "        <td class=\"text-align:left\">Jupyter notebook</td>\n",
    "    </tr>\n",
    "    <tr>\n",
    "        <th class=\"text-align:left\">Created</th>\n",
    "        <td class=\"text-align:left\">2018-12-20</td>\n",
    "    </tr>\n",
    "    <tr>\n",
    "        <th class=\"text-align:left\">File name</th>\n",
    "        <td class=\"text-align:left\">noob.ipynb</td>\n",
    "    </tr>\n",
    "    <tr>\n",
    "        <th class=\"text-align:left\">Other files required</th>\n",
    "        <td class=\"text-align:left\">None</td>\n",
    "    </tr>\n",
    "</table>"
   ]
  },
  {
   "cell_type": "markdown",
   "metadata": {},
   "source": [
    "# Introduction\n",
    "\n",
    "The purpose of \"Noob\" is to provide a gentle introduction to Python for Noobs (like me). You will learn how to open a data file, munge it to filter out bad data and unwanted data, diagnose a data file, perform column operations, create graphs, estimate statisics, and understand how to use a Jupyter notebook and a Python script."
   ]
  },
  {
   "cell_type": "markdown",
   "metadata": {},
   "source": [
    "# Why Python?\n",
    "\n",
    "**Is a high-level language**\n",
    "\n",
    "- Clean, readable syntax\n",
    "- From the Zen of Python\n",
    "\n",
    "    Beautiful is better than ugly.<br />\n",
    "    Explicit is better than implicit.<br />\n",
    "    Simple is better than complex.<br />\n",
    "    Complex is better than complicated.<br />\n",
    "    Flat is better than nested.<br />\n",
    "    Sparse is better than dense.<br />\n",
    "    Readability counts.\n",
    "\n",
    "**Wide range of librairies to extend functionality**\n",
    "\n",
    "- Numpy. Scientific computing. N-dimensional array object. Integrates with many databases.\n",
    "- SciPy. Efficient routines for numerical integration and optimization.\n",
    "- Pandas. Data structures and analysis.\n",
    "- Matplotlib. Plotting library.\n",
    "- StatsModels. Statistical models and tests, and data exploration.\n",
    "- Scikit-learn. Classification, clustering, principal components, regresssion, decision trees, model selection.\n",
    "- TensorFlow. High-performance numerical computation, machine learning, deep learning.\n",
    "- Scrapy. Extract data from websites.\n",
    "\n",
    "**Code scripts are text and easily integrated into a distributed version-control system**\n",
    "\n",
    "- Easily share for code development\n",
    "- Easily integrated into a distributed version control system such as git and GitHub\n",
    "- Code is explicit, not hidden or difficult to review"
   ]
  },
  {
   "cell_type": "markdown",
   "metadata": {},
   "source": [
    "# Notebooks and files\n",
    "\n",
    "## Notebooks\n",
    "\n",
    "- data_file_read.ipynb\n",
    "- data_file_write.ipynb\n",
    "- data_file_diagnose.ipynb\n",
    "- column_operations.ipynb\n",
    "- graphs.ipynb\n",
    "- statistics.ipynb\n",
    "- jupyter_vs_script.ipynb\n",
    "\n",
    "## Files\n",
    "\n",
    "- cloquet_multiple.xlsx             # three worksheets\n",
    "- cloquet_single.csv                # single worksheet\n",
    "- cloquet_single.xlsx               # single worksheet\n",
    "- cloquet_tags.csv                  # column labels\n",
    "- cloquet_tags.xlsx                 # column labels\n",
    "- cloquet_two_weeks_15_min.csv      # single worksheet\n",
    "- cloquet_two_weeks_30_min.csv      # single worksheet\n",
    "- cloquet_two_weeks_60_min.csv      # single worksheet\n",
    "- cloquet_two_weeks_60_min.xlsx     # single worksheet\n",
    "- cloquet.xlsx                      # master file\n",
    "- thirteen_weeks.csv                # single worksheet\n",
    "- year_to_date.csv                  # single worksheet\n",
    "- data_files/just_another_file.csv  # single worksheet"
   ]
  }
 ],
 "metadata": {
  "kernelspec": {
   "display_name": "Python 3",
   "language": "python",
   "name": "python3"
  },
  "language_info": {
   "codemirror_mode": {
    "name": "ipython",
    "version": 3
   },
   "file_extension": ".py",
   "mimetype": "text/x-python",
   "name": "python",
   "nbconvert_exporter": "python",
   "pygments_lexer": "ipython3",
   "version": "3.6.6"
  }
 },
 "nbformat": 4,
 "nbformat_minor": 2
}
