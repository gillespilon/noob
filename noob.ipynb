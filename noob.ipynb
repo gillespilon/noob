{
 "cells": [
  {
   "cell_type": "markdown",
   "metadata": {},
   "source": [
    "# Noob"
   ]
  },
  {
   "cell_type": "markdown",
   "metadata": {},
   "source": [
    "# Document\n",
    "\n",
    "<table align=\"left\">\n",
    "    <tr>\n",
    "        <th class=\"text-align:left\">Title</th>\n",
    "        <td class=\"text-align:left\">Python for Noobs</td>\n",
    "    </tr>\n",
    "    <tr>\n",
    "        <th class=\"text-align:left\">Last modified</th>\n",
    "        <td class=\"text-align:left\">2019-01-04</td>\n",
    "    </tr>\n",
    "    <tr>\n",
    "        <th class=\"text-align:left\">Author</th>\n",
    "        <td class=\"text-align:left\">Gilles Pilon <gillespilon13@gmail.com></td>\n",
    "    </tr>\n",
    "    <tr>\n",
    "        <th class=\"text-align:left\">Status</th>\n",
    "        <td class=\"text-align:left\">Active</td>\n",
    "    </tr>\n",
    "    <tr>\n",
    "        <th class=\"text-align:left\">Type</th>\n",
    "        <td class=\"text-align:left\">Jupyter notebook</td>\n",
    "    </tr>\n",
    "    <tr>\n",
    "        <th class=\"text-align:left\">Created</th>\n",
    "        <td class=\"text-align:left\">2018-12-20</td>\n",
    "    </tr>\n",
    "    <tr>\n",
    "        <th class=\"text-align:left\">File name</th>\n",
    "        <td class=\"text-align:left\">N/A</td>\n",
    "    </tr>\n",
    "    <tr>\n",
    "        <th class=\"text-align:left\">Other files required</th>\n",
    "        <td class=\"text-align:left\">N/A</td>\n",
    "    </tr>\n",
    "</table>"
   ]
  },
  {
   "cell_type": "markdown",
   "metadata": {},
   "source": [
    "# Introduction\n",
    "\n",
    "The purpose of \"Noob\" is to provide a gentle introduction to Python for Noobs (like me). You will learn how to open a data file, munge it to filter out bad data and unwanted data, diagnose a data file, perform column operations, create graphs, estimate statisics, and understand how to use a Jupyter notebook and a Python script."
   ]
  },
  {
   "cell_type": "markdown",
   "metadata": {},
   "source": [
    "# Notebooks and files\n",
    "\n",
    "The notebooks and files for \"python for noobs\" are here:\n",
    "\n",
    "https://drive.google.com/open?id=1bA-phCp2FxNYLxU3YqcTh2w8e26BnCN1\n",
    "\n",
    "The current list of notebooks:\n",
    "\n",
    "- data_file_open.ipynb\n",
    "- data_file_save.ipynb\n",
    "- data_file_diagnose.ipynb\n",
    "- column_operations.ipynb\n",
    "- graphs.ipynb\n",
    "- statistics.ipynb\n",
    "- jupyter_vs_script.ipynb\n",
    "\n",
    "The current list of files:\n",
    "\n",
    "- cloquet_multiple.xlsx         # three worksheets\n",
    "- cloquet_single.csv            # single worksheet\n",
    "- cloquet_single.xlsx           # single worksheet\n",
    "- cloquet_tags.csv              # column labels\n",
    "- cloquet_tags.xlsx             # column labels\n",
    "- cloquet_two_weeks_15_min.csv  # single worksheet\n",
    "- cloquet_two_weeks_30_min.csv  # single worksheet\n",
    "- cloquet_two_weeks_60_min.csv  # single worksheet\n",
    "- cloquet.xlsx                  # master file"
   ]
  }
 ],
 "metadata": {
  "kernelspec": {
   "display_name": "Python 3",
   "language": "python",
   "name": "python3"
  },
  "language_info": {
   "codemirror_mode": {
    "name": "ipython",
    "version": 3
   },
   "file_extension": ".py",
   "mimetype": "text/x-python",
   "name": "python",
   "nbconvert_exporter": "python",
   "pygments_lexer": "ipython3",
   "version": "3.6.6"
  }
 },
 "nbformat": 4,
 "nbformat_minor": 2
}
