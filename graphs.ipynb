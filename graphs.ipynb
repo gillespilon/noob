{
 "cells": [
  {
   "cell_type": "markdown",
   "metadata": {},
   "source": [
    "# Graphs"
   ]
  },
  {
   "cell_type": "markdown",
   "metadata": {},
   "source": [
    "# Document\n",
    "\n",
    "<table align=\"left\">\n",
    "    <tr>\n",
    "        <th class=\"text-align:left\">Title</th>\n",
    "        <td class=\"text-align:left\">Create graphs</td>\n",
    "    </tr>\n",
    "    <tr>\n",
    "        <th class=\"text-align:left\">Last modified</th>\n",
    "        <td class=\"text-align:left\">2019-01-07</td>\n",
    "    </tr>\n",
    "    <tr>\n",
    "        <th class=\"text-align:left\">Author</th>\n",
    "        <td class=\"text-align:left\">Gilles Pilon <gillespilon13@gmail.com></td>\n",
    "    </tr>\n",
    "    <tr>\n",
    "        <th class=\"text-align:left\">Status</th>\n",
    "        <td class=\"text-align:left\">Active</td>\n",
    "    </tr>\n",
    "    <tr>\n",
    "        <th class=\"text-align:left\">Type</th>\n",
    "        <td class=\"text-align:left\">Jupyter notebook</td>\n",
    "    </tr>\n",
    "    <tr>\n",
    "        <th class=\"text-align:left\">Created</th>\n",
    "        <td class=\"text-align:left\">2018-12-21</td>\n",
    "    </tr>\n",
    "    <tr>\n",
    "        <th class=\"text-align:left\">File name</th>\n",
    "        <td class=\"text-align:left\">N/A</td>\n",
    "    </tr>\n",
    "    <tr>\n",
    "        <th class=\"text-align:left\">Other files required</th>\n",
    "        <td class=\"text-align:left\">N/A</td>\n",
    "    </tr>\n",
    "</table>"
   ]
  },
  {
   "cell_type": "markdown",
   "metadata": {},
   "source": [
    "# Ideas\n",
    "\n",
    "- Box and whisker plot.\n",
    "- Scatter plot.\n",
    "- Histogram.\n",
    "- Run chart.\n",
    "- Normal probability plot.\n",
    "- X and mR charts."
   ]
  },
  {
   "cell_type": "code",
   "execution_count": 1,
   "metadata": {},
   "outputs": [],
   "source": [
    "# Read a csv file.\n",
    "import pandas as pd\n",
    "df = pd.read_csv('cloquet_two_weeks_60_min.csv',\n",
    "                 parse_dates=True,\n",
    "                 index_col='Time')"
   ]
  },
  {
   "cell_type": "code",
   "execution_count": 2,
   "metadata": {},
   "outputs": [
    {
     "data": {
      "image/png": "[encoded data removed]",
      "text/plain": [
       "<Figure size 432x288 with 1 Axes>"
      ]
     },
     "metadata": {},
     "output_type": "display_data"
    }
   ],
   "source": [
    "# Create a box and whisker plot.\n",
    "%matplotlib inline\n",
    "ax = df.boxplot(column='Water Load (lb/MSF)')"
   ]
  }
 ],
 "metadata": {
  "kernelspec": {
   "display_name": "Python 3",
   "language": "python",
   "name": "python3"
  },
  "language_info": {
   "codemirror_mode": {
    "name": "ipython",
    "version": 3
   },
   "file_extension": ".py",
   "mimetype": "text/x-python",
   "name": "python",
   "nbconvert_exporter": "python",
   "pygments_lexer": "ipython3",
   "version": "3.6.6"
  }
 },
 "nbformat": 4,
 "nbformat_minor": 2
}
