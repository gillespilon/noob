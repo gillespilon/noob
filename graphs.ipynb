{
 "cells": [
  {
   "cell_type": "markdown",
   "metadata": {},
   "source": [
    "# Graphs"
   ]
  },
  {
   "cell_type": "markdown",
   "metadata": {},
   "source": [
    "# Document\n",
    "\n",
    "<table align=\"left\">\n",
    "    <tr>\n",
    "        <th class=\"text-align:left\">Title</th>\n",
    "        <td class=\"text-align:left\">Create graphs</td>\n",
    "    </tr>\n",
    "    <tr>\n",
    "        <th class=\"text-align:left\">Last modified</th>\n",
    "        <td class=\"text-align:left\">2019-01-23</td>\n",
    "    </tr>\n",
    "    <tr>\n",
    "        <th class=\"text-align:left\">Author</th>\n",
    "        <td class=\"text-align:left\">Gilles Pilon <gillespilon13@gmail.com></td>\n",
    "    </tr>\n",
    "    <tr>\n",
    "        <th class=\"text-align:left\">Status</th>\n",
    "        <td class=\"text-align:left\">Active</td>\n",
    "    </tr>\n",
    "    <tr>\n",
    "        <th class=\"text-align:left\">Type</th>\n",
    "        <td class=\"text-align:left\">Jupyter notebook</td>\n",
    "    </tr>\n",
    "    <tr>\n",
    "        <th class=\"text-align:left\">Created</th>\n",
    "        <td class=\"text-align:left\">2018-12-21</td>\n",
    "    </tr>\n",
    "    <tr>\n",
    "        <th class=\"text-align:left\">File name</th>\n",
    "        <td class=\"text-align:left\">N/A</td>\n",
    "    </tr>\n",
    "    <tr>\n",
    "        <th class=\"text-align:left\">Other files required</th>\n",
    "        <td class=\"text-align:left\">N/A</td>\n",
    "    </tr>\n",
    "</table>"
   ]
  },
  {
   "cell_type": "markdown",
   "metadata": {},
   "source": [
    "# Ideas\n",
    "\n",
    "- Box and whisker plot.\n",
    "- Line plot.\n",
    "- Scatter plot.\n",
    "- Histogram.\n",
    "- Normal probability plot.\n",
    "- X and mR charts.\n",
    "- Scatter plot matrix."
   ]
  },
  {
   "cell_type": "code",
   "execution_count": null,
   "metadata": {},
   "outputs": [],
   "source": [
    "# Read a csv file.\n",
    "import pandas as pd\n",
    "df = pd.read_csv('cloquet_two_weeks_60_min.csv',\n",
    "                 parse_dates=True,\n",
    "                 index_col='Time')"
   ]
  },
  {
   "cell_type": "markdown",
   "metadata": {},
   "source": [
    "## Box and whisker plot"
   ]
  },
  {
   "cell_type": "code",
   "execution_count": null,
   "metadata": {},
   "outputs": [],
   "source": [
    "%matplotlib inline\n",
    "ax1 = df.plot.box(y='Water Load (lb/MSF)',\n",
    "                 notch=True)\n",
    "ax1.set_title('Box plot of ' + 'Water Load (lb/MSF)',\n",
    "              fontweight='bold')\n",
    "ax1.set_ylabel('Water Load (lb/MSF)')\n",
    "ax1.set_xticklabels(' ')"
   ]
  },
  {
   "cell_type": "markdown",
   "metadata": {},
   "source": [
    "## Line plot"
   ]
  },
  {
   "cell_type": "code",
   "execution_count": null,
   "metadata": {},
   "outputs": [],
   "source": [
    "ax2 = df.plot.line(y='Water Load (lb/MSF)',\n",
    "                   legend=False)\n",
    "ax2.set_title('Line plot',\n",
    "              fontweight='bold')\n",
    "ax2.set_ylabel('Water Load (lb/MSF)')"
   ]
  },
  {
   "cell_type": "markdown",
   "metadata": {},
   "source": [
    "## Scatter plot"
   ]
  },
  {
   "cell_type": "code",
   "execution_count": null,
   "metadata": {},
   "outputs": [],
   "source": [
    "ax3 = df.plot.line(y='Water Load (lb/MSF)',\n",
    "                   legend=False,\n",
    "                   style='.')\n",
    "ax3.set_title('Scatter plot of ' + 'Water Load (lb/MSF)',\n",
    "              fontweight='bold')\n",
    "ax3.set_ylabel('Water Load (lb/MSF)')"
   ]
  },
  {
   "cell_type": "markdown",
   "metadata": {},
   "source": [
    "## Histogram"
   ]
  },
  {
   "cell_type": "code",
   "execution_count": null,
   "metadata": {},
   "outputs": [],
   "source": [
    "ax4 = df.plot.hist(y='Water Load (lb/MSF)',\n",
    "                   legend=False)\n",
    "ax4.set_title('Histogram of '+ 'Water Load (lb/MSF)',\n",
    "              fontweight='bold')\n",
    "ax4.set_xlabel('Water Load (lb/MSF)')"
   ]
  },
  {
   "cell_type": "markdown",
   "metadata": {},
   "source": [
    "## Normal probability plot"
   ]
  },
  {
   "cell_type": "code",
   "execution_count": null,
   "metadata": {},
   "outputs": [],
   "source": [
    "# Create a normal probability plot.\n",
    "from scipy import stats\n",
    "(osm, osr), (slope, intercept, r) = stats.probplot(df['Water Load (lb/MSF)'], fit=True)\n",
    "dfnpp = pd.DataFrame.from_dict({'Theoretical quantiles (osm)': osm,\n",
    "                                'Ordered values (osr)': osr})\n",
    "ax5 = dfnpp.plot.scatter('Ordered values (osr)',\n",
    "                         'Theoretical quantiles (osm)')\n",
    "ax5.plot(slope * osm + intercept, osm)\n",
    "ax5.set_title('Normal probability plot of ' + 'Water Load (lb/MSF)',\n",
    "              fontweight='bold')"
   ]
  },
  {
   "cell_type": "markdown",
   "metadata": {},
   "source": [
    "## X and mR charts"
   ]
  },
  {
   "cell_type": "code",
   "execution_count": null,
   "metadata": {},
   "outputs": [],
   "source": [
    "# Use the datasense package.\n",
    "import datasense as ds\n",
    "x = ds.X(df['Water Load (lb/MSF)'].to_frame())\n",
    "ax6 =x.ax\n",
    "ax6.set_title('X control chart of ' + 'Water Load (lb/MSF)',\n",
    "              fontweight='bold')\n",
    "ax6.set_ylabel('Water Load (lb/MSF)')"
   ]
  },
  {
   "cell_type": "code",
   "execution_count": null,
   "metadata": {},
   "outputs": [],
   "source": [
    "y = ds.mR(df['Water Load (lb/MSF)'].to_frame())\n",
    "ax7 = y.ax\n",
    "ax7.set_title('mR control chart of ' + 'Water Load (lb/MSF)',\n",
    "              fontweight='bold')\n",
    "ax7.set_ylabel('Water Load (lb/MSF)')"
   ]
  },
  {
   "cell_type": "markdown",
   "metadata": {},
   "source": [
    "## Scatter plot matrix"
   ]
  },
  {
   "cell_type": "code",
   "execution_count": null,
   "metadata": {},
   "outputs": [],
   "source": [
    "df.columns"
   ]
  },
  {
   "cell_type": "code",
   "execution_count": null,
   "metadata": {
    "scrolled": false
   },
   "outputs": [],
   "source": [
    "from pandas.plotting import scatter_matrix\n",
    "scatter_matrix(df[['Water Load (lb/MSF)', \\\n",
    "                   'Trim Board Density (lb/cft)',\n",
    "                   'Trim Board Thickness (in)', 'Trim Board Weight (lb/sft)']],\n",
    "               alpha=0.2,\n",
    "               figsize=(8,8));"
   ]
  }
 ],
 "metadata": {
  "kernelspec": {
   "display_name": "Python 3",
   "language": "python",
   "name": "python3"
  },
  "language_info": {
   "codemirror_mode": {
    "name": "ipython",
    "version": 3
   },
   "file_extension": ".py",
   "mimetype": "text/x-python",
   "name": "python",
   "nbconvert_exporter": "python",
   "pygments_lexer": "ipython3",
   "version": "3.6.6"
  }
 },
 "nbformat": 4,
 "nbformat_minor": 2
}
