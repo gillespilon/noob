{
 "cells": [
  {
   "cell_type": "markdown",
   "metadata": {},
   "source": [
    "# Improve openpyxl dataframe_to_rows\n",
    "\n",
    "The openpyxl function \"dataframe_to_rows\" does not handle boolean and integer data types correctly. This code is an effort to improve that."
   ]
  },
  {
   "cell_type": "code",
   "execution_count": 1,
   "metadata": {},
   "outputs": [],
   "source": [
    "import operator\n",
    "from itertools import accumulate"
   ]
  },
  {
   "cell_type": "code",
   "execution_count": 2,
   "metadata": {},
   "outputs": [],
   "source": [
    "def dataframe_to_rows(df, index=True, header=True):\n",
    "    \"\"\"\n",
    "    Convert a Pandas dataframe into something suitable for passing into a worksheet.\n",
    "    If index is True then the index will be included, starting one row below the header.\n",
    "    If header is True then column headers will be included starting one column to the right.\n",
    "    Formatting should be done by client code.\n",
    "    \"\"\"\n",
    "    import numpy\n",
    "    from pandas import Timestamp\n",
    "    blocks = df._data.blocks\n",
    "    ncols = sum(b.shape[0] for b in blocks)\n",
    "    data = [None] * ncols\n",
    "\n",
    "    for b in blocks:\n",
    "        values = b.values\n",
    "\n",
    "        if b.dtype.type == numpy.datetime64:\n",
    "            values = numpy.array([Timestamp(v) for v in values.ravel()])\n",
    "            values = values.reshape(b.shape)\n",
    "\n",
    "        result = values.tolist()\n",
    "\n",
    "        for col_loc, col in zip(b.mgr_locs, result):\n",
    "            data[col_loc] = col\n",
    "\n",
    "    if header:\n",
    "        if df.columns.nlevels > 1:\n",
    "            rows = expand_levels(df.columns.levels, df.columns.labels)\n",
    "        else:\n",
    "            rows = [list(df.columns.values)]\n",
    "        for row in rows:\n",
    "            n = []\n",
    "            for v in row:\n",
    "                if isinstance(v, numpy.datetime64):\n",
    "                    v = Timestamp(v)\n",
    "                n.append(v)\n",
    "            row = n\n",
    "            if index:\n",
    "                row = [None]*df.index.nlevels + row\n",
    "            yield row\n",
    "\n",
    "\n",
    "    if index:\n",
    "        yield df.index.names\n",
    "\n",
    "    for idx, v in enumerate(df.index):\n",
    "        row = [data[j][idx] for j in range(ncols)]\n",
    "        if index:\n",
    "            row = [v] + row\n",
    "        yield row"
   ]
  },
  {
   "cell_type": "code",
   "execution_count": 3,
   "metadata": {},
   "outputs": [],
   "source": [
    "def expand_levels(levels, labels):\n",
    "    \"\"\"\n",
    "    Multiindexes need expanding so that subtitles repeat\n",
    "    \"\"\"\n",
    "\n",
    "    for label, order in zip(levels, labels):\n",
    "        current = None\n",
    "        row = []\n",
    "        for idx in order:\n",
    "            if current == idx:\n",
    "                row.append(None)\n",
    "            else:\n",
    "                row.append(label[idx])\n",
    "                current = idx\n",
    "        yield row"
   ]
  }
 ],
 "metadata": {
  "kernelspec": {
   "display_name": "Python 3",
   "language": "python",
   "name": "python3"
  },
  "language_info": {
   "codemirror_mode": {
    "name": "ipython",
    "version": 3
   },
   "file_extension": ".py",
   "mimetype": "text/x-python",
   "name": "python",
   "nbconvert_exporter": "python",
   "pygments_lexer": "ipython3",
   "version": "3.9.1"
  },
  "varInspector": {
   "cols": {
    "lenName": 16,
    "lenType": 16,
    "lenVar": 40
   },
   "kernels_config": {
    "python": {
     "delete_cmd_postfix": "",
     "delete_cmd_prefix": "del ",
     "library": "var_list.py",
     "varRefreshCmd": "print(var_dic_list())"
    },
    "r": {
     "delete_cmd_postfix": ") ",
     "delete_cmd_prefix": "rm(",
     "library": "var_list.r",
     "varRefreshCmd": "cat(var_dic_list()) "
    }
   },
   "types_to_exclude": [
    "module",
    "function",
    "builtin_function_or_method",
    "instance",
    "_Feature"
   ],
   "window_display": false
  }
 },
 "nbformat": 4,
 "nbformat_minor": 2
}
