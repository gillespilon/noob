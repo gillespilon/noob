{
 "cells": [
  {
   "cell_type": "markdown",
   "metadata": {},
   "source": [
    "# Writing a data file"
   ]
  },
  {
   "cell_type": "markdown",
   "metadata": {},
   "source": [
    "# Document\n",
    "\n",
    "<table align=\"left\">\n",
    "    <tr>\n",
    "        <th class=\"text-align:left\">Title</th>\n",
    "        <td class=\"text-align:left\">Saving a data file</td>\n",
    "    </tr>\n",
    "    <tr>\n",
    "        <th class=\"text-align:left\">Last modified</th>\n",
    "        <td class=\"text-align:left\">2020-12-23</td>\n",
    "    </tr>\n",
    "    <tr>\n",
    "        <th class=\"text-align:left\">Author</th>\n",
    "        <td class=\"text-align:left\">Gilles Pilon <gillespilon13@gmail.com></td>\n",
    "    </tr>\n",
    "    <tr>\n",
    "        <th class=\"text-align:left\">Status</th>\n",
    "        <td class=\"text-align:left\">Active</td>\n",
    "    </tr>\n",
    "    <tr>\n",
    "        <th class=\"text-align:left\">Type</th>\n",
    "        <td class=\"text-align:left\">Jupyter notebook</td>\n",
    "    </tr>\n",
    "    <tr>\n",
    "        <th class=\"text-align:left\">Created</th>\n",
    "        <td class=\"text-align:left\">2018-12-21</td>\n",
    "    </tr>\n",
    "    <tr>\n",
    "        <th class=\"text-align:left\">File name</th>\n",
    "        <td class=\"text-align:left\">02_data_file_write.ipynb</td>\n",
    "    </tr>\n",
    "    <tr>\n",
    "        <th class=\"text-align:left\">Other files required</th>\n",
    "        <td class=\"text-align:left\">data/cloquet_two_weeks_60_min.csv<br />\n",
    "                                    data/cloquet_two_weeks_30_min.csv<br />\n",
    "                                    data/cloquet_two_weeks_15_min.csv\n",
    "        </td>\n",
    "    </tr>\n",
    "</table>"
   ]
  },
  {
   "cell_type": "markdown",
   "metadata": {},
   "source": [
    "# Introduction\n",
    "\n",
    "- Write a dataframe to a csv file\n",
    "- Write a dataframe to an Excel file with one worksheet\n",
    "- Write several dataframes to an Excel file with multiple worksheets"
   ]
  },
  {
   "cell_type": "markdown",
   "metadata": {},
   "source": [
    "# Import libraries"
   ]
  },
  {
   "cell_type": "code",
   "execution_count": 1,
   "metadata": {},
   "outputs": [],
   "source": [
    "from openpyxl.utils.dataframe import dataframe_to_rows\n",
    "from openpyxl import load_workbook\n",
    "from openpyxl import Workbook\n",
    "import datasense as ds\n",
    "import pandas as pd"
   ]
  },
  {
   "cell_type": "markdown",
   "metadata": {},
   "source": [
    "# Create three dataframes"
   ]
  },
  {
   "cell_type": "code",
   "execution_count": 2,
   "metadata": {},
   "outputs": [],
   "source": [
    "size = 4"
   ]
  },
  {
   "cell_type": "code",
   "execution_count": 3,
   "metadata": {},
   "outputs": [],
   "source": [
    "df1 = ds.create_dataframe(size=size)\n",
    "df2 = ds.create_dataframe(size=size)\n",
    "df3 = ds.create_dataframe(size=size)"
   ]
  },
  {
   "cell_type": "code",
   "execution_count": 4,
   "metadata": {},
   "outputs": [
    {
     "data": {
      "text/html": [
       "<div>\n",
       "<style scoped>\n",
       "    .dataframe tbody tr th:only-of-type {\n",
       "        vertical-align: middle;\n",
       "    }\n",
       "\n",
       "    .dataframe tbody tr th {\n",
       "        vertical-align: top;\n",
       "    }\n",
       "\n",
       "    .dataframe thead th {\n",
       "        text-align: right;\n",
       "    }\n",
       "</style>\n",
       "<table border=\"1\" class=\"dataframe\">\n",
       "  <thead>\n",
       "    <tr style=\"text-align: right;\">\n",
       "      <th></th>\n",
       "      <th>a</th>\n",
       "      <th>b</th>\n",
       "      <th>c</th>\n",
       "      <th>d</th>\n",
       "      <th>i</th>\n",
       "      <th>r</th>\n",
       "      <th>s</th>\n",
       "      <th>t</th>\n",
       "      <th>u</th>\n",
       "      <th>x</th>\n",
       "      <th>y</th>\n",
       "      <th>z</th>\n",
       "    </tr>\n",
       "  </thead>\n",
       "  <tbody>\n",
       "    <tr>\n",
       "      <th>0</th>\n",
       "      <td>57.002856</td>\n",
       "      <td>False</td>\n",
       "      <td>medium</td>\n",
       "      <td>0 days</td>\n",
       "      <td>60.454865</td>\n",
       "      <td>1</td>\n",
       "      <td>female</td>\n",
       "      <td>2020-12-23 11:18:56</td>\n",
       "      <td>2020-12-23 11:18:56</td>\n",
       "      <td>0.225280</td>\n",
       "      <td>64</td>\n",
       "      <td>0.185316</td>\n",
       "    </tr>\n",
       "    <tr>\n",
       "      <th>1</th>\n",
       "      <td>18.813314</td>\n",
       "      <td>False</td>\n",
       "      <td>large</td>\n",
       "      <td>0 days</td>\n",
       "      <td>15.527803</td>\n",
       "      <td>1</td>\n",
       "      <td>female</td>\n",
       "      <td>2020-12-24 11:18:56</td>\n",
       "      <td>2020-12-24 11:18:56</td>\n",
       "      <td>-2.358112</td>\n",
       "      <td>13</td>\n",
       "      <td>0.088672</td>\n",
       "    </tr>\n",
       "  </tbody>\n",
       "</table>\n",
       "</div>"
      ],
      "text/plain": [
       "           a      b       c      d          i  r       s                   t  \\\n",
       "0  57.002856  False  medium 0 days  60.454865  1  female 2020-12-23 11:18:56   \n",
       "1  18.813314  False   large 0 days  15.527803  1  female 2020-12-24 11:18:56   \n",
       "\n",
       "                    u         x   y         z  \n",
       "0 2020-12-23 11:18:56  0.225280  64  0.185316  \n",
       "1 2020-12-24 11:18:56 -2.358112  13  0.088672  "
      ]
     },
     "execution_count": 4,
     "metadata": {},
     "output_type": "execute_result"
    }
   ],
   "source": [
    "df1.head(2)"
   ]
  },
  {
   "cell_type": "code",
   "execution_count": 5,
   "metadata": {},
   "outputs": [
    {
     "data": {
      "text/plain": [
       "a            float64\n",
       "b            boolean\n",
       "c           category\n",
       "d    timedelta64[ns]\n",
       "i            float64\n",
       "r             object\n",
       "s             object\n",
       "t     datetime64[ns]\n",
       "u     datetime64[ns]\n",
       "x            float64\n",
       "y              Int64\n",
       "z            float64\n",
       "dtype: object"
      ]
     },
     "execution_count": 5,
     "metadata": {},
     "output_type": "execute_result"
    }
   ],
   "source": [
    "df1.dtypes"
   ]
  },
  {
   "cell_type": "markdown",
   "metadata": {},
   "source": [
    "# Write a dataframe to a csv file"
   ]
  },
  {
   "cell_type": "code",
   "execution_count": 6,
   "metadata": {},
   "outputs": [],
   "source": [
    "ds.save_file(\n",
    "    df=df1,\n",
    "    file_name='data/just_a_test.csv'\n",
    ")"
   ]
  },
  {
   "cell_type": "code",
   "execution_count": 7,
   "metadata": {},
   "outputs": [],
   "source": [
    "just_a_test = ds.read_file(\n",
    "    file_name='data/just_a_test.csv'\n",
    ")"
   ]
  },
  {
   "cell_type": "code",
   "execution_count": 8,
   "metadata": {},
   "outputs": [
    {
     "data": {
      "text/html": [
       "<div>\n",
       "<style scoped>\n",
       "    .dataframe tbody tr th:only-of-type {\n",
       "        vertical-align: middle;\n",
       "    }\n",
       "\n",
       "    .dataframe tbody tr th {\n",
       "        vertical-align: top;\n",
       "    }\n",
       "\n",
       "    .dataframe thead th {\n",
       "        text-align: right;\n",
       "    }\n",
       "</style>\n",
       "<table border=\"1\" class=\"dataframe\">\n",
       "  <thead>\n",
       "    <tr style=\"text-align: right;\">\n",
       "      <th></th>\n",
       "      <th>a</th>\n",
       "      <th>b</th>\n",
       "      <th>c</th>\n",
       "      <th>d</th>\n",
       "      <th>i</th>\n",
       "      <th>r</th>\n",
       "      <th>s</th>\n",
       "      <th>t</th>\n",
       "      <th>u</th>\n",
       "      <th>x</th>\n",
       "      <th>y</th>\n",
       "      <th>z</th>\n",
       "    </tr>\n",
       "  </thead>\n",
       "  <tbody>\n",
       "    <tr>\n",
       "      <th>0</th>\n",
       "      <td>57.002856</td>\n",
       "      <td>False</td>\n",
       "      <td>medium</td>\n",
       "      <td>0 days</td>\n",
       "      <td>60.454865</td>\n",
       "      <td>1</td>\n",
       "      <td>female</td>\n",
       "      <td>2020-12-23 11:18:56</td>\n",
       "      <td>2020-12-23 11:18:56</td>\n",
       "      <td>0.225280</td>\n",
       "      <td>64</td>\n",
       "      <td>0.185316</td>\n",
       "    </tr>\n",
       "    <tr>\n",
       "      <th>1</th>\n",
       "      <td>18.813314</td>\n",
       "      <td>False</td>\n",
       "      <td>large</td>\n",
       "      <td>0 days</td>\n",
       "      <td>15.527803</td>\n",
       "      <td>1</td>\n",
       "      <td>female</td>\n",
       "      <td>2020-12-24 11:18:56</td>\n",
       "      <td>2020-12-24 11:18:56</td>\n",
       "      <td>-2.358112</td>\n",
       "      <td>13</td>\n",
       "      <td>0.088672</td>\n",
       "    </tr>\n",
       "  </tbody>\n",
       "</table>\n",
       "</div>"
      ],
      "text/plain": [
       "           a      b       c       d          i  r       s  \\\n",
       "0  57.002856  False  medium  0 days  60.454865  1  female   \n",
       "1  18.813314  False   large  0 days  15.527803  1  female   \n",
       "\n",
       "                     t                    u         x   y         z  \n",
       "0  2020-12-23 11:18:56  2020-12-23 11:18:56  0.225280  64  0.185316  \n",
       "1  2020-12-24 11:18:56  2020-12-24 11:18:56 -2.358112  13  0.088672  "
      ]
     },
     "execution_count": 8,
     "metadata": {},
     "output_type": "execute_result"
    }
   ],
   "source": [
    "just_a_test.head(2)"
   ]
  },
  {
   "cell_type": "code",
   "execution_count": 9,
   "metadata": {},
   "outputs": [
    {
     "data": {
      "text/plain": [
       "a    float64\n",
       "b       bool\n",
       "c     object\n",
       "d     object\n",
       "i    float64\n",
       "r      int64\n",
       "s     object\n",
       "t     object\n",
       "u     object\n",
       "x    float64\n",
       "y      int64\n",
       "z    float64\n",
       "dtype: object"
      ]
     },
     "execution_count": 9,
     "metadata": {},
     "output_type": "execute_result"
    }
   ],
   "source": [
    "just_a_test.dtypes"
   ]
  },
  {
   "cell_type": "markdown",
   "metadata": {},
   "source": [
    "## Fix dtypes on import"
   ]
  },
  {
   "cell_type": "code",
   "execution_count": 10,
   "metadata": {},
   "outputs": [],
   "source": [
    "convert_dict = {\n",
    "    'b': 'boolean',\n",
    "    'c': 'category',\n",
    "    'r': 'str',\n",
    "    'y': 'Int64'\n",
    "}\n",
    "parse_dates = ['t', 'u']\n",
    "time_delta_columns = ['d']\n",
    "just_a_test = ds.read_file(\n",
    "    file_name='data/just_a_test.csv',\n",
    "    dtype=convert_dict,\n",
    "    parse_dates=parse_dates,\n",
    "    time_delta_columns=time_delta_columns\n",
    ")"
   ]
  },
  {
   "cell_type": "code",
   "execution_count": 11,
   "metadata": {},
   "outputs": [
    {
     "data": {
      "text/html": [
       "<div>\n",
       "<style scoped>\n",
       "    .dataframe tbody tr th:only-of-type {\n",
       "        vertical-align: middle;\n",
       "    }\n",
       "\n",
       "    .dataframe tbody tr th {\n",
       "        vertical-align: top;\n",
       "    }\n",
       "\n",
       "    .dataframe thead th {\n",
       "        text-align: right;\n",
       "    }\n",
       "</style>\n",
       "<table border=\"1\" class=\"dataframe\">\n",
       "  <thead>\n",
       "    <tr style=\"text-align: right;\">\n",
       "      <th></th>\n",
       "      <th>a</th>\n",
       "      <th>b</th>\n",
       "      <th>c</th>\n",
       "      <th>d</th>\n",
       "      <th>i</th>\n",
       "      <th>r</th>\n",
       "      <th>s</th>\n",
       "      <th>t</th>\n",
       "      <th>u</th>\n",
       "      <th>x</th>\n",
       "      <th>y</th>\n",
       "      <th>z</th>\n",
       "    </tr>\n",
       "  </thead>\n",
       "  <tbody>\n",
       "    <tr>\n",
       "      <th>0</th>\n",
       "      <td>57.002856</td>\n",
       "      <td>False</td>\n",
       "      <td>medium</td>\n",
       "      <td>0 days</td>\n",
       "      <td>60.454865</td>\n",
       "      <td>1</td>\n",
       "      <td>female</td>\n",
       "      <td>2020-12-23 11:18:56</td>\n",
       "      <td>2020-12-23 11:18:56</td>\n",
       "      <td>0.225280</td>\n",
       "      <td>64</td>\n",
       "      <td>0.185316</td>\n",
       "    </tr>\n",
       "    <tr>\n",
       "      <th>1</th>\n",
       "      <td>18.813314</td>\n",
       "      <td>False</td>\n",
       "      <td>large</td>\n",
       "      <td>0 days</td>\n",
       "      <td>15.527803</td>\n",
       "      <td>1</td>\n",
       "      <td>female</td>\n",
       "      <td>2020-12-24 11:18:56</td>\n",
       "      <td>2020-12-24 11:18:56</td>\n",
       "      <td>-2.358112</td>\n",
       "      <td>13</td>\n",
       "      <td>0.088672</td>\n",
       "    </tr>\n",
       "  </tbody>\n",
       "</table>\n",
       "</div>"
      ],
      "text/plain": [
       "           a      b       c      d          i  r       s                   t  \\\n",
       "0  57.002856  False  medium 0 days  60.454865  1  female 2020-12-23 11:18:56   \n",
       "1  18.813314  False   large 0 days  15.527803  1  female 2020-12-24 11:18:56   \n",
       "\n",
       "                    u         x   y         z  \n",
       "0 2020-12-23 11:18:56  0.225280  64  0.185316  \n",
       "1 2020-12-24 11:18:56 -2.358112  13  0.088672  "
      ]
     },
     "execution_count": 11,
     "metadata": {},
     "output_type": "execute_result"
    }
   ],
   "source": [
    "just_a_test.head(2)"
   ]
  },
  {
   "cell_type": "code",
   "execution_count": 12,
   "metadata": {},
   "outputs": [
    {
     "data": {
      "text/plain": [
       "a            float64\n",
       "b            boolean\n",
       "c           category\n",
       "d    timedelta64[ns]\n",
       "i            float64\n",
       "r             object\n",
       "s             object\n",
       "t     datetime64[ns]\n",
       "u     datetime64[ns]\n",
       "x            float64\n",
       "y              Int64\n",
       "z            float64\n",
       "dtype: object"
      ]
     },
     "execution_count": 12,
     "metadata": {},
     "output_type": "execute_result"
    }
   ],
   "source": [
    "just_a_test.dtypes"
   ]
  },
  {
   "cell_type": "markdown",
   "metadata": {},
   "source": [
    "## Write dataframes to an Excel workbook"
   ]
  },
  {
   "cell_type": "code",
   "execution_count": 13,
   "metadata": {},
   "outputs": [],
   "source": [
    "path = 'data/even_another_file.xlsx'\n",
    "engine = 'openpyxl'\n",
    "with pd.ExcelWriter(path=path, engine=engine) as writer:\n",
    "    df1.to_excel(\n",
    "        excel_writer=writer,\n",
    "        sheet_name='sheet_one',\n",
    "        index=False\n",
    "    )\n",
    "    df2.to_excel(\n",
    "        excel_writer=writer,\n",
    "        sheet_name='sheet_two',\n",
    "        index=False\n",
    "    )\n",
    "    df3.to_excel(\n",
    "        excel_writer=writer,\n",
    "        sheet_name='sheet_three',\n",
    "        index=False\n",
    "    )\n",
    "writer.save()"
   ]
  },
  {
   "cell_type": "code",
   "execution_count": 14,
   "metadata": {},
   "outputs": [
    {
     "data": {
      "text/plain": [
       "['sheet_one', 'sheet_two', 'sheet_three']"
      ]
     },
     "execution_count": 14,
     "metadata": {},
     "output_type": "execute_result"
    }
   ],
   "source": [
    "wb2 = load_workbook(filename='data/even_another_file.xlsx')\n",
    "wb2.sheetnames"
   ]
  },
  {
   "cell_type": "markdown",
   "metadata": {},
   "source": [
    "## Read worksheets from an Excel workbook"
   ]
  },
  {
   "cell_type": "code",
   "execution_count": 15,
   "metadata": {},
   "outputs": [],
   "source": [
    "ws1 = wb2['sheet_one']\n",
    "from itertools import islice\n",
    "data = ws1.values\n",
    "cols = next(data)[:]\n",
    "data = list(data)\n",
    "# idx = [row[0] for row in data]\n",
    "data = (islice(row, None) for row in data)\n",
    "df_one = pd.DataFrame(data, columns=cols)"
   ]
  },
  {
   "cell_type": "code",
   "execution_count": 16,
   "metadata": {},
   "outputs": [
    {
     "data": {
      "text/html": [
       "<div>\n",
       "<style scoped>\n",
       "    .dataframe tbody tr th:only-of-type {\n",
       "        vertical-align: middle;\n",
       "    }\n",
       "\n",
       "    .dataframe tbody tr th {\n",
       "        vertical-align: top;\n",
       "    }\n",
       "\n",
       "    .dataframe thead th {\n",
       "        text-align: right;\n",
       "    }\n",
       "</style>\n",
       "<table border=\"1\" class=\"dataframe\">\n",
       "  <thead>\n",
       "    <tr style=\"text-align: right;\">\n",
       "      <th></th>\n",
       "      <th>a</th>\n",
       "      <th>b</th>\n",
       "      <th>c</th>\n",
       "      <th>d</th>\n",
       "      <th>i</th>\n",
       "      <th>r</th>\n",
       "      <th>s</th>\n",
       "      <th>t</th>\n",
       "      <th>u</th>\n",
       "      <th>x</th>\n",
       "      <th>y</th>\n",
       "      <th>z</th>\n",
       "    </tr>\n",
       "  </thead>\n",
       "  <tbody>\n",
       "    <tr>\n",
       "      <th>0</th>\n",
       "      <td>57.002856</td>\n",
       "      <td>False</td>\n",
       "      <td>medium</td>\n",
       "      <td>0</td>\n",
       "      <td>60.454865</td>\n",
       "      <td>1</td>\n",
       "      <td>female</td>\n",
       "      <td>2020-12-23 11:18:56</td>\n",
       "      <td>2020-12-23 11:18:56</td>\n",
       "      <td>0.225280</td>\n",
       "      <td>64</td>\n",
       "      <td>0.185316</td>\n",
       "    </tr>\n",
       "    <tr>\n",
       "      <th>1</th>\n",
       "      <td>18.813314</td>\n",
       "      <td>False</td>\n",
       "      <td>large</td>\n",
       "      <td>0</td>\n",
       "      <td>15.527803</td>\n",
       "      <td>1</td>\n",
       "      <td>female</td>\n",
       "      <td>2020-12-24 11:18:56</td>\n",
       "      <td>2020-12-24 11:18:56</td>\n",
       "      <td>-2.358112</td>\n",
       "      <td>13</td>\n",
       "      <td>0.088672</td>\n",
       "    </tr>\n",
       "  </tbody>\n",
       "</table>\n",
       "</div>"
      ],
      "text/plain": [
       "           a      b       c  d          i  r       s                   t  \\\n",
       "0  57.002856  False  medium  0  60.454865  1  female 2020-12-23 11:18:56   \n",
       "1  18.813314  False   large  0  15.527803  1  female 2020-12-24 11:18:56   \n",
       "\n",
       "                    u         x   y         z  \n",
       "0 2020-12-23 11:18:56  0.225280  64  0.185316  \n",
       "1 2020-12-24 11:18:56 -2.358112  13  0.088672  "
      ]
     },
     "execution_count": 16,
     "metadata": {},
     "output_type": "execute_result"
    }
   ],
   "source": [
    "df_one.head(2)"
   ]
  },
  {
   "cell_type": "code",
   "execution_count": 17,
   "metadata": {},
   "outputs": [
    {
     "data": {
      "text/plain": [
       "a           float64\n",
       "b              bool\n",
       "c            object\n",
       "d             int64\n",
       "i           float64\n",
       "r            object\n",
       "s            object\n",
       "t    datetime64[ns]\n",
       "u    datetime64[ns]\n",
       "x           float64\n",
       "y             int64\n",
       "z           float64\n",
       "dtype: object"
      ]
     },
     "execution_count": 17,
     "metadata": {},
     "output_type": "execute_result"
    }
   ],
   "source": [
    "df_one.dtypes"
   ]
  },
  {
   "cell_type": "code",
   "execution_count": 18,
   "metadata": {},
   "outputs": [],
   "source": [
    "ws2 = wb2['sheet_two']\n",
    "from itertools import islice\n",
    "data = ws2.values\n",
    "cols = next(data)[:]\n",
    "data = list(data)\n",
    "# idx = [row[0] for row in data]\n",
    "data = (islice(row, None) for row in data)\n",
    "df_two = pd.DataFrame(data, columns=cols)"
   ]
  },
  {
   "cell_type": "code",
   "execution_count": 19,
   "metadata": {},
   "outputs": [
    {
     "data": {
      "text/plain": [
       "a           float64\n",
       "b              bool\n",
       "c            object\n",
       "d             int64\n",
       "i           float64\n",
       "r            object\n",
       "s            object\n",
       "t    datetime64[ns]\n",
       "u    datetime64[ns]\n",
       "x           float64\n",
       "y             int64\n",
       "z           float64\n",
       "dtype: object"
      ]
     },
     "execution_count": 19,
     "metadata": {},
     "output_type": "execute_result"
    }
   ],
   "source": [
    "df_two.dtypes"
   ]
  },
  {
   "cell_type": "code",
   "execution_count": 20,
   "metadata": {},
   "outputs": [],
   "source": [
    "ws3 = wb2['sheet_two']\n",
    "from itertools import islice\n",
    "data = ws3.values\n",
    "cols = next(data)[:]\n",
    "data = list(data)\n",
    "# idx = [row[0] for row in data]\n",
    "data = (islice(row, None) for row in data)\n",
    "df_three = pd.DataFrame(data, columns=cols)"
   ]
  },
  {
   "cell_type": "markdown",
   "metadata": {},
   "source": [
    "## Read worksheets from an Excel workbook"
   ]
  },
  {
   "cell_type": "code",
   "execution_count": 21,
   "metadata": {},
   "outputs": [],
   "source": [
    "df_workbook = pd.read_excel(\n",
    "    io=path,\n",
    "    sheet_name=None,\n",
    "    engine='openpyxl'\n",
    ")"
   ]
  },
  {
   "cell_type": "code",
   "execution_count": 22,
   "metadata": {},
   "outputs": [
    {
     "data": {
      "text/plain": [
       "{'sheet_one':            a      b       c  d          i  r       s                   t  \\\n",
       " 0  57.002856  False  medium  0  60.454865  1  female 2020-12-23 11:18:56   \n",
       " 1  18.813314  False   large  0  15.527803  1  female 2020-12-24 11:18:56   \n",
       " 2  20.652550  False   large  0  71.974977  1  female 2020-12-25 11:18:56   \n",
       " 3  70.641494  False   large  0  21.021623  0    male 2020-12-26 11:18:56   \n",
       " \n",
       "                     u         x   y         z  \n",
       " 0 2020-12-23 11:18:56  0.225280  64  0.185316  \n",
       " 1 2020-12-24 11:18:56 -2.358112  13  0.088672  \n",
       " 2 2020-12-25 11:18:56 -0.778648  51  0.928037  \n",
       " 3 2020-12-26 11:18:56  1.582262  34  0.307910  ,\n",
       " 'sheet_two':            a      b       c  d          i  r       s                   t  \\\n",
       " 0  32.334172   True   large  0  16.249854  0    male 2020-12-23 11:18:56   \n",
       " 1  50.138266  False   large  0  46.644675  0  female 2020-12-24 11:18:56   \n",
       " 2  20.804545   True  medium  0  60.421050  1  female 2020-12-25 11:18:56   \n",
       " 3  20.671584  False   large  0  27.130328  1    male 2020-12-26 11:18:56   \n",
       " \n",
       "                     u         x   y         z  \n",
       " 0 2020-12-23 11:18:56  0.567531  29  0.798689  \n",
       " 1 2020-12-24 11:18:56 -0.137355  28  0.144155  \n",
       " 2 2020-12-25 11:18:56 -0.059044  44  0.519841  \n",
       " 3 2020-12-26 11:18:56 -0.699673  26  0.284643  ,\n",
       " 'sheet_three':            a      b      c  d          i  r       s                   t  \\\n",
       " 0  59.702915  False  small  0  32.828658  1    male 2020-12-23 11:18:56   \n",
       " 1  44.533051   True  small  0  68.855374  1  female 2020-12-24 11:18:56   \n",
       " 2  52.623384  False  small  0  24.618417  0    male 2020-12-25 11:18:56   \n",
       " 3  60.674343  False  large  0  69.022784  0    male 2020-12-26 11:18:56   \n",
       " \n",
       "                     u         x   y         z  \n",
       " 0 2020-12-23 11:18:56  0.183826  30  0.096997  \n",
       " 1 2020-12-24 11:18:56 -0.497217  37  0.818054  \n",
       " 2 2020-12-25 11:18:56 -0.503530  39  0.119988  \n",
       " 3 2020-12-26 11:18:56  0.286587  25  0.880388  }"
      ]
     },
     "execution_count": 22,
     "metadata": {},
     "output_type": "execute_result"
    }
   ],
   "source": [
    "df_workbook"
   ]
  },
  {
   "cell_type": "code",
   "execution_count": 23,
   "metadata": {},
   "outputs": [
    {
     "data": {
      "text/plain": [
       "dict_keys(['sheet_one', 'sheet_two', 'sheet_three'])"
      ]
     },
     "execution_count": 23,
     "metadata": {},
     "output_type": "execute_result"
    }
   ],
   "source": [
    "df_workbook.keys()"
   ]
  },
  {
   "cell_type": "code",
   "execution_count": 24,
   "metadata": {},
   "outputs": [
    {
     "data": {
      "text/html": [
       "<div>\n",
       "<style scoped>\n",
       "    .dataframe tbody tr th:only-of-type {\n",
       "        vertical-align: middle;\n",
       "    }\n",
       "\n",
       "    .dataframe tbody tr th {\n",
       "        vertical-align: top;\n",
       "    }\n",
       "\n",
       "    .dataframe thead th {\n",
       "        text-align: right;\n",
       "    }\n",
       "</style>\n",
       "<table border=\"1\" class=\"dataframe\">\n",
       "  <thead>\n",
       "    <tr style=\"text-align: right;\">\n",
       "      <th></th>\n",
       "      <th>a</th>\n",
       "      <th>b</th>\n",
       "      <th>c</th>\n",
       "      <th>d</th>\n",
       "      <th>i</th>\n",
       "      <th>r</th>\n",
       "      <th>s</th>\n",
       "      <th>t</th>\n",
       "      <th>u</th>\n",
       "      <th>x</th>\n",
       "      <th>y</th>\n",
       "      <th>z</th>\n",
       "    </tr>\n",
       "  </thead>\n",
       "  <tbody>\n",
       "    <tr>\n",
       "      <th>0</th>\n",
       "      <td>57.002856</td>\n",
       "      <td>False</td>\n",
       "      <td>medium</td>\n",
       "      <td>0</td>\n",
       "      <td>60.454865</td>\n",
       "      <td>1</td>\n",
       "      <td>female</td>\n",
       "      <td>2020-12-23 11:18:56</td>\n",
       "      <td>2020-12-23 11:18:56</td>\n",
       "      <td>0.225280</td>\n",
       "      <td>64</td>\n",
       "      <td>0.185316</td>\n",
       "    </tr>\n",
       "    <tr>\n",
       "      <th>1</th>\n",
       "      <td>18.813314</td>\n",
       "      <td>False</td>\n",
       "      <td>large</td>\n",
       "      <td>0</td>\n",
       "      <td>15.527803</td>\n",
       "      <td>1</td>\n",
       "      <td>female</td>\n",
       "      <td>2020-12-24 11:18:56</td>\n",
       "      <td>2020-12-24 11:18:56</td>\n",
       "      <td>-2.358112</td>\n",
       "      <td>13</td>\n",
       "      <td>0.088672</td>\n",
       "    </tr>\n",
       "  </tbody>\n",
       "</table>\n",
       "</div>"
      ],
      "text/plain": [
       "           a      b       c  d          i  r       s                   t  \\\n",
       "0  57.002856  False  medium  0  60.454865  1  female 2020-12-23 11:18:56   \n",
       "1  18.813314  False   large  0  15.527803  1  female 2020-12-24 11:18:56   \n",
       "\n",
       "                    u         x   y         z  \n",
       "0 2020-12-23 11:18:56  0.225280  64  0.185316  \n",
       "1 2020-12-24 11:18:56 -2.358112  13  0.088672  "
      ]
     },
     "execution_count": 24,
     "metadata": {},
     "output_type": "execute_result"
    }
   ],
   "source": [
    "df_01 = df_workbook['sheet_one']\n",
    "df_01.head(2)"
   ]
  },
  {
   "cell_type": "code",
   "execution_count": 25,
   "metadata": {},
   "outputs": [
    {
     "data": {
      "text/plain": [
       "a           float64\n",
       "b              bool\n",
       "c            object\n",
       "d             int64\n",
       "i           float64\n",
       "r             int64\n",
       "s            object\n",
       "t    datetime64[ns]\n",
       "u    datetime64[ns]\n",
       "x           float64\n",
       "y             int64\n",
       "z           float64\n",
       "dtype: object"
      ]
     },
     "execution_count": 25,
     "metadata": {},
     "output_type": "execute_result"
    }
   ],
   "source": [
    "df_01.dtypes"
   ]
  },
  {
   "cell_type": "code",
   "execution_count": 26,
   "metadata": {},
   "outputs": [
    {
     "name": "stdout",
     "output_type": "stream",
     "text": [
      "sheet_one\n",
      "sheet_two\n",
      "sheet_three\n"
     ]
    }
   ],
   "source": [
    "for key in df_workbook.keys():\n",
    "    print(key)"
   ]
  },
  {
   "cell_type": "code",
   "execution_count": 27,
   "metadata": {},
   "outputs": [
    {
     "data": {
      "text/html": [
       "<div>\n",
       "<style scoped>\n",
       "    .dataframe tbody tr th:only-of-type {\n",
       "        vertical-align: middle;\n",
       "    }\n",
       "\n",
       "    .dataframe tbody tr th {\n",
       "        vertical-align: top;\n",
       "    }\n",
       "\n",
       "    .dataframe thead th {\n",
       "        text-align: right;\n",
       "    }\n",
       "</style>\n",
       "<table border=\"1\" class=\"dataframe\">\n",
       "  <thead>\n",
       "    <tr style=\"text-align: right;\">\n",
       "      <th></th>\n",
       "      <th>a</th>\n",
       "      <th>b</th>\n",
       "      <th>c</th>\n",
       "      <th>d</th>\n",
       "      <th>i</th>\n",
       "      <th>r</th>\n",
       "      <th>s</th>\n",
       "      <th>t</th>\n",
       "      <th>u</th>\n",
       "      <th>x</th>\n",
       "      <th>y</th>\n",
       "      <th>z</th>\n",
       "    </tr>\n",
       "  </thead>\n",
       "  <tbody>\n",
       "    <tr>\n",
       "      <th>0</th>\n",
       "      <td>59.702915</td>\n",
       "      <td>False</td>\n",
       "      <td>small</td>\n",
       "      <td>0</td>\n",
       "      <td>32.828658</td>\n",
       "      <td>1</td>\n",
       "      <td>male</td>\n",
       "      <td>2020-12-23 11:18:56</td>\n",
       "      <td>2020-12-23 11:18:56</td>\n",
       "      <td>0.183826</td>\n",
       "      <td>30</td>\n",
       "      <td>0.096997</td>\n",
       "    </tr>\n",
       "    <tr>\n",
       "      <th>1</th>\n",
       "      <td>44.533051</td>\n",
       "      <td>True</td>\n",
       "      <td>small</td>\n",
       "      <td>0</td>\n",
       "      <td>68.855374</td>\n",
       "      <td>1</td>\n",
       "      <td>female</td>\n",
       "      <td>2020-12-24 11:18:56</td>\n",
       "      <td>2020-12-24 11:18:56</td>\n",
       "      <td>-0.497217</td>\n",
       "      <td>37</td>\n",
       "      <td>0.818054</td>\n",
       "    </tr>\n",
       "    <tr>\n",
       "      <th>2</th>\n",
       "      <td>52.623384</td>\n",
       "      <td>False</td>\n",
       "      <td>small</td>\n",
       "      <td>0</td>\n",
       "      <td>24.618417</td>\n",
       "      <td>0</td>\n",
       "      <td>male</td>\n",
       "      <td>2020-12-25 11:18:56</td>\n",
       "      <td>2020-12-25 11:18:56</td>\n",
       "      <td>-0.503530</td>\n",
       "      <td>39</td>\n",
       "      <td>0.119988</td>\n",
       "    </tr>\n",
       "    <tr>\n",
       "      <th>3</th>\n",
       "      <td>60.674343</td>\n",
       "      <td>False</td>\n",
       "      <td>large</td>\n",
       "      <td>0</td>\n",
       "      <td>69.022784</td>\n",
       "      <td>0</td>\n",
       "      <td>male</td>\n",
       "      <td>2020-12-26 11:18:56</td>\n",
       "      <td>2020-12-26 11:18:56</td>\n",
       "      <td>0.286587</td>\n",
       "      <td>25</td>\n",
       "      <td>0.880388</td>\n",
       "    </tr>\n",
       "  </tbody>\n",
       "</table>\n",
       "</div>"
      ],
      "text/plain": [
       "           a      b      c  d          i  r       s                   t  \\\n",
       "0  59.702915  False  small  0  32.828658  1    male 2020-12-23 11:18:56   \n",
       "1  44.533051   True  small  0  68.855374  1  female 2020-12-24 11:18:56   \n",
       "2  52.623384  False  small  0  24.618417  0    male 2020-12-25 11:18:56   \n",
       "3  60.674343  False  large  0  69.022784  0    male 2020-12-26 11:18:56   \n",
       "\n",
       "                    u         x   y         z  \n",
       "0 2020-12-23 11:18:56  0.183826  30  0.096997  \n",
       "1 2020-12-24 11:18:56 -0.497217  37  0.818054  \n",
       "2 2020-12-25 11:18:56 -0.503530  39  0.119988  \n",
       "3 2020-12-26 11:18:56  0.286587  25  0.880388  "
      ]
     },
     "execution_count": 27,
     "metadata": {},
     "output_type": "execute_result"
    }
   ],
   "source": [
    "df_01 = df_workbook[key]\n",
    "df_01.head()"
   ]
  },
  {
   "cell_type": "code",
   "execution_count": 28,
   "metadata": {},
   "outputs": [
    {
     "data": {
      "text/plain": [
       "a           float64\n",
       "b              bool\n",
       "c            object\n",
       "d             int64\n",
       "i           float64\n",
       "r             int64\n",
       "s            object\n",
       "t    datetime64[ns]\n",
       "u    datetime64[ns]\n",
       "x           float64\n",
       "y             int64\n",
       "z           float64\n",
       "dtype: object"
      ]
     },
     "execution_count": 28,
     "metadata": {},
     "output_type": "execute_result"
    }
   ],
   "source": [
    "df_01.dtypes"
   ]
  },
  {
   "cell_type": "markdown",
   "metadata": {},
   "source": [
    "# References\n",
    "\n",
    "- [pandas to_excel](https://pandas.pydata.org/pandas-docs/stable/generated/pandas.DataFrame.to_excel.html)\n",
    "\n",
    "- [pandas to_csv](https://pandas.pydata.org/pandas-docs/stable/generated/pandas.DataFrame.to_csv.html)\n",
    "\n",
    "- [pandas API reference](https://pandas.pydata.org/pandas-docs/stable/api.html)\n",
    "\n",
    "- [pandas DataFrame](https://pandas.pydata.org/pandas-docs/stable/generated/pandas.DataFrame.html)"
   ]
  }
 ],
 "metadata": {
  "kernelspec": {
   "display_name": "Python 3",
   "language": "python",
   "name": "python3"
  },
  "language_info": {
   "codemirror_mode": {
    "name": "ipython",
    "version": 3
   },
   "file_extension": ".py",
   "mimetype": "text/x-python",
   "name": "python",
   "nbconvert_exporter": "python",
   "pygments_lexer": "ipython3",
   "version": "3.9.1"
  },
  "varInspector": {
   "cols": {
    "lenName": 16,
    "lenType": 16,
    "lenVar": 40
   },
   "kernels_config": {
    "python": {
     "delete_cmd_postfix": "",
     "delete_cmd_prefix": "del ",
     "library": "var_list.py",
     "varRefreshCmd": "print(var_dic_list())"
    },
    "r": {
     "delete_cmd_postfix": ") ",
     "delete_cmd_prefix": "rm(",
     "library": "var_list.r",
     "varRefreshCmd": "cat(var_dic_list()) "
    }
   },
   "types_to_exclude": [
    "module",
    "function",
    "builtin_function_or_method",
    "instance",
    "_Feature"
   ],
   "window_display": false
  }
 },
 "nbformat": 4,
 "nbformat_minor": 2
}
