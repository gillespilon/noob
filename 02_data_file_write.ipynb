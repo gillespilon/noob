{
 "cells": [
  {
   "cell_type": "markdown",
   "metadata": {},
   "source": [
    "# Writing a data file"
   ]
  },
  {
   "cell_type": "markdown",
   "metadata": {},
   "source": [
    "# Document\n",
    "\n",
    "<table align=\"left\">\n",
    "    <tr>\n",
    "        <th class=\"text-align:left\">Title</th>\n",
    "        <td class=\"text-align:left\">Saving a data file</td>\n",
    "    </tr>\n",
    "    <tr>\n",
    "        <th class=\"text-align:left\">Last modified</th>\n",
    "        <td class=\"text-align:left\">2020-12-23</td>\n",
    "    </tr>\n",
    "    <tr>\n",
    "        <th class=\"text-align:left\">Author</th>\n",
    "        <td class=\"text-align:left\">Gilles Pilon <gillespilon13@gmail.com></td>\n",
    "    </tr>\n",
    "    <tr>\n",
    "        <th class=\"text-align:left\">Status</th>\n",
    "        <td class=\"text-align:left\">Active</td>\n",
    "    </tr>\n",
    "    <tr>\n",
    "        <th class=\"text-align:left\">Type</th>\n",
    "        <td class=\"text-align:left\">Jupyter notebook</td>\n",
    "    </tr>\n",
    "    <tr>\n",
    "        <th class=\"text-align:left\">Created</th>\n",
    "        <td class=\"text-align:left\">2018-12-21</td>\n",
    "    </tr>\n",
    "    <tr>\n",
    "        <th class=\"text-align:left\">File name</th>\n",
    "        <td class=\"text-align:left\">02_data_file_write.ipynb</td>\n",
    "    </tr>\n",
    "    <tr>\n",
    "        <th class=\"text-align:left\">Other files required</th>\n",
    "        <td class=\"text-align:left\">data/cloquet_two_weeks_60_min.csv<br />\n",
    "                                    data/cloquet_two_weeks_30_min.csv<br />\n",
    "                                    data/cloquet_two_weeks_15_min.csv\n",
    "        </td>\n",
    "    </tr>\n",
    "</table>"
   ]
  },
  {
   "cell_type": "markdown",
   "metadata": {},
   "source": [
    "# Introduction\n",
    "\n",
    "- Write a dataframe to a csv file\n",
    "- Write a dataframe to an Excel file with one worksheet\n",
    "- Write several dataframes to an Excel file with multiple worksheets"
   ]
  },
  {
   "cell_type": "markdown",
   "metadata": {},
   "source": [
    "# Import libraries"
   ]
  },
  {
   "cell_type": "code",
   "execution_count": 1,
   "metadata": {},
   "outputs": [],
   "source": [
    "from openpyxl.utils.dataframe import dataframe_to_rows\n",
    "from openpyxl import load_workbook\n",
    "from openpyxl import Workbook\n",
    "import datasense as ds\n",
    "import pandas as pd"
   ]
  },
  {
   "cell_type": "markdown",
   "metadata": {},
   "source": [
    "# Create three dataframes"
   ]
  },
  {
   "cell_type": "code",
   "execution_count": 2,
   "metadata": {},
   "outputs": [],
   "source": [
    "size = 4"
   ]
  },
  {
   "cell_type": "code",
   "execution_count": 3,
   "metadata": {},
   "outputs": [],
   "source": [
    "df1 = ds.create_dataframe(size=size)\n",
    "df2 = ds.create_dataframe(size=size)\n",
    "df3 = ds.create_dataframe(size=size)"
   ]
  },
  {
   "cell_type": "code",
   "execution_count": 4,
   "metadata": {},
   "outputs": [
    {
     "data": {
      "text/html": [
       "<div>\n",
       "<style scoped>\n",
       "    .dataframe tbody tr th:only-of-type {\n",
       "        vertical-align: middle;\n",
       "    }\n",
       "\n",
       "    .dataframe tbody tr th {\n",
       "        vertical-align: top;\n",
       "    }\n",
       "\n",
       "    .dataframe thead th {\n",
       "        text-align: right;\n",
       "    }\n",
       "</style>\n",
       "<table border=\"1\" class=\"dataframe\">\n",
       "  <thead>\n",
       "    <tr style=\"text-align: right;\">\n",
       "      <th></th>\n",
       "      <th>a</th>\n",
       "      <th>b</th>\n",
       "      <th>c</th>\n",
       "      <th>d</th>\n",
       "      <th>i</th>\n",
       "      <th>r</th>\n",
       "      <th>s</th>\n",
       "      <th>t</th>\n",
       "      <th>u</th>\n",
       "      <th>x</th>\n",
       "      <th>y</th>\n",
       "      <th>z</th>\n",
       "    </tr>\n",
       "  </thead>\n",
       "  <tbody>\n",
       "    <tr>\n",
       "      <th>0</th>\n",
       "      <td>73.275838</td>\n",
       "      <td>False</td>\n",
       "      <td>small</td>\n",
       "      <td>0 days</td>\n",
       "      <td>19.243484</td>\n",
       "      <td>0</td>\n",
       "      <td>male</td>\n",
       "      <td>2020-12-23 13:14:00</td>\n",
       "      <td>2020-12-23 13:14:00</td>\n",
       "      <td>0.007606</td>\n",
       "      <td>32</td>\n",
       "      <td>0.727518</td>\n",
       "    </tr>\n",
       "    <tr>\n",
       "      <th>1</th>\n",
       "      <td>65.844691</td>\n",
       "      <td>False</td>\n",
       "      <td>large</td>\n",
       "      <td>0 days</td>\n",
       "      <td>81.355234</td>\n",
       "      <td>1</td>\n",
       "      <td>female</td>\n",
       "      <td>2020-12-24 13:14:00</td>\n",
       "      <td>2020-12-24 13:14:00</td>\n",
       "      <td>0.049797</td>\n",
       "      <td>27</td>\n",
       "      <td>0.410780</td>\n",
       "    </tr>\n",
       "  </tbody>\n",
       "</table>\n",
       "</div>"
      ],
      "text/plain": [
       "           a      b      c      d          i  r       s                   t  \\\n",
       "0  73.275838  False  small 0 days  19.243484  0    male 2020-12-23 13:14:00   \n",
       "1  65.844691  False  large 0 days  81.355234  1  female 2020-12-24 13:14:00   \n",
       "\n",
       "                    u         x   y         z  \n",
       "0 2020-12-23 13:14:00  0.007606  32  0.727518  \n",
       "1 2020-12-24 13:14:00  0.049797  27  0.410780  "
      ]
     },
     "execution_count": 4,
     "metadata": {},
     "output_type": "execute_result"
    }
   ],
   "source": [
    "df1.head(2)"
   ]
  },
  {
   "cell_type": "code",
   "execution_count": 5,
   "metadata": {},
   "outputs": [
    {
     "data": {
      "text/plain": [
       "a            float64\n",
       "b            boolean\n",
       "c           category\n",
       "d    timedelta64[ns]\n",
       "i            float64\n",
       "r             object\n",
       "s             object\n",
       "t     datetime64[ns]\n",
       "u     datetime64[ns]\n",
       "x            float64\n",
       "y              Int64\n",
       "z            float64\n",
       "dtype: object"
      ]
     },
     "execution_count": 5,
     "metadata": {},
     "output_type": "execute_result"
    }
   ],
   "source": [
    "df1.dtypes"
   ]
  },
  {
   "cell_type": "markdown",
   "metadata": {},
   "source": [
    "# Write a dataframe to a csv file"
   ]
  },
  {
   "cell_type": "code",
   "execution_count": 6,
   "metadata": {},
   "outputs": [],
   "source": [
    "ds.save_file(\n",
    "    df=df1,\n",
    "    file_name='data/just_a_test.csv'\n",
    ")"
   ]
  },
  {
   "cell_type": "code",
   "execution_count": 7,
   "metadata": {},
   "outputs": [],
   "source": [
    "just_a_test = ds.read_file(\n",
    "    file_name='data/just_a_test.csv'\n",
    ")"
   ]
  },
  {
   "cell_type": "code",
   "execution_count": 8,
   "metadata": {},
   "outputs": [
    {
     "data": {
      "text/html": [
       "<div>\n",
       "<style scoped>\n",
       "    .dataframe tbody tr th:only-of-type {\n",
       "        vertical-align: middle;\n",
       "    }\n",
       "\n",
       "    .dataframe tbody tr th {\n",
       "        vertical-align: top;\n",
       "    }\n",
       "\n",
       "    .dataframe thead th {\n",
       "        text-align: right;\n",
       "    }\n",
       "</style>\n",
       "<table border=\"1\" class=\"dataframe\">\n",
       "  <thead>\n",
       "    <tr style=\"text-align: right;\">\n",
       "      <th></th>\n",
       "      <th>a</th>\n",
       "      <th>b</th>\n",
       "      <th>c</th>\n",
       "      <th>d</th>\n",
       "      <th>i</th>\n",
       "      <th>r</th>\n",
       "      <th>s</th>\n",
       "      <th>t</th>\n",
       "      <th>u</th>\n",
       "      <th>x</th>\n",
       "      <th>y</th>\n",
       "      <th>z</th>\n",
       "    </tr>\n",
       "  </thead>\n",
       "  <tbody>\n",
       "    <tr>\n",
       "      <th>0</th>\n",
       "      <td>73.275838</td>\n",
       "      <td>False</td>\n",
       "      <td>small</td>\n",
       "      <td>0 days</td>\n",
       "      <td>19.243484</td>\n",
       "      <td>0</td>\n",
       "      <td>male</td>\n",
       "      <td>2020-12-23 13:14:00</td>\n",
       "      <td>2020-12-23 13:14:00</td>\n",
       "      <td>0.007606</td>\n",
       "      <td>32</td>\n",
       "      <td>0.727518</td>\n",
       "    </tr>\n",
       "    <tr>\n",
       "      <th>1</th>\n",
       "      <td>65.844691</td>\n",
       "      <td>False</td>\n",
       "      <td>large</td>\n",
       "      <td>0 days</td>\n",
       "      <td>81.355234</td>\n",
       "      <td>1</td>\n",
       "      <td>female</td>\n",
       "      <td>2020-12-24 13:14:00</td>\n",
       "      <td>2020-12-24 13:14:00</td>\n",
       "      <td>0.049797</td>\n",
       "      <td>27</td>\n",
       "      <td>0.410780</td>\n",
       "    </tr>\n",
       "  </tbody>\n",
       "</table>\n",
       "</div>"
      ],
      "text/plain": [
       "           a      b      c       d          i  r       s                    t  \\\n",
       "0  73.275838  False  small  0 days  19.243484  0    male  2020-12-23 13:14:00   \n",
       "1  65.844691  False  large  0 days  81.355234  1  female  2020-12-24 13:14:00   \n",
       "\n",
       "                     u         x   y         z  \n",
       "0  2020-12-23 13:14:00  0.007606  32  0.727518  \n",
       "1  2020-12-24 13:14:00  0.049797  27  0.410780  "
      ]
     },
     "execution_count": 8,
     "metadata": {},
     "output_type": "execute_result"
    }
   ],
   "source": [
    "just_a_test.head(2)"
   ]
  },
  {
   "cell_type": "code",
   "execution_count": 9,
   "metadata": {},
   "outputs": [
    {
     "data": {
      "text/plain": [
       "a    float64\n",
       "b       bool\n",
       "c     object\n",
       "d     object\n",
       "i    float64\n",
       "r      int64\n",
       "s     object\n",
       "t     object\n",
       "u     object\n",
       "x    float64\n",
       "y      int64\n",
       "z    float64\n",
       "dtype: object"
      ]
     },
     "execution_count": 9,
     "metadata": {},
     "output_type": "execute_result"
    }
   ],
   "source": [
    "just_a_test.dtypes"
   ]
  },
  {
   "cell_type": "markdown",
   "metadata": {},
   "source": [
    "## Fix dtypes on import"
   ]
  },
  {
   "cell_type": "code",
   "execution_count": 10,
   "metadata": {},
   "outputs": [],
   "source": [
    "convert_dict = {\n",
    "    'b': 'boolean',\n",
    "    'c': 'category',\n",
    "    'r': 'str',\n",
    "    'y': 'Int64'\n",
    "}\n",
    "parse_dates = ['t', 'u']\n",
    "time_delta_columns = ['d']\n",
    "just_a_test = ds.read_file(\n",
    "    file_name='data/just_a_test.csv',\n",
    "    dtype=convert_dict,\n",
    "    parse_dates=parse_dates,\n",
    "    time_delta_columns=time_delta_columns\n",
    ")"
   ]
  },
  {
   "cell_type": "code",
   "execution_count": 11,
   "metadata": {},
   "outputs": [
    {
     "data": {
      "text/html": [
       "<div>\n",
       "<style scoped>\n",
       "    .dataframe tbody tr th:only-of-type {\n",
       "        vertical-align: middle;\n",
       "    }\n",
       "\n",
       "    .dataframe tbody tr th {\n",
       "        vertical-align: top;\n",
       "    }\n",
       "\n",
       "    .dataframe thead th {\n",
       "        text-align: right;\n",
       "    }\n",
       "</style>\n",
       "<table border=\"1\" class=\"dataframe\">\n",
       "  <thead>\n",
       "    <tr style=\"text-align: right;\">\n",
       "      <th></th>\n",
       "      <th>a</th>\n",
       "      <th>b</th>\n",
       "      <th>c</th>\n",
       "      <th>d</th>\n",
       "      <th>i</th>\n",
       "      <th>r</th>\n",
       "      <th>s</th>\n",
       "      <th>t</th>\n",
       "      <th>u</th>\n",
       "      <th>x</th>\n",
       "      <th>y</th>\n",
       "      <th>z</th>\n",
       "    </tr>\n",
       "  </thead>\n",
       "  <tbody>\n",
       "    <tr>\n",
       "      <th>0</th>\n",
       "      <td>73.275838</td>\n",
       "      <td>False</td>\n",
       "      <td>small</td>\n",
       "      <td>0 days</td>\n",
       "      <td>19.243484</td>\n",
       "      <td>0</td>\n",
       "      <td>male</td>\n",
       "      <td>2020-12-23 13:14:00</td>\n",
       "      <td>2020-12-23 13:14:00</td>\n",
       "      <td>0.007606</td>\n",
       "      <td>32</td>\n",
       "      <td>0.727518</td>\n",
       "    </tr>\n",
       "    <tr>\n",
       "      <th>1</th>\n",
       "      <td>65.844691</td>\n",
       "      <td>False</td>\n",
       "      <td>large</td>\n",
       "      <td>0 days</td>\n",
       "      <td>81.355234</td>\n",
       "      <td>1</td>\n",
       "      <td>female</td>\n",
       "      <td>2020-12-24 13:14:00</td>\n",
       "      <td>2020-12-24 13:14:00</td>\n",
       "      <td>0.049797</td>\n",
       "      <td>27</td>\n",
       "      <td>0.410780</td>\n",
       "    </tr>\n",
       "  </tbody>\n",
       "</table>\n",
       "</div>"
      ],
      "text/plain": [
       "           a      b      c      d          i  r       s                   t  \\\n",
       "0  73.275838  False  small 0 days  19.243484  0    male 2020-12-23 13:14:00   \n",
       "1  65.844691  False  large 0 days  81.355234  1  female 2020-12-24 13:14:00   \n",
       "\n",
       "                    u         x   y         z  \n",
       "0 2020-12-23 13:14:00  0.007606  32  0.727518  \n",
       "1 2020-12-24 13:14:00  0.049797  27  0.410780  "
      ]
     },
     "execution_count": 11,
     "metadata": {},
     "output_type": "execute_result"
    }
   ],
   "source": [
    "just_a_test.head(2)"
   ]
  },
  {
   "cell_type": "code",
   "execution_count": 12,
   "metadata": {},
   "outputs": [
    {
     "data": {
      "text/plain": [
       "a            float64\n",
       "b            boolean\n",
       "c           category\n",
       "d    timedelta64[ns]\n",
       "i            float64\n",
       "r             object\n",
       "s             object\n",
       "t     datetime64[ns]\n",
       "u     datetime64[ns]\n",
       "x            float64\n",
       "y              Int64\n",
       "z            float64\n",
       "dtype: object"
      ]
     },
     "execution_count": 12,
     "metadata": {},
     "output_type": "execute_result"
    }
   ],
   "source": [
    "just_a_test.dtypes"
   ]
  },
  {
   "cell_type": "markdown",
   "metadata": {},
   "source": [
    "## Write dataframes to an Excel workbook"
   ]
  },
  {
   "cell_type": "code",
   "execution_count": 13,
   "metadata": {},
   "outputs": [],
   "source": [
    "path = 'data/even_another_file.xlsx'\n",
    "engine = 'openpyxl'\n",
    "with pd.ExcelWriter(path=path, engine=engine) as writer:\n",
    "    df1.to_excel(\n",
    "        excel_writer=writer,\n",
    "        sheet_name='sheet_one',\n",
    "        index=False\n",
    "    )\n",
    "    df2.to_excel(\n",
    "        excel_writer=writer,\n",
    "        sheet_name='sheet_two',\n",
    "        index=False\n",
    "    )\n",
    "    df3.to_excel(\n",
    "        excel_writer=writer,\n",
    "        sheet_name='sheet_three',\n",
    "        index=False\n",
    "    )\n",
    "writer.save()"
   ]
  },
  {
   "cell_type": "code",
   "execution_count": 14,
   "metadata": {},
   "outputs": [
    {
     "data": {
      "text/plain": [
       "['sheet_one', 'sheet_two', 'sheet_three']"
      ]
     },
     "execution_count": 14,
     "metadata": {},
     "output_type": "execute_result"
    }
   ],
   "source": [
    "wb2 = load_workbook(filename='data/even_another_file.xlsx')\n",
    "wb2.sheetnames"
   ]
  },
  {
   "cell_type": "markdown",
   "metadata": {},
   "source": [
    "## Read worksheets from an Excel workbook"
   ]
  },
  {
   "cell_type": "code",
   "execution_count": 15,
   "metadata": {},
   "outputs": [],
   "source": [
    "ws1 = wb2['sheet_one']\n",
    "from itertools import islice\n",
    "data = ws1.values\n",
    "cols = next(data)[:]\n",
    "data = list(data)\n",
    "# idx = [row[0] for row in data]\n",
    "data = (islice(row, None) for row in data)\n",
    "df_one = pd.DataFrame(data, columns=cols)"
   ]
  },
  {
   "cell_type": "code",
   "execution_count": 16,
   "metadata": {},
   "outputs": [
    {
     "data": {
      "text/html": [
       "<div>\n",
       "<style scoped>\n",
       "    .dataframe tbody tr th:only-of-type {\n",
       "        vertical-align: middle;\n",
       "    }\n",
       "\n",
       "    .dataframe tbody tr th {\n",
       "        vertical-align: top;\n",
       "    }\n",
       "\n",
       "    .dataframe thead th {\n",
       "        text-align: right;\n",
       "    }\n",
       "</style>\n",
       "<table border=\"1\" class=\"dataframe\">\n",
       "  <thead>\n",
       "    <tr style=\"text-align: right;\">\n",
       "      <th></th>\n",
       "      <th>a</th>\n",
       "      <th>b</th>\n",
       "      <th>c</th>\n",
       "      <th>d</th>\n",
       "      <th>i</th>\n",
       "      <th>r</th>\n",
       "      <th>s</th>\n",
       "      <th>t</th>\n",
       "      <th>u</th>\n",
       "      <th>x</th>\n",
       "      <th>y</th>\n",
       "      <th>z</th>\n",
       "    </tr>\n",
       "  </thead>\n",
       "  <tbody>\n",
       "    <tr>\n",
       "      <th>0</th>\n",
       "      <td>73.275838</td>\n",
       "      <td>False</td>\n",
       "      <td>small</td>\n",
       "      <td>0</td>\n",
       "      <td>19.243484</td>\n",
       "      <td>0</td>\n",
       "      <td>male</td>\n",
       "      <td>2020-12-23 13:14:00</td>\n",
       "      <td>2020-12-23 13:14:00</td>\n",
       "      <td>0.007606</td>\n",
       "      <td>32</td>\n",
       "      <td>0.727518</td>\n",
       "    </tr>\n",
       "    <tr>\n",
       "      <th>1</th>\n",
       "      <td>65.844691</td>\n",
       "      <td>False</td>\n",
       "      <td>large</td>\n",
       "      <td>0</td>\n",
       "      <td>81.355234</td>\n",
       "      <td>1</td>\n",
       "      <td>female</td>\n",
       "      <td>2020-12-24 13:14:00</td>\n",
       "      <td>2020-12-24 13:14:00</td>\n",
       "      <td>0.049797</td>\n",
       "      <td>27</td>\n",
       "      <td>0.410780</td>\n",
       "    </tr>\n",
       "  </tbody>\n",
       "</table>\n",
       "</div>"
      ],
      "text/plain": [
       "           a      b      c  d          i  r       s                   t  \\\n",
       "0  73.275838  False  small  0  19.243484  0    male 2020-12-23 13:14:00   \n",
       "1  65.844691  False  large  0  81.355234  1  female 2020-12-24 13:14:00   \n",
       "\n",
       "                    u         x   y         z  \n",
       "0 2020-12-23 13:14:00  0.007606  32  0.727518  \n",
       "1 2020-12-24 13:14:00  0.049797  27  0.410780  "
      ]
     },
     "execution_count": 16,
     "metadata": {},
     "output_type": "execute_result"
    }
   ],
   "source": [
    "df_one.head(2)"
   ]
  },
  {
   "cell_type": "code",
   "execution_count": 17,
   "metadata": {},
   "outputs": [
    {
     "data": {
      "text/plain": [
       "a           float64\n",
       "b              bool\n",
       "c            object\n",
       "d             int64\n",
       "i           float64\n",
       "r            object\n",
       "s            object\n",
       "t    datetime64[ns]\n",
       "u    datetime64[ns]\n",
       "x           float64\n",
       "y             int64\n",
       "z           float64\n",
       "dtype: object"
      ]
     },
     "execution_count": 17,
     "metadata": {},
     "output_type": "execute_result"
    }
   ],
   "source": [
    "df_one.dtypes"
   ]
  },
  {
   "cell_type": "code",
   "execution_count": 18,
   "metadata": {},
   "outputs": [],
   "source": [
    "convert_dict = {\n",
    "    'b': 'boolean',\n",
    "    'c': 'category',\n",
    "    'y': 'Int64'\n",
    "}\n",
    "time_delta_columns = ['d']"
   ]
  },
  {
   "cell_type": "code",
   "execution_count": 19,
   "metadata": {},
   "outputs": [],
   "source": [
    "df_one = df_one.astype(convert_dict)\n",
    "for column in time_delta_columns:\n",
    "    df_one[column] = pd.to_timedelta(df_one[column])"
   ]
  },
  {
   "cell_type": "code",
   "execution_count": 20,
   "metadata": {},
   "outputs": [
    {
     "data": {
      "text/plain": [
       "a            float64\n",
       "b            boolean\n",
       "c           category\n",
       "d    timedelta64[ns]\n",
       "i            float64\n",
       "r             object\n",
       "s             object\n",
       "t     datetime64[ns]\n",
       "u     datetime64[ns]\n",
       "x            float64\n",
       "y              Int64\n",
       "z            float64\n",
       "dtype: object"
      ]
     },
     "execution_count": 20,
     "metadata": {},
     "output_type": "execute_result"
    }
   ],
   "source": [
    "df_one.dtypes"
   ]
  },
  {
   "cell_type": "code",
   "execution_count": 21,
   "metadata": {},
   "outputs": [],
   "source": [
    "ws2 = wb2['sheet_two']\n",
    "from itertools import islice\n",
    "data = ws2.values\n",
    "cols = next(data)[:]\n",
    "data = list(data)\n",
    "# idx = [row[0] for row in data]\n",
    "data = (islice(row, None) for row in data)\n",
    "df_two = pd.DataFrame(data, columns=cols)"
   ]
  },
  {
   "cell_type": "code",
   "execution_count": 22,
   "metadata": {},
   "outputs": [
    {
     "data": {
      "text/plain": [
       "a           float64\n",
       "b              bool\n",
       "c            object\n",
       "d             int64\n",
       "i           float64\n",
       "r            object\n",
       "s            object\n",
       "t    datetime64[ns]\n",
       "u    datetime64[ns]\n",
       "x           float64\n",
       "y             int64\n",
       "z           float64\n",
       "dtype: object"
      ]
     },
     "execution_count": 22,
     "metadata": {},
     "output_type": "execute_result"
    }
   ],
   "source": [
    "df_two.dtypes"
   ]
  },
  {
   "cell_type": "code",
   "execution_count": 23,
   "metadata": {},
   "outputs": [],
   "source": [
    "df_two = df_two.astype(convert_dict)\n",
    "for column in time_delta_columns:\n",
    "    df_two[column] = pd.to_timedelta(df_two[column])"
   ]
  },
  {
   "cell_type": "code",
   "execution_count": 24,
   "metadata": {},
   "outputs": [
    {
     "data": {
      "text/plain": [
       "a            float64\n",
       "b            boolean\n",
       "c           category\n",
       "d    timedelta64[ns]\n",
       "i            float64\n",
       "r             object\n",
       "s             object\n",
       "t     datetime64[ns]\n",
       "u     datetime64[ns]\n",
       "x            float64\n",
       "y              Int64\n",
       "z            float64\n",
       "dtype: object"
      ]
     },
     "execution_count": 24,
     "metadata": {},
     "output_type": "execute_result"
    }
   ],
   "source": [
    "df_two.dtypes"
   ]
  },
  {
   "cell_type": "code",
   "execution_count": 25,
   "metadata": {},
   "outputs": [],
   "source": [
    "ws3 = wb2['sheet_two']\n",
    "from itertools import islice\n",
    "data = ws3.values\n",
    "cols = next(data)[:]\n",
    "data = list(data)\n",
    "# idx = [row[0] for row in data]\n",
    "data = (islice(row, None) for row in data)\n",
    "df_three = pd.DataFrame(data, columns=cols)"
   ]
  },
  {
   "cell_type": "code",
   "execution_count": 26,
   "metadata": {},
   "outputs": [
    {
     "data": {
      "text/plain": [
       "a           float64\n",
       "b              bool\n",
       "c            object\n",
       "d             int64\n",
       "i           float64\n",
       "r            object\n",
       "s            object\n",
       "t    datetime64[ns]\n",
       "u    datetime64[ns]\n",
       "x           float64\n",
       "y             int64\n",
       "z           float64\n",
       "dtype: object"
      ]
     },
     "execution_count": 26,
     "metadata": {},
     "output_type": "execute_result"
    }
   ],
   "source": [
    "df_three.dtypes"
   ]
  },
  {
   "cell_type": "code",
   "execution_count": 27,
   "metadata": {},
   "outputs": [],
   "source": [
    "df_three = df_three.astype(convert_dict)\n",
    "for column in time_delta_columns:\n",
    "    df_three[column] = pd.to_timedelta(df_three[column])"
   ]
  },
  {
   "cell_type": "code",
   "execution_count": 28,
   "metadata": {},
   "outputs": [
    {
     "data": {
      "text/plain": [
       "a            float64\n",
       "b            boolean\n",
       "c           category\n",
       "d    timedelta64[ns]\n",
       "i            float64\n",
       "r             object\n",
       "s             object\n",
       "t     datetime64[ns]\n",
       "u     datetime64[ns]\n",
       "x            float64\n",
       "y              Int64\n",
       "z            float64\n",
       "dtype: object"
      ]
     },
     "execution_count": 28,
     "metadata": {},
     "output_type": "execute_result"
    }
   ],
   "source": [
    "df_three.dtypes"
   ]
  },
  {
   "cell_type": "markdown",
   "metadata": {},
   "source": [
    "## Read worksheets from an Excel workbook"
   ]
  },
  {
   "cell_type": "code",
   "execution_count": 29,
   "metadata": {},
   "outputs": [],
   "source": [
    "df_workbook = pd.read_excel(\n",
    "    io=path,\n",
    "    sheet_name=None,\n",
    "    engine='openpyxl'\n",
    ")"
   ]
  },
  {
   "cell_type": "code",
   "execution_count": 30,
   "metadata": {},
   "outputs": [
    {
     "data": {
      "text/plain": [
       "{'sheet_one':            a      b       c  d          i  r       s                   t  \\\n",
       " 0  73.275838  False   small  0  19.243484  0    male 2020-12-23 13:14:00   \n",
       " 1  65.844691  False   large  0  81.355234  1  female 2020-12-24 13:14:00   \n",
       " 2  35.343751   True   large  0  68.873317  1    male 2020-12-25 13:14:00   \n",
       " 3  47.497957  False  medium  0  66.646702  0  female 2020-12-26 13:14:00   \n",
       " \n",
       "                     u         x   y         z  \n",
       " 0 2020-12-23 13:14:00  0.007606  32  0.727518  \n",
       " 1 2020-12-24 13:14:00  0.049797  27  0.410780  \n",
       " 2 2020-12-25 13:14:00 -0.413870  13  0.634297  \n",
       " 3 2020-12-26 13:14:00  0.767391  62  0.532035  ,\n",
       " 'sheet_two':            a     b       c  d          i  r       s                   t  \\\n",
       " 0  14.409521  True   large  0  27.309143  0  female 2020-12-23 13:14:00   \n",
       " 1  36.621084  True   large  0  56.093995  1    male 2020-12-24 13:14:00   \n",
       " 2  37.566962  True  medium  0  76.940037  0    male 2020-12-25 13:14:00   \n",
       " 3  60.389591  True   small  0  63.091482  1    male 2020-12-26 13:14:00   \n",
       " \n",
       "                     u         x   y         z  \n",
       " 0 2020-12-23 13:14:00  0.118730  67  0.964025  \n",
       " 1 2020-12-24 13:14:00  0.744207  30  0.921763  \n",
       " 2 2020-12-25 13:14:00  0.270160  23  0.245814  \n",
       " 3 2020-12-26 13:14:00 -1.088153  32  0.300237  ,\n",
       " 'sheet_three':            a      b       c  d          i  r       s                   t  \\\n",
       " 0  73.711321   True  medium  0  82.819832  1    male 2020-12-23 13:14:00   \n",
       " 1  74.870770   True   large  0  26.355960  0  female 2020-12-24 13:14:00   \n",
       " 2  72.478425   True   large  0  30.319281  0    male 2020-12-25 13:14:00   \n",
       " 3  25.264526  False   large  0  21.849043  1  female 2020-12-26 13:14:00   \n",
       " \n",
       "                     u         x   y         z  \n",
       " 0 2020-12-23 13:14:00 -1.397890  36  0.618988  \n",
       " 1 2020-12-24 13:14:00  1.111683  37  0.766808  \n",
       " 2 2020-12-25 13:14:00  1.373472  16  0.190473  \n",
       " 3 2020-12-26 13:14:00 -0.582534  42  0.675817  }"
      ]
     },
     "execution_count": 30,
     "metadata": {},
     "output_type": "execute_result"
    }
   ],
   "source": [
    "df_workbook"
   ]
  },
  {
   "cell_type": "code",
   "execution_count": 31,
   "metadata": {},
   "outputs": [
    {
     "data": {
      "text/plain": [
       "dict_keys(['sheet_one', 'sheet_two', 'sheet_three'])"
      ]
     },
     "execution_count": 31,
     "metadata": {},
     "output_type": "execute_result"
    }
   ],
   "source": [
    "df_workbook.keys()"
   ]
  },
  {
   "cell_type": "code",
   "execution_count": 32,
   "metadata": {},
   "outputs": [
    {
     "data": {
      "text/html": [
       "<div>\n",
       "<style scoped>\n",
       "    .dataframe tbody tr th:only-of-type {\n",
       "        vertical-align: middle;\n",
       "    }\n",
       "\n",
       "    .dataframe tbody tr th {\n",
       "        vertical-align: top;\n",
       "    }\n",
       "\n",
       "    .dataframe thead th {\n",
       "        text-align: right;\n",
       "    }\n",
       "</style>\n",
       "<table border=\"1\" class=\"dataframe\">\n",
       "  <thead>\n",
       "    <tr style=\"text-align: right;\">\n",
       "      <th></th>\n",
       "      <th>a</th>\n",
       "      <th>b</th>\n",
       "      <th>c</th>\n",
       "      <th>d</th>\n",
       "      <th>i</th>\n",
       "      <th>r</th>\n",
       "      <th>s</th>\n",
       "      <th>t</th>\n",
       "      <th>u</th>\n",
       "      <th>x</th>\n",
       "      <th>y</th>\n",
       "      <th>z</th>\n",
       "    </tr>\n",
       "  </thead>\n",
       "  <tbody>\n",
       "    <tr>\n",
       "      <th>0</th>\n",
       "      <td>73.275838</td>\n",
       "      <td>False</td>\n",
       "      <td>small</td>\n",
       "      <td>0</td>\n",
       "      <td>19.243484</td>\n",
       "      <td>0</td>\n",
       "      <td>male</td>\n",
       "      <td>2020-12-23 13:14:00</td>\n",
       "      <td>2020-12-23 13:14:00</td>\n",
       "      <td>0.007606</td>\n",
       "      <td>32</td>\n",
       "      <td>0.727518</td>\n",
       "    </tr>\n",
       "    <tr>\n",
       "      <th>1</th>\n",
       "      <td>65.844691</td>\n",
       "      <td>False</td>\n",
       "      <td>large</td>\n",
       "      <td>0</td>\n",
       "      <td>81.355234</td>\n",
       "      <td>1</td>\n",
       "      <td>female</td>\n",
       "      <td>2020-12-24 13:14:00</td>\n",
       "      <td>2020-12-24 13:14:00</td>\n",
       "      <td>0.049797</td>\n",
       "      <td>27</td>\n",
       "      <td>0.410780</td>\n",
       "    </tr>\n",
       "  </tbody>\n",
       "</table>\n",
       "</div>"
      ],
      "text/plain": [
       "           a      b      c  d          i  r       s                   t  \\\n",
       "0  73.275838  False  small  0  19.243484  0    male 2020-12-23 13:14:00   \n",
       "1  65.844691  False  large  0  81.355234  1  female 2020-12-24 13:14:00   \n",
       "\n",
       "                    u         x   y         z  \n",
       "0 2020-12-23 13:14:00  0.007606  32  0.727518  \n",
       "1 2020-12-24 13:14:00  0.049797  27  0.410780  "
      ]
     },
     "execution_count": 32,
     "metadata": {},
     "output_type": "execute_result"
    }
   ],
   "source": [
    "df_01 = df_workbook['sheet_one']\n",
    "df_01.head(2)"
   ]
  },
  {
   "cell_type": "code",
   "execution_count": 33,
   "metadata": {},
   "outputs": [
    {
     "data": {
      "text/plain": [
       "a           float64\n",
       "b              bool\n",
       "c            object\n",
       "d             int64\n",
       "i           float64\n",
       "r             int64\n",
       "s            object\n",
       "t    datetime64[ns]\n",
       "u    datetime64[ns]\n",
       "x           float64\n",
       "y             int64\n",
       "z           float64\n",
       "dtype: object"
      ]
     },
     "execution_count": 33,
     "metadata": {},
     "output_type": "execute_result"
    }
   ],
   "source": [
    "df_01.dtypes"
   ]
  },
  {
   "cell_type": "code",
   "execution_count": 34,
   "metadata": {},
   "outputs": [
    {
     "name": "stdout",
     "output_type": "stream",
     "text": [
      "sheet_one\n",
      "sheet_two\n",
      "sheet_three\n"
     ]
    }
   ],
   "source": [
    "for key in df_workbook.keys():\n",
    "    print(key)"
   ]
  },
  {
   "cell_type": "code",
   "execution_count": 35,
   "metadata": {},
   "outputs": [
    {
     "data": {
      "text/html": [
       "<div>\n",
       "<style scoped>\n",
       "    .dataframe tbody tr th:only-of-type {\n",
       "        vertical-align: middle;\n",
       "    }\n",
       "\n",
       "    .dataframe tbody tr th {\n",
       "        vertical-align: top;\n",
       "    }\n",
       "\n",
       "    .dataframe thead th {\n",
       "        text-align: right;\n",
       "    }\n",
       "</style>\n",
       "<table border=\"1\" class=\"dataframe\">\n",
       "  <thead>\n",
       "    <tr style=\"text-align: right;\">\n",
       "      <th></th>\n",
       "      <th>a</th>\n",
       "      <th>b</th>\n",
       "      <th>c</th>\n",
       "      <th>d</th>\n",
       "      <th>i</th>\n",
       "      <th>r</th>\n",
       "      <th>s</th>\n",
       "      <th>t</th>\n",
       "      <th>u</th>\n",
       "      <th>x</th>\n",
       "      <th>y</th>\n",
       "      <th>z</th>\n",
       "    </tr>\n",
       "  </thead>\n",
       "  <tbody>\n",
       "    <tr>\n",
       "      <th>0</th>\n",
       "      <td>73.711321</td>\n",
       "      <td>True</td>\n",
       "      <td>medium</td>\n",
       "      <td>0</td>\n",
       "      <td>82.819832</td>\n",
       "      <td>1</td>\n",
       "      <td>male</td>\n",
       "      <td>2020-12-23 13:14:00</td>\n",
       "      <td>2020-12-23 13:14:00</td>\n",
       "      <td>-1.397890</td>\n",
       "      <td>36</td>\n",
       "      <td>0.618988</td>\n",
       "    </tr>\n",
       "    <tr>\n",
       "      <th>1</th>\n",
       "      <td>74.870770</td>\n",
       "      <td>True</td>\n",
       "      <td>large</td>\n",
       "      <td>0</td>\n",
       "      <td>26.355960</td>\n",
       "      <td>0</td>\n",
       "      <td>female</td>\n",
       "      <td>2020-12-24 13:14:00</td>\n",
       "      <td>2020-12-24 13:14:00</td>\n",
       "      <td>1.111683</td>\n",
       "      <td>37</td>\n",
       "      <td>0.766808</td>\n",
       "    </tr>\n",
       "    <tr>\n",
       "      <th>2</th>\n",
       "      <td>72.478425</td>\n",
       "      <td>True</td>\n",
       "      <td>large</td>\n",
       "      <td>0</td>\n",
       "      <td>30.319281</td>\n",
       "      <td>0</td>\n",
       "      <td>male</td>\n",
       "      <td>2020-12-25 13:14:00</td>\n",
       "      <td>2020-12-25 13:14:00</td>\n",
       "      <td>1.373472</td>\n",
       "      <td>16</td>\n",
       "      <td>0.190473</td>\n",
       "    </tr>\n",
       "    <tr>\n",
       "      <th>3</th>\n",
       "      <td>25.264526</td>\n",
       "      <td>False</td>\n",
       "      <td>large</td>\n",
       "      <td>0</td>\n",
       "      <td>21.849043</td>\n",
       "      <td>1</td>\n",
       "      <td>female</td>\n",
       "      <td>2020-12-26 13:14:00</td>\n",
       "      <td>2020-12-26 13:14:00</td>\n",
       "      <td>-0.582534</td>\n",
       "      <td>42</td>\n",
       "      <td>0.675817</td>\n",
       "    </tr>\n",
       "  </tbody>\n",
       "</table>\n",
       "</div>"
      ],
      "text/plain": [
       "           a      b       c  d          i  r       s                   t  \\\n",
       "0  73.711321   True  medium  0  82.819832  1    male 2020-12-23 13:14:00   \n",
       "1  74.870770   True   large  0  26.355960  0  female 2020-12-24 13:14:00   \n",
       "2  72.478425   True   large  0  30.319281  0    male 2020-12-25 13:14:00   \n",
       "3  25.264526  False   large  0  21.849043  1  female 2020-12-26 13:14:00   \n",
       "\n",
       "                    u         x   y         z  \n",
       "0 2020-12-23 13:14:00 -1.397890  36  0.618988  \n",
       "1 2020-12-24 13:14:00  1.111683  37  0.766808  \n",
       "2 2020-12-25 13:14:00  1.373472  16  0.190473  \n",
       "3 2020-12-26 13:14:00 -0.582534  42  0.675817  "
      ]
     },
     "execution_count": 35,
     "metadata": {},
     "output_type": "execute_result"
    }
   ],
   "source": [
    "df_01 = df_workbook[key]\n",
    "df_01.head()"
   ]
  },
  {
   "cell_type": "code",
   "execution_count": 36,
   "metadata": {},
   "outputs": [
    {
     "data": {
      "text/plain": [
       "a           float64\n",
       "b              bool\n",
       "c            object\n",
       "d             int64\n",
       "i           float64\n",
       "r             int64\n",
       "s            object\n",
       "t    datetime64[ns]\n",
       "u    datetime64[ns]\n",
       "x           float64\n",
       "y             int64\n",
       "z           float64\n",
       "dtype: object"
      ]
     },
     "execution_count": 36,
     "metadata": {},
     "output_type": "execute_result"
    }
   ],
   "source": [
    "df_01.dtypes"
   ]
  },
  {
   "cell_type": "code",
   "execution_count": null,
   "metadata": {},
   "outputs": [],
   "source": [
    "convert_dict = {\n",
    "    'b': 'boolean',\n",
    "    'c': 'category',\n",
    "    'r': 'str',\n",
    "    'y': 'Int64'\n",
    "}\n",
    "time_delta_columns = ['d']"
   ]
  },
  {
   "cell_type": "code",
   "execution_count": 73,
   "metadata": {},
   "outputs": [],
   "source": [
    "df_01 = df_01.astype(convert_dict)\n",
    "for column in time_delta_columns:\n",
    "    df_01[column] = pd.to_timedelta(df_01[column])"
   ]
  },
  {
   "cell_type": "code",
   "execution_count": 74,
   "metadata": {},
   "outputs": [
    {
     "data": {
      "text/plain": [
       "a            float64\n",
       "b            boolean\n",
       "c           category\n",
       "d    timedelta64[ns]\n",
       "i            float64\n",
       "r              int64\n",
       "s             object\n",
       "t     datetime64[ns]\n",
       "u     datetime64[ns]\n",
       "x            float64\n",
       "y              Int64\n",
       "z            float64\n",
       "dtype: object"
      ]
     },
     "execution_count": 74,
     "metadata": {},
     "output_type": "execute_result"
    }
   ],
   "source": [
    "df_01.dtypes"
   ]
  },
  {
   "cell_type": "code",
   "execution_count": 69,
   "metadata": {
    "scrolled": false
   },
   "outputs": [
    {
     "name": "stdout",
     "output_type": "stream",
     "text": [
      "           a      b       c  d          i  r       s                   t  \\\n",
      "0  73.275838  False   small  0  19.243484  0    male 2020-12-23 13:14:00   \n",
      "1  65.844691  False   large  0  81.355234  1  female 2020-12-24 13:14:00   \n",
      "2  35.343751   True   large  0  68.873317  1    male 2020-12-25 13:14:00   \n",
      "3  47.497957  False  medium  0  66.646702  0  female 2020-12-26 13:14:00   \n",
      "\n",
      "                    u         x   y         z  \n",
      "0 2020-12-23 13:14:00  0.007606  32  0.727518  \n",
      "1 2020-12-24 13:14:00  0.049797  27  0.410780  \n",
      "2 2020-12-25 13:14:00 -0.413870  13  0.634297  \n",
      "3 2020-12-26 13:14:00  0.767391  62  0.532035  \n",
      "a           float64\n",
      "b              bool\n",
      "c            object\n",
      "d             int64\n",
      "i           float64\n",
      "r             int64\n",
      "s            object\n",
      "t    datetime64[ns]\n",
      "u    datetime64[ns]\n",
      "x           float64\n",
      "y             int64\n",
      "z           float64\n",
      "dtype: object\n",
      "           a     b       c  d          i  r       s                   t  \\\n",
      "0  14.409521  True   large  0  27.309143  0  female 2020-12-23 13:14:00   \n",
      "1  36.621084  True   large  0  56.093995  1    male 2020-12-24 13:14:00   \n",
      "2  37.566962  True  medium  0  76.940037  0    male 2020-12-25 13:14:00   \n",
      "3  60.389591  True   small  0  63.091482  1    male 2020-12-26 13:14:00   \n",
      "\n",
      "                    u         x   y         z  \n",
      "0 2020-12-23 13:14:00  0.118730  67  0.964025  \n",
      "1 2020-12-24 13:14:00  0.744207  30  0.921763  \n",
      "2 2020-12-25 13:14:00  0.270160  23  0.245814  \n",
      "3 2020-12-26 13:14:00 -1.088153  32  0.300237  \n",
      "a           float64\n",
      "b              bool\n",
      "c            object\n",
      "d             int64\n",
      "i           float64\n",
      "r             int64\n",
      "s            object\n",
      "t    datetime64[ns]\n",
      "u    datetime64[ns]\n",
      "x           float64\n",
      "y             int64\n",
      "z           float64\n",
      "dtype: object\n",
      "           a      b       c  d          i  r       s                   t  \\\n",
      "0  73.711321   True  medium  0  82.819832  1    male 2020-12-23 13:14:00   \n",
      "1  74.870770   True   large  0  26.355960  0  female 2020-12-24 13:14:00   \n",
      "2  72.478425   True   large  0  30.319281  0    male 2020-12-25 13:14:00   \n",
      "3  25.264526  False   large  0  21.849043  1  female 2020-12-26 13:14:00   \n",
      "\n",
      "                    u         x   y         z  \n",
      "0 2020-12-23 13:14:00 -1.397890  36  0.618988  \n",
      "1 2020-12-24 13:14:00  1.111683  37  0.766808  \n",
      "2 2020-12-25 13:14:00  1.373472  16  0.190473  \n",
      "3 2020-12-26 13:14:00 -0.582534  42  0.675817  \n",
      "a           float64\n",
      "b              bool\n",
      "c            object\n",
      "d             int64\n",
      "i           float64\n",
      "r             int64\n",
      "s            object\n",
      "t    datetime64[ns]\n",
      "u    datetime64[ns]\n",
      "x           float64\n",
      "y             int64\n",
      "z           float64\n",
      "dtype: object\n"
     ]
    }
   ],
   "source": [
    "for key, name in zip(df_workbook.keys(), ['df111', 'df222', 'df333']):\n",
    "#for i in df_workbook:\n",
    "    name = pd.DataFrame(df_workbook.get(key))\n",
    "    print(name)\n",
    "    print(name.dtypes)"
   ]
  },
  {
   "cell_type": "markdown",
   "metadata": {},
   "source": [
    "# References\n",
    "\n",
    "- [pandas to_excel](https://pandas.pydata.org/pandas-docs/stable/generated/pandas.DataFrame.to_excel.html)\n",
    "\n",
    "- [pandas to_csv](https://pandas.pydata.org/pandas-docs/stable/generated/pandas.DataFrame.to_csv.html)\n",
    "\n",
    "- [pandas API reference](https://pandas.pydata.org/pandas-docs/stable/api.html)\n",
    "\n",
    "- [pandas DataFrame](https://pandas.pydata.org/pandas-docs/stable/generated/pandas.DataFrame.html)"
   ]
  }
 ],
 "metadata": {
  "kernelspec": {
   "display_name": "Python 3",
   "language": "python",
   "name": "python3"
  },
  "language_info": {
   "codemirror_mode": {
    "name": "ipython",
    "version": 3
   },
   "file_extension": ".py",
   "mimetype": "text/x-python",
   "name": "python",
   "nbconvert_exporter": "python",
   "pygments_lexer": "ipython3",
   "version": "3.9.1"
  },
  "varInspector": {
   "cols": {
    "lenName": 16,
    "lenType": 16,
    "lenVar": 40
   },
   "kernels_config": {
    "python": {
     "delete_cmd_postfix": "",
     "delete_cmd_prefix": "del ",
     "library": "var_list.py",
     "varRefreshCmd": "print(var_dic_list())"
    },
    "r": {
     "delete_cmd_postfix": ") ",
     "delete_cmd_prefix": "rm(",
     "library": "var_list.r",
     "varRefreshCmd": "cat(var_dic_list()) "
    }
   },
   "types_to_exclude": [
    "module",
    "function",
    "builtin_function_or_method",
    "instance",
    "_Feature"
   ],
   "window_display": false
  }
 },
 "nbformat": 4,
 "nbformat_minor": 2
}
