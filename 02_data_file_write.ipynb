{
 "cells": [
  {
   "cell_type": "markdown",
   "metadata": {},
   "source": [
    "# Writing a data file"
   ]
  },
  {
   "cell_type": "markdown",
   "metadata": {},
   "source": [
    "# Document\n",
    "\n",
    "<table align=\"left\">\n",
    "    <tr>\n",
    "        <th class=\"text-align:left\">Title</th>\n",
    "        <td class=\"text-align:left\">Saving a data file</td>\n",
    "    </tr>\n",
    "    <tr>\n",
    "        <th class=\"text-align:left\">Last modified</th>\n",
    "        <td class=\"text-align:left\">2020-12-24</td>\n",
    "    </tr>\n",
    "    <tr>\n",
    "        <th class=\"text-align:left\">Author</th>\n",
    "        <td class=\"text-align:left\">Gilles Pilon <gillespilon13@gmail.com></td>\n",
    "    </tr>\n",
    "    <tr>\n",
    "        <th class=\"text-align:left\">Status</th>\n",
    "        <td class=\"text-align:left\">Active</td>\n",
    "    </tr>\n",
    "    <tr>\n",
    "        <th class=\"text-align:left\">Type</th>\n",
    "        <td class=\"text-align:left\">Jupyter notebook</td>\n",
    "    </tr>\n",
    "    <tr>\n",
    "        <th class=\"text-align:left\">Created</th>\n",
    "        <td class=\"text-align:left\">2018-12-21</td>\n",
    "    </tr>\n",
    "    <tr>\n",
    "        <th class=\"text-align:left\">File name</th>\n",
    "        <td class=\"text-align:left\">02_data_file_write.ipynb</td>\n",
    "    </tr>\n",
    "</table>"
   ]
  },
  {
   "cell_type": "markdown",
   "metadata": {},
   "source": [
    "# Introduction\n",
    "\n",
    "- Create three dataframes\n",
    "- Write one dataframe to a csv file\n",
    "- Read a csv file and correct dtypes\n",
    "- Write three dataframes to three worksheets to an Excel workbook\n",
    "- Read an Excel workbook with three worksheets and correct dtypes\n",
    "- Read an Excel workbook with data and formulae in three worksheets"
   ]
  },
  {
   "cell_type": "markdown",
   "metadata": {},
   "source": [
    "# Import libraries"
   ]
  },
  {
   "cell_type": "code",
   "execution_count": 1,
   "metadata": {},
   "outputs": [],
   "source": [
    "from openpyxl.utils.dataframe import dataframe_to_rows\n",
    "from openpyxl import load_workbook\n",
    "from openpyxl import Workbook\n",
    "import datasense as ds\n",
    "import pandas as pd"
   ]
  },
  {
   "cell_type": "markdown",
   "metadata": {},
   "source": [
    "# Create three dataframes"
   ]
  },
  {
   "cell_type": "code",
   "execution_count": 2,
   "metadata": {},
   "outputs": [],
   "source": [
    "size = 4"
   ]
  },
  {
   "cell_type": "code",
   "execution_count": 3,
   "metadata": {},
   "outputs": [],
   "source": [
    "df1 = ds.create_dataframe(size=size)\n",
    "df2 = ds.create_dataframe(size=size)\n",
    "df3 = ds.create_dataframe(size=size)"
   ]
  },
  {
   "cell_type": "code",
   "execution_count": 4,
   "metadata": {},
   "outputs": [
    {
     "data": {
      "text/html": [
       "<div>\n",
       "<style scoped>\n",
       "    .dataframe tbody tr th:only-of-type {\n",
       "        vertical-align: middle;\n",
       "    }\n",
       "\n",
       "    .dataframe tbody tr th {\n",
       "        vertical-align: top;\n",
       "    }\n",
       "\n",
       "    .dataframe thead th {\n",
       "        text-align: right;\n",
       "    }\n",
       "</style>\n",
       "<table border=\"1\" class=\"dataframe\">\n",
       "  <thead>\n",
       "    <tr style=\"text-align: right;\">\n",
       "      <th></th>\n",
       "      <th>a</th>\n",
       "      <th>b</th>\n",
       "      <th>c</th>\n",
       "      <th>d</th>\n",
       "      <th>i</th>\n",
       "      <th>r</th>\n",
       "      <th>s</th>\n",
       "      <th>t</th>\n",
       "      <th>u</th>\n",
       "      <th>x</th>\n",
       "      <th>y</th>\n",
       "      <th>z</th>\n",
       "    </tr>\n",
       "  </thead>\n",
       "  <tbody>\n",
       "    <tr>\n",
       "      <th>0</th>\n",
       "      <td>39.388662</td>\n",
       "      <td>True</td>\n",
       "      <td>small</td>\n",
       "      <td>0 days</td>\n",
       "      <td>54.142202</td>\n",
       "      <td>1</td>\n",
       "      <td>male</td>\n",
       "      <td>2020-12-25 15:19:09</td>\n",
       "      <td>2020-12-25 15:19:09</td>\n",
       "      <td>1.145904</td>\n",
       "      <td>19</td>\n",
       "      <td>0.078433</td>\n",
       "    </tr>\n",
       "    <tr>\n",
       "      <th>1</th>\n",
       "      <td>25.841943</td>\n",
       "      <td>True</td>\n",
       "      <td>medium</td>\n",
       "      <td>0 days</td>\n",
       "      <td>17.101856</td>\n",
       "      <td>1</td>\n",
       "      <td>male</td>\n",
       "      <td>2020-12-26 15:19:09</td>\n",
       "      <td>2020-12-26 15:19:09</td>\n",
       "      <td>0.098596</td>\n",
       "      <td>57</td>\n",
       "      <td>0.570055</td>\n",
       "    </tr>\n",
       "  </tbody>\n",
       "</table>\n",
       "</div>"
      ],
      "text/plain": [
       "           a     b       c      d          i  r     s                   t  \\\n",
       "0  39.388662  True   small 0 days  54.142202  1  male 2020-12-25 15:19:09   \n",
       "1  25.841943  True  medium 0 days  17.101856  1  male 2020-12-26 15:19:09   \n",
       "\n",
       "                    u         x   y         z  \n",
       "0 2020-12-25 15:19:09  1.145904  19  0.078433  \n",
       "1 2020-12-26 15:19:09  0.098596  57  0.570055  "
      ]
     },
     "execution_count": 4,
     "metadata": {},
     "output_type": "execute_result"
    }
   ],
   "source": [
    "df1.head(2)"
   ]
  },
  {
   "cell_type": "code",
   "execution_count": 5,
   "metadata": {},
   "outputs": [
    {
     "data": {
      "text/plain": [
       "a            float64\n",
       "b            boolean\n",
       "c           category\n",
       "d    timedelta64[ns]\n",
       "i            float64\n",
       "r             object\n",
       "s             object\n",
       "t     datetime64[ns]\n",
       "u     datetime64[ns]\n",
       "x            float64\n",
       "y              Int64\n",
       "z            float64\n",
       "dtype: object"
      ]
     },
     "execution_count": 5,
     "metadata": {},
     "output_type": "execute_result"
    }
   ],
   "source": [
    "df1.dtypes"
   ]
  },
  {
   "cell_type": "markdown",
   "metadata": {},
   "source": [
    "# Write one dataframe to a csv file"
   ]
  },
  {
   "cell_type": "code",
   "execution_count": 6,
   "metadata": {},
   "outputs": [],
   "source": [
    "ds.save_file(\n",
    "    df=df1,\n",
    "    file_name='data/just_a_test.csv'\n",
    ")"
   ]
  },
  {
   "cell_type": "code",
   "execution_count": 7,
   "metadata": {},
   "outputs": [],
   "source": [
    "just_a_test = ds.read_file(\n",
    "    file_name='data/just_a_test.csv'\n",
    ")"
   ]
  },
  {
   "cell_type": "code",
   "execution_count": 8,
   "metadata": {},
   "outputs": [
    {
     "data": {
      "text/html": [
       "<div>\n",
       "<style scoped>\n",
       "    .dataframe tbody tr th:only-of-type {\n",
       "        vertical-align: middle;\n",
       "    }\n",
       "\n",
       "    .dataframe tbody tr th {\n",
       "        vertical-align: top;\n",
       "    }\n",
       "\n",
       "    .dataframe thead th {\n",
       "        text-align: right;\n",
       "    }\n",
       "</style>\n",
       "<table border=\"1\" class=\"dataframe\">\n",
       "  <thead>\n",
       "    <tr style=\"text-align: right;\">\n",
       "      <th></th>\n",
       "      <th>a</th>\n",
       "      <th>b</th>\n",
       "      <th>c</th>\n",
       "      <th>d</th>\n",
       "      <th>i</th>\n",
       "      <th>r</th>\n",
       "      <th>s</th>\n",
       "      <th>t</th>\n",
       "      <th>u</th>\n",
       "      <th>x</th>\n",
       "      <th>y</th>\n",
       "      <th>z</th>\n",
       "    </tr>\n",
       "  </thead>\n",
       "  <tbody>\n",
       "    <tr>\n",
       "      <th>0</th>\n",
       "      <td>39.388662</td>\n",
       "      <td>True</td>\n",
       "      <td>small</td>\n",
       "      <td>0 days</td>\n",
       "      <td>54.142202</td>\n",
       "      <td>1</td>\n",
       "      <td>male</td>\n",
       "      <td>2020-12-25 15:19:09</td>\n",
       "      <td>2020-12-25 15:19:09</td>\n",
       "      <td>1.145904</td>\n",
       "      <td>19</td>\n",
       "      <td>0.078433</td>\n",
       "    </tr>\n",
       "    <tr>\n",
       "      <th>1</th>\n",
       "      <td>25.841943</td>\n",
       "      <td>True</td>\n",
       "      <td>medium</td>\n",
       "      <td>0 days</td>\n",
       "      <td>17.101856</td>\n",
       "      <td>1</td>\n",
       "      <td>male</td>\n",
       "      <td>2020-12-26 15:19:09</td>\n",
       "      <td>2020-12-26 15:19:09</td>\n",
       "      <td>0.098596</td>\n",
       "      <td>57</td>\n",
       "      <td>0.570055</td>\n",
       "    </tr>\n",
       "  </tbody>\n",
       "</table>\n",
       "</div>"
      ],
      "text/plain": [
       "           a     b       c       d          i  r     s                    t  \\\n",
       "0  39.388662  True   small  0 days  54.142202  1  male  2020-12-25 15:19:09   \n",
       "1  25.841943  True  medium  0 days  17.101856  1  male  2020-12-26 15:19:09   \n",
       "\n",
       "                     u         x   y         z  \n",
       "0  2020-12-25 15:19:09  1.145904  19  0.078433  \n",
       "1  2020-12-26 15:19:09  0.098596  57  0.570055  "
      ]
     },
     "execution_count": 8,
     "metadata": {},
     "output_type": "execute_result"
    }
   ],
   "source": [
    "just_a_test.head(2)"
   ]
  },
  {
   "cell_type": "code",
   "execution_count": 9,
   "metadata": {},
   "outputs": [
    {
     "data": {
      "text/plain": [
       "a    float64\n",
       "b       bool\n",
       "c     object\n",
       "d     object\n",
       "i    float64\n",
       "r      int64\n",
       "s     object\n",
       "t     object\n",
       "u     object\n",
       "x    float64\n",
       "y      int64\n",
       "z    float64\n",
       "dtype: object"
      ]
     },
     "execution_count": 9,
     "metadata": {},
     "output_type": "execute_result"
    }
   ],
   "source": [
    "just_a_test.dtypes"
   ]
  },
  {
   "cell_type": "markdown",
   "metadata": {},
   "source": [
    "# Read a csv file and correct dtypes"
   ]
  },
  {
   "cell_type": "code",
   "execution_count": 10,
   "metadata": {},
   "outputs": [],
   "source": [
    "convert_dict = {\n",
    "    'a': 'float64',\n",
    "    'b': 'boolean',\n",
    "    'c': 'category',\n",
    "    'i': 'float64',\n",
    "    'r': 'str',\n",
    "    's': 'str',\n",
    "    'x': 'float64',\n",
    "    'y': 'Int64',\n",
    "    'z': 'float64'\n",
    "}\n",
    "parse_dates = ['t', 'u']\n",
    "time_delta_columns = ['d']\n",
    "just_a_test = ds.read_file(\n",
    "    file_name='data/just_a_test.csv',\n",
    "    dtype=convert_dict,\n",
    "    parse_dates=parse_dates,\n",
    "    time_delta_columns=time_delta_columns\n",
    ")"
   ]
  },
  {
   "cell_type": "code",
   "execution_count": 11,
   "metadata": {},
   "outputs": [
    {
     "data": {
      "text/html": [
       "<div>\n",
       "<style scoped>\n",
       "    .dataframe tbody tr th:only-of-type {\n",
       "        vertical-align: middle;\n",
       "    }\n",
       "\n",
       "    .dataframe tbody tr th {\n",
       "        vertical-align: top;\n",
       "    }\n",
       "\n",
       "    .dataframe thead th {\n",
       "        text-align: right;\n",
       "    }\n",
       "</style>\n",
       "<table border=\"1\" class=\"dataframe\">\n",
       "  <thead>\n",
       "    <tr style=\"text-align: right;\">\n",
       "      <th></th>\n",
       "      <th>a</th>\n",
       "      <th>b</th>\n",
       "      <th>c</th>\n",
       "      <th>d</th>\n",
       "      <th>i</th>\n",
       "      <th>r</th>\n",
       "      <th>s</th>\n",
       "      <th>t</th>\n",
       "      <th>u</th>\n",
       "      <th>x</th>\n",
       "      <th>y</th>\n",
       "      <th>z</th>\n",
       "    </tr>\n",
       "  </thead>\n",
       "  <tbody>\n",
       "    <tr>\n",
       "      <th>0</th>\n",
       "      <td>39.388662</td>\n",
       "      <td>True</td>\n",
       "      <td>small</td>\n",
       "      <td>0 days</td>\n",
       "      <td>54.142202</td>\n",
       "      <td>1</td>\n",
       "      <td>male</td>\n",
       "      <td>2020-12-25 15:19:09</td>\n",
       "      <td>2020-12-25 15:19:09</td>\n",
       "      <td>1.145904</td>\n",
       "      <td>19</td>\n",
       "      <td>0.078433</td>\n",
       "    </tr>\n",
       "    <tr>\n",
       "      <th>1</th>\n",
       "      <td>25.841943</td>\n",
       "      <td>True</td>\n",
       "      <td>medium</td>\n",
       "      <td>0 days</td>\n",
       "      <td>17.101856</td>\n",
       "      <td>1</td>\n",
       "      <td>male</td>\n",
       "      <td>2020-12-26 15:19:09</td>\n",
       "      <td>2020-12-26 15:19:09</td>\n",
       "      <td>0.098596</td>\n",
       "      <td>57</td>\n",
       "      <td>0.570055</td>\n",
       "    </tr>\n",
       "  </tbody>\n",
       "</table>\n",
       "</div>"
      ],
      "text/plain": [
       "           a     b       c      d          i  r     s                   t  \\\n",
       "0  39.388662  True   small 0 days  54.142202  1  male 2020-12-25 15:19:09   \n",
       "1  25.841943  True  medium 0 days  17.101856  1  male 2020-12-26 15:19:09   \n",
       "\n",
       "                    u         x   y         z  \n",
       "0 2020-12-25 15:19:09  1.145904  19  0.078433  \n",
       "1 2020-12-26 15:19:09  0.098596  57  0.570055  "
      ]
     },
     "execution_count": 11,
     "metadata": {},
     "output_type": "execute_result"
    }
   ],
   "source": [
    "just_a_test.head(2)"
   ]
  },
  {
   "cell_type": "code",
   "execution_count": 12,
   "metadata": {},
   "outputs": [
    {
     "data": {
      "text/plain": [
       "a            float64\n",
       "b            boolean\n",
       "c           category\n",
       "d    timedelta64[ns]\n",
       "i            float64\n",
       "r             object\n",
       "s             object\n",
       "t     datetime64[ns]\n",
       "u     datetime64[ns]\n",
       "x            float64\n",
       "y              Int64\n",
       "z            float64\n",
       "dtype: object"
      ]
     },
     "execution_count": 12,
     "metadata": {},
     "output_type": "execute_result"
    }
   ],
   "source": [
    "just_a_test.dtypes"
   ]
  },
  {
   "cell_type": "markdown",
   "metadata": {},
   "source": [
    "# Write three dataframes to three worksheets to an Excel workbook"
   ]
  },
  {
   "cell_type": "code",
   "execution_count": 13,
   "metadata": {},
   "outputs": [],
   "source": [
    "path = 'data/even_another_file.xlsx'\n",
    "engine = 'openpyxl'\n",
    "with pd.ExcelWriter(path=path, engine=engine) as writer:\n",
    "    df1.to_excel(\n",
    "        excel_writer=writer,\n",
    "        sheet_name='sheet_one',\n",
    "        index=False\n",
    "    )\n",
    "    df2.to_excel(\n",
    "        excel_writer=writer,\n",
    "        sheet_name='sheet_two',\n",
    "        index=False\n",
    "    )\n",
    "    df3.to_excel(\n",
    "        excel_writer=writer,\n",
    "        sheet_name='sheet_three',\n",
    "        index=False\n",
    "    )\n",
    "writer.save()"
   ]
  },
  {
   "cell_type": "markdown",
   "metadata": {},
   "source": [
    "# Read an Excel workbook with three worksheets and correct dtypes\n",
    "\n",
    "## openpyxl"
   ]
  },
  {
   "cell_type": "code",
   "execution_count": 14,
   "metadata": {},
   "outputs": [
    {
     "data": {
      "text/plain": [
       "['sheet_one', 'sheet_two', 'sheet_three']"
      ]
     },
     "execution_count": 14,
     "metadata": {},
     "output_type": "execute_result"
    }
   ],
   "source": [
    "wb1 = load_workbook(filename='data/even_another_file.xlsx')\n",
    "wb1.sheetnames"
   ]
  },
  {
   "cell_type": "code",
   "execution_count": 15,
   "metadata": {},
   "outputs": [],
   "source": [
    "wb1ws1 = wb1['sheet_one']\n",
    "from itertools import islice\n",
    "data = wb1ws1.values\n",
    "cols = next(data)[:]\n",
    "data = list(data)\n",
    "# idx = [row[0] for row in data]\n",
    "data = (islice(row, None) for row in data)\n",
    "wb1df1 = pd.DataFrame(data, columns=cols)"
   ]
  },
  {
   "cell_type": "code",
   "execution_count": 16,
   "metadata": {},
   "outputs": [
    {
     "data": {
      "text/html": [
       "<div>\n",
       "<style scoped>\n",
       "    .dataframe tbody tr th:only-of-type {\n",
       "        vertical-align: middle;\n",
       "    }\n",
       "\n",
       "    .dataframe tbody tr th {\n",
       "        vertical-align: top;\n",
       "    }\n",
       "\n",
       "    .dataframe thead th {\n",
       "        text-align: right;\n",
       "    }\n",
       "</style>\n",
       "<table border=\"1\" class=\"dataframe\">\n",
       "  <thead>\n",
       "    <tr style=\"text-align: right;\">\n",
       "      <th></th>\n",
       "      <th>a</th>\n",
       "      <th>b</th>\n",
       "      <th>c</th>\n",
       "      <th>d</th>\n",
       "      <th>i</th>\n",
       "      <th>r</th>\n",
       "      <th>s</th>\n",
       "      <th>t</th>\n",
       "      <th>u</th>\n",
       "      <th>x</th>\n",
       "      <th>y</th>\n",
       "      <th>z</th>\n",
       "    </tr>\n",
       "  </thead>\n",
       "  <tbody>\n",
       "    <tr>\n",
       "      <th>0</th>\n",
       "      <td>39.388662</td>\n",
       "      <td>True</td>\n",
       "      <td>small</td>\n",
       "      <td>0</td>\n",
       "      <td>54.142202</td>\n",
       "      <td>1</td>\n",
       "      <td>male</td>\n",
       "      <td>2020-12-25 15:19:09</td>\n",
       "      <td>2020-12-25 15:19:09</td>\n",
       "      <td>1.145904</td>\n",
       "      <td>19</td>\n",
       "      <td>0.078433</td>\n",
       "    </tr>\n",
       "    <tr>\n",
       "      <th>1</th>\n",
       "      <td>25.841943</td>\n",
       "      <td>True</td>\n",
       "      <td>medium</td>\n",
       "      <td>0</td>\n",
       "      <td>17.101856</td>\n",
       "      <td>1</td>\n",
       "      <td>male</td>\n",
       "      <td>2020-12-26 15:19:09</td>\n",
       "      <td>2020-12-26 15:19:09</td>\n",
       "      <td>0.098596</td>\n",
       "      <td>57</td>\n",
       "      <td>0.570055</td>\n",
       "    </tr>\n",
       "  </tbody>\n",
       "</table>\n",
       "</div>"
      ],
      "text/plain": [
       "           a     b       c  d          i  r     s                   t  \\\n",
       "0  39.388662  True   small  0  54.142202  1  male 2020-12-25 15:19:09   \n",
       "1  25.841943  True  medium  0  17.101856  1  male 2020-12-26 15:19:09   \n",
       "\n",
       "                    u         x   y         z  \n",
       "0 2020-12-25 15:19:09  1.145904  19  0.078433  \n",
       "1 2020-12-26 15:19:09  0.098596  57  0.570055  "
      ]
     },
     "execution_count": 16,
     "metadata": {},
     "output_type": "execute_result"
    }
   ],
   "source": [
    "wb1df1.head(2)"
   ]
  },
  {
   "cell_type": "code",
   "execution_count": 17,
   "metadata": {},
   "outputs": [
    {
     "data": {
      "text/plain": [
       "a           float64\n",
       "b              bool\n",
       "c            object\n",
       "d             int64\n",
       "i           float64\n",
       "r            object\n",
       "s            object\n",
       "t    datetime64[ns]\n",
       "u    datetime64[ns]\n",
       "x           float64\n",
       "y             int64\n",
       "z           float64\n",
       "dtype: object"
      ]
     },
     "execution_count": 17,
     "metadata": {},
     "output_type": "execute_result"
    }
   ],
   "source": [
    "wb1df1.dtypes"
   ]
  },
  {
   "cell_type": "code",
   "execution_count": 18,
   "metadata": {},
   "outputs": [],
   "source": [
    "wb1df1 = wb1df1.astype(convert_dict)\n",
    "for column in time_delta_columns:\n",
    "    wb1df1[column] = pd.to_timedelta(wb1df1[column])\n",
    "wb1df1[parse_dates] = wb1df1[parse_dates].astype(dtype='datetime64[ns]')"
   ]
  },
  {
   "cell_type": "code",
   "execution_count": 19,
   "metadata": {},
   "outputs": [
    {
     "data": {
      "text/plain": [
       "a            float64\n",
       "b            boolean\n",
       "c           category\n",
       "d    timedelta64[ns]\n",
       "i            float64\n",
       "r             object\n",
       "s             object\n",
       "t     datetime64[ns]\n",
       "u     datetime64[ns]\n",
       "x            float64\n",
       "y              Int64\n",
       "z            float64\n",
       "dtype: object"
      ]
     },
     "execution_count": 19,
     "metadata": {},
     "output_type": "execute_result"
    }
   ],
   "source": [
    "wb1df1.dtypes"
   ]
  },
  {
   "cell_type": "code",
   "execution_count": 20,
   "metadata": {},
   "outputs": [],
   "source": [
    "wb1ws2 = wb1['sheet_two']\n",
    "from itertools import islice\n",
    "data = wb1ws2.values\n",
    "cols = next(data)[:]\n",
    "data = list(data)\n",
    "# idx = [row[0] for row in data]\n",
    "data = (islice(row, None) for row in data)\n",
    "wb1df2 = pd.DataFrame(data, columns=cols)"
   ]
  },
  {
   "cell_type": "code",
   "execution_count": 21,
   "metadata": {},
   "outputs": [
    {
     "data": {
      "text/html": [
       "<div>\n",
       "<style scoped>\n",
       "    .dataframe tbody tr th:only-of-type {\n",
       "        vertical-align: middle;\n",
       "    }\n",
       "\n",
       "    .dataframe tbody tr th {\n",
       "        vertical-align: top;\n",
       "    }\n",
       "\n",
       "    .dataframe thead th {\n",
       "        text-align: right;\n",
       "    }\n",
       "</style>\n",
       "<table border=\"1\" class=\"dataframe\">\n",
       "  <thead>\n",
       "    <tr style=\"text-align: right;\">\n",
       "      <th></th>\n",
       "      <th>a</th>\n",
       "      <th>b</th>\n",
       "      <th>c</th>\n",
       "      <th>d</th>\n",
       "      <th>i</th>\n",
       "      <th>r</th>\n",
       "      <th>s</th>\n",
       "      <th>t</th>\n",
       "      <th>u</th>\n",
       "      <th>x</th>\n",
       "      <th>y</th>\n",
       "      <th>z</th>\n",
       "    </tr>\n",
       "  </thead>\n",
       "  <tbody>\n",
       "    <tr>\n",
       "      <th>0</th>\n",
       "      <td>81.343067</td>\n",
       "      <td>True</td>\n",
       "      <td>large</td>\n",
       "      <td>0</td>\n",
       "      <td>68.038313</td>\n",
       "      <td>1</td>\n",
       "      <td>male</td>\n",
       "      <td>2020-12-25 15:19:09</td>\n",
       "      <td>2020-12-25 15:19:09</td>\n",
       "      <td>-1.918777</td>\n",
       "      <td>63</td>\n",
       "      <td>0.483988</td>\n",
       "    </tr>\n",
       "    <tr>\n",
       "      <th>1</th>\n",
       "      <td>25.635353</td>\n",
       "      <td>False</td>\n",
       "      <td>medium</td>\n",
       "      <td>0</td>\n",
       "      <td>41.553712</td>\n",
       "      <td>1</td>\n",
       "      <td>female</td>\n",
       "      <td>2020-12-26 15:19:09</td>\n",
       "      <td>2020-12-26 15:19:09</td>\n",
       "      <td>-1.711074</td>\n",
       "      <td>19</td>\n",
       "      <td>0.860072</td>\n",
       "    </tr>\n",
       "  </tbody>\n",
       "</table>\n",
       "</div>"
      ],
      "text/plain": [
       "           a      b       c  d          i  r       s                   t  \\\n",
       "0  81.343067   True   large  0  68.038313  1    male 2020-12-25 15:19:09   \n",
       "1  25.635353  False  medium  0  41.553712  1  female 2020-12-26 15:19:09   \n",
       "\n",
       "                    u         x   y         z  \n",
       "0 2020-12-25 15:19:09 -1.918777  63  0.483988  \n",
       "1 2020-12-26 15:19:09 -1.711074  19  0.860072  "
      ]
     },
     "execution_count": 21,
     "metadata": {},
     "output_type": "execute_result"
    }
   ],
   "source": [
    "wb1df2.head(2)"
   ]
  },
  {
   "cell_type": "code",
   "execution_count": 22,
   "metadata": {},
   "outputs": [
    {
     "data": {
      "text/plain": [
       "a           float64\n",
       "b              bool\n",
       "c            object\n",
       "d             int64\n",
       "i           float64\n",
       "r            object\n",
       "s            object\n",
       "t    datetime64[ns]\n",
       "u    datetime64[ns]\n",
       "x           float64\n",
       "y             int64\n",
       "z           float64\n",
       "dtype: object"
      ]
     },
     "execution_count": 22,
     "metadata": {},
     "output_type": "execute_result"
    }
   ],
   "source": [
    "wb1df2.dtypes"
   ]
  },
  {
   "cell_type": "code",
   "execution_count": 23,
   "metadata": {},
   "outputs": [],
   "source": [
    "wb1df2 = wb1df2.astype(convert_dict)\n",
    "for column in time_delta_columns:\n",
    "    wb1df2[column] = pd.to_timedelta(wb1df2[column])\n",
    "wb1df2[parse_dates] = wb1df2[parse_dates].astype(dtype='datetime64[ns]')"
   ]
  },
  {
   "cell_type": "code",
   "execution_count": 24,
   "metadata": {},
   "outputs": [
    {
     "data": {
      "text/plain": [
       "a            float64\n",
       "b            boolean\n",
       "c           category\n",
       "d    timedelta64[ns]\n",
       "i            float64\n",
       "r             object\n",
       "s             object\n",
       "t     datetime64[ns]\n",
       "u     datetime64[ns]\n",
       "x            float64\n",
       "y              Int64\n",
       "z            float64\n",
       "dtype: object"
      ]
     },
     "execution_count": 24,
     "metadata": {},
     "output_type": "execute_result"
    }
   ],
   "source": [
    "wb1df2.dtypes"
   ]
  },
  {
   "cell_type": "code",
   "execution_count": 25,
   "metadata": {},
   "outputs": [],
   "source": [
    "wb1ws3 = wb1['sheet_three']\n",
    "from itertools import islice\n",
    "data = wb1ws3.values\n",
    "cols = next(data)[:]\n",
    "data = list(data)\n",
    "# idx = [row[0] for row in data]\n",
    "data = (islice(row, None) for row in data)\n",
    "wb1df3 = pd.DataFrame(data, columns=cols)"
   ]
  },
  {
   "cell_type": "code",
   "execution_count": 26,
   "metadata": {},
   "outputs": [
    {
     "data": {
      "text/html": [
       "<div>\n",
       "<style scoped>\n",
       "    .dataframe tbody tr th:only-of-type {\n",
       "        vertical-align: middle;\n",
       "    }\n",
       "\n",
       "    .dataframe tbody tr th {\n",
       "        vertical-align: top;\n",
       "    }\n",
       "\n",
       "    .dataframe thead th {\n",
       "        text-align: right;\n",
       "    }\n",
       "</style>\n",
       "<table border=\"1\" class=\"dataframe\">\n",
       "  <thead>\n",
       "    <tr style=\"text-align: right;\">\n",
       "      <th></th>\n",
       "      <th>a</th>\n",
       "      <th>b</th>\n",
       "      <th>c</th>\n",
       "      <th>d</th>\n",
       "      <th>i</th>\n",
       "      <th>r</th>\n",
       "      <th>s</th>\n",
       "      <th>t</th>\n",
       "      <th>u</th>\n",
       "      <th>x</th>\n",
       "      <th>y</th>\n",
       "      <th>z</th>\n",
       "    </tr>\n",
       "  </thead>\n",
       "  <tbody>\n",
       "    <tr>\n",
       "      <th>0</th>\n",
       "      <td>28.761685</td>\n",
       "      <td>False</td>\n",
       "      <td>medium</td>\n",
       "      <td>0</td>\n",
       "      <td>13.949897</td>\n",
       "      <td>1</td>\n",
       "      <td>male</td>\n",
       "      <td>2020-12-25 15:19:09</td>\n",
       "      <td>2020-12-25 15:19:09</td>\n",
       "      <td>1.496460</td>\n",
       "      <td>18</td>\n",
       "      <td>0.582901</td>\n",
       "    </tr>\n",
       "    <tr>\n",
       "      <th>1</th>\n",
       "      <td>41.392858</td>\n",
       "      <td>True</td>\n",
       "      <td>medium</td>\n",
       "      <td>0</td>\n",
       "      <td>27.218786</td>\n",
       "      <td>1</td>\n",
       "      <td>male</td>\n",
       "      <td>2020-12-26 15:19:09</td>\n",
       "      <td>2020-12-26 15:19:09</td>\n",
       "      <td>-0.468279</td>\n",
       "      <td>43</td>\n",
       "      <td>0.296075</td>\n",
       "    </tr>\n",
       "  </tbody>\n",
       "</table>\n",
       "</div>"
      ],
      "text/plain": [
       "           a      b       c  d          i  r     s                   t  \\\n",
       "0  28.761685  False  medium  0  13.949897  1  male 2020-12-25 15:19:09   \n",
       "1  41.392858   True  medium  0  27.218786  1  male 2020-12-26 15:19:09   \n",
       "\n",
       "                    u         x   y         z  \n",
       "0 2020-12-25 15:19:09  1.496460  18  0.582901  \n",
       "1 2020-12-26 15:19:09 -0.468279  43  0.296075  "
      ]
     },
     "execution_count": 26,
     "metadata": {},
     "output_type": "execute_result"
    }
   ],
   "source": [
    "wb1df3.head(2)"
   ]
  },
  {
   "cell_type": "code",
   "execution_count": 27,
   "metadata": {},
   "outputs": [
    {
     "data": {
      "text/plain": [
       "a           float64\n",
       "b              bool\n",
       "c            object\n",
       "d             int64\n",
       "i           float64\n",
       "r            object\n",
       "s            object\n",
       "t    datetime64[ns]\n",
       "u    datetime64[ns]\n",
       "x           float64\n",
       "y             int64\n",
       "z           float64\n",
       "dtype: object"
      ]
     },
     "execution_count": 27,
     "metadata": {},
     "output_type": "execute_result"
    }
   ],
   "source": [
    "wb1df3.dtypes"
   ]
  },
  {
   "cell_type": "code",
   "execution_count": 28,
   "metadata": {},
   "outputs": [],
   "source": [
    "wb1df3 = wb1df3.astype(convert_dict)\n",
    "for column in time_delta_columns:\n",
    "    wb1df3[column] = pd.to_timedelta(wb1df3[column])\n",
    "wb1df3[parse_dates] = wb1df3[parse_dates].astype(dtype='datetime64[ns]')"
   ]
  },
  {
   "cell_type": "code",
   "execution_count": 29,
   "metadata": {},
   "outputs": [
    {
     "data": {
      "text/plain": [
       "a            float64\n",
       "b            boolean\n",
       "c           category\n",
       "d    timedelta64[ns]\n",
       "i            float64\n",
       "r             object\n",
       "s             object\n",
       "t     datetime64[ns]\n",
       "u     datetime64[ns]\n",
       "x            float64\n",
       "y              Int64\n",
       "z            float64\n",
       "dtype: object"
      ]
     },
     "execution_count": 29,
     "metadata": {},
     "output_type": "execute_result"
    }
   ],
   "source": [
    "wb1df3.dtypes"
   ]
  },
  {
   "cell_type": "markdown",
   "metadata": {},
   "source": [
    "# Read an Excel workbook with three worksheets and correct dtypes\n",
    "\n",
    "## pd.read_excel"
   ]
  },
  {
   "cell_type": "code",
   "execution_count": 30,
   "metadata": {},
   "outputs": [],
   "source": [
    "wb2 = pd.read_excel(\n",
    "    io=path,\n",
    "    sheet_name=None,\n",
    "    engine='openpyxl'\n",
    ")"
   ]
  },
  {
   "cell_type": "code",
   "execution_count": 31,
   "metadata": {},
   "outputs": [
    {
     "data": {
      "text/plain": [
       "{'sheet_one':            a      b       c  d          i  r       s                   t  \\\n",
       " 0  39.388662   True   small  0  54.142202  1    male 2020-12-25 15:19:09   \n",
       " 1  25.841943   True  medium  0  17.101856  1    male 2020-12-26 15:19:09   \n",
       " 2  69.178584  False   large  0  75.455598  1    male 2020-12-27 15:19:09   \n",
       " 3  68.164671   True   large  0  82.086060  1  female 2020-12-28 15:19:09   \n",
       " \n",
       "                     u         x   y         z  \n",
       " 0 2020-12-25 15:19:09  1.145904  19  0.078433  \n",
       " 1 2020-12-26 15:19:09  0.098596  57  0.570055  \n",
       " 2 2020-12-27 15:19:09 -1.694686  55  0.956087  \n",
       " 3 2020-12-28 15:19:09 -1.035811  25  0.873627  ,\n",
       " 'sheet_two':            a      b       c  d          i  r       s                   t  \\\n",
       " 0  81.343067   True   large  0  68.038313  1    male 2020-12-25 15:19:09   \n",
       " 1  25.635353  False  medium  0  41.553712  1  female 2020-12-26 15:19:09   \n",
       " 2  56.639894   True  medium  0  50.342236  1    male 2020-12-27 15:19:09   \n",
       " 3  74.712051  False   small  0  47.510140  1  female 2020-12-28 15:19:09   \n",
       " \n",
       "                     u         x   y         z  \n",
       " 0 2020-12-25 15:19:09 -1.918777  63  0.483988  \n",
       " 1 2020-12-26 15:19:09 -1.711074  19  0.860072  \n",
       " 2 2020-12-27 15:19:09  1.354259  60  0.596831  \n",
       " 3 2020-12-28 15:19:09  0.536947  68  0.151428  ,\n",
       " 'sheet_three':            a      b       c  d          i  r       s                   t  \\\n",
       " 0  28.761685  False  medium  0  13.949897  1    male 2020-12-25 15:19:09   \n",
       " 1  41.392858   True  medium  0  27.218786  1    male 2020-12-26 15:19:09   \n",
       " 2  30.920617   True   small  0  42.950702  0  female 2020-12-27 15:19:09   \n",
       " 3  75.659727   True   large  0  78.456286  0    male 2020-12-28 15:19:09   \n",
       " \n",
       "                     u         x   y         z  \n",
       " 0 2020-12-25 15:19:09  1.496460  18  0.582901  \n",
       " 1 2020-12-26 15:19:09 -0.468279  43  0.296075  \n",
       " 2 2020-12-27 15:19:09  0.298107  31  0.141050  \n",
       " 3 2020-12-28 15:19:09  0.536436  39  0.932489  }"
      ]
     },
     "execution_count": 31,
     "metadata": {},
     "output_type": "execute_result"
    }
   ],
   "source": [
    "wb2"
   ]
  },
  {
   "cell_type": "code",
   "execution_count": 32,
   "metadata": {},
   "outputs": [
    {
     "data": {
      "text/plain": [
       "dict_keys(['sheet_one', 'sheet_two', 'sheet_three'])"
      ]
     },
     "execution_count": 32,
     "metadata": {},
     "output_type": "execute_result"
    }
   ],
   "source": [
    "wb2.keys()"
   ]
  },
  {
   "cell_type": "code",
   "execution_count": 33,
   "metadata": {},
   "outputs": [
    {
     "data": {
      "text/html": [
       "<div>\n",
       "<style scoped>\n",
       "    .dataframe tbody tr th:only-of-type {\n",
       "        vertical-align: middle;\n",
       "    }\n",
       "\n",
       "    .dataframe tbody tr th {\n",
       "        vertical-align: top;\n",
       "    }\n",
       "\n",
       "    .dataframe thead th {\n",
       "        text-align: right;\n",
       "    }\n",
       "</style>\n",
       "<table border=\"1\" class=\"dataframe\">\n",
       "  <thead>\n",
       "    <tr style=\"text-align: right;\">\n",
       "      <th></th>\n",
       "      <th>a</th>\n",
       "      <th>b</th>\n",
       "      <th>c</th>\n",
       "      <th>d</th>\n",
       "      <th>i</th>\n",
       "      <th>r</th>\n",
       "      <th>s</th>\n",
       "      <th>t</th>\n",
       "      <th>u</th>\n",
       "      <th>x</th>\n",
       "      <th>y</th>\n",
       "      <th>z</th>\n",
       "    </tr>\n",
       "  </thead>\n",
       "  <tbody>\n",
       "    <tr>\n",
       "      <th>0</th>\n",
       "      <td>39.388662</td>\n",
       "      <td>True</td>\n",
       "      <td>small</td>\n",
       "      <td>0</td>\n",
       "      <td>54.142202</td>\n",
       "      <td>1</td>\n",
       "      <td>male</td>\n",
       "      <td>2020-12-25 15:19:09</td>\n",
       "      <td>2020-12-25 15:19:09</td>\n",
       "      <td>1.145904</td>\n",
       "      <td>19</td>\n",
       "      <td>0.078433</td>\n",
       "    </tr>\n",
       "    <tr>\n",
       "      <th>1</th>\n",
       "      <td>25.841943</td>\n",
       "      <td>True</td>\n",
       "      <td>medium</td>\n",
       "      <td>0</td>\n",
       "      <td>17.101856</td>\n",
       "      <td>1</td>\n",
       "      <td>male</td>\n",
       "      <td>2020-12-26 15:19:09</td>\n",
       "      <td>2020-12-26 15:19:09</td>\n",
       "      <td>0.098596</td>\n",
       "      <td>57</td>\n",
       "      <td>0.570055</td>\n",
       "    </tr>\n",
       "  </tbody>\n",
       "</table>\n",
       "</div>"
      ],
      "text/plain": [
       "           a     b       c  d          i  r     s                   t  \\\n",
       "0  39.388662  True   small  0  54.142202  1  male 2020-12-25 15:19:09   \n",
       "1  25.841943  True  medium  0  17.101856  1  male 2020-12-26 15:19:09   \n",
       "\n",
       "                    u         x   y         z  \n",
       "0 2020-12-25 15:19:09  1.145904  19  0.078433  \n",
       "1 2020-12-26 15:19:09  0.098596  57  0.570055  "
      ]
     },
     "execution_count": 33,
     "metadata": {},
     "output_type": "execute_result"
    }
   ],
   "source": [
    "wb2df1 = wb2['sheet_one']\n",
    "wb2df1.head(2)"
   ]
  },
  {
   "cell_type": "code",
   "execution_count": 34,
   "metadata": {},
   "outputs": [
    {
     "data": {
      "text/plain": [
       "a           float64\n",
       "b              bool\n",
       "c            object\n",
       "d             int64\n",
       "i           float64\n",
       "r             int64\n",
       "s            object\n",
       "t    datetime64[ns]\n",
       "u    datetime64[ns]\n",
       "x           float64\n",
       "y             int64\n",
       "z           float64\n",
       "dtype: object"
      ]
     },
     "execution_count": 34,
     "metadata": {},
     "output_type": "execute_result"
    }
   ],
   "source": [
    "wb2df1.dtypes"
   ]
  },
  {
   "cell_type": "code",
   "execution_count": 35,
   "metadata": {},
   "outputs": [],
   "source": [
    "wb2df1 = wb2df1.astype(convert_dict)\n",
    "for column in time_delta_columns:\n",
    "    wb2df1[column] = pd.to_timedelta(wb2df1[column])\n",
    "wb2df1[parse_dates] = wb2df1[parse_dates].astype(dtype='datetime64[ns]')"
   ]
  },
  {
   "cell_type": "code",
   "execution_count": 36,
   "metadata": {
    "scrolled": true
   },
   "outputs": [
    {
     "data": {
      "text/plain": [
       "a            float64\n",
       "b            boolean\n",
       "c           category\n",
       "d    timedelta64[ns]\n",
       "i            float64\n",
       "r             object\n",
       "s             object\n",
       "t     datetime64[ns]\n",
       "u     datetime64[ns]\n",
       "x            float64\n",
       "y              Int64\n",
       "z            float64\n",
       "dtype: object"
      ]
     },
     "execution_count": 36,
     "metadata": {},
     "output_type": "execute_result"
    }
   ],
   "source": [
    "wb2df1.dtypes"
   ]
  },
  {
   "cell_type": "code",
   "execution_count": 37,
   "metadata": {},
   "outputs": [
    {
     "data": {
      "text/html": [
       "<div>\n",
       "<style scoped>\n",
       "    .dataframe tbody tr th:only-of-type {\n",
       "        vertical-align: middle;\n",
       "    }\n",
       "\n",
       "    .dataframe tbody tr th {\n",
       "        vertical-align: top;\n",
       "    }\n",
       "\n",
       "    .dataframe thead th {\n",
       "        text-align: right;\n",
       "    }\n",
       "</style>\n",
       "<table border=\"1\" class=\"dataframe\">\n",
       "  <thead>\n",
       "    <tr style=\"text-align: right;\">\n",
       "      <th></th>\n",
       "      <th>a</th>\n",
       "      <th>b</th>\n",
       "      <th>c</th>\n",
       "      <th>d</th>\n",
       "      <th>i</th>\n",
       "      <th>r</th>\n",
       "      <th>s</th>\n",
       "      <th>t</th>\n",
       "      <th>u</th>\n",
       "      <th>x</th>\n",
       "      <th>y</th>\n",
       "      <th>z</th>\n",
       "    </tr>\n",
       "  </thead>\n",
       "  <tbody>\n",
       "    <tr>\n",
       "      <th>0</th>\n",
       "      <td>81.343067</td>\n",
       "      <td>True</td>\n",
       "      <td>large</td>\n",
       "      <td>0</td>\n",
       "      <td>68.038313</td>\n",
       "      <td>1</td>\n",
       "      <td>male</td>\n",
       "      <td>2020-12-25 15:19:09</td>\n",
       "      <td>2020-12-25 15:19:09</td>\n",
       "      <td>-1.918777</td>\n",
       "      <td>63</td>\n",
       "      <td>0.483988</td>\n",
       "    </tr>\n",
       "    <tr>\n",
       "      <th>1</th>\n",
       "      <td>25.635353</td>\n",
       "      <td>False</td>\n",
       "      <td>medium</td>\n",
       "      <td>0</td>\n",
       "      <td>41.553712</td>\n",
       "      <td>1</td>\n",
       "      <td>female</td>\n",
       "      <td>2020-12-26 15:19:09</td>\n",
       "      <td>2020-12-26 15:19:09</td>\n",
       "      <td>-1.711074</td>\n",
       "      <td>19</td>\n",
       "      <td>0.860072</td>\n",
       "    </tr>\n",
       "  </tbody>\n",
       "</table>\n",
       "</div>"
      ],
      "text/plain": [
       "           a      b       c  d          i  r       s                   t  \\\n",
       "0  81.343067   True   large  0  68.038313  1    male 2020-12-25 15:19:09   \n",
       "1  25.635353  False  medium  0  41.553712  1  female 2020-12-26 15:19:09   \n",
       "\n",
       "                    u         x   y         z  \n",
       "0 2020-12-25 15:19:09 -1.918777  63  0.483988  \n",
       "1 2020-12-26 15:19:09 -1.711074  19  0.860072  "
      ]
     },
     "execution_count": 37,
     "metadata": {},
     "output_type": "execute_result"
    }
   ],
   "source": [
    "wb2df2 = wb2['sheet_two']\n",
    "wb2df2.head(2)"
   ]
  },
  {
   "cell_type": "code",
   "execution_count": 38,
   "metadata": {},
   "outputs": [
    {
     "data": {
      "text/plain": [
       "a           float64\n",
       "b              bool\n",
       "c            object\n",
       "d             int64\n",
       "i           float64\n",
       "r             int64\n",
       "s            object\n",
       "t    datetime64[ns]\n",
       "u    datetime64[ns]\n",
       "x           float64\n",
       "y             int64\n",
       "z           float64\n",
       "dtype: object"
      ]
     },
     "execution_count": 38,
     "metadata": {},
     "output_type": "execute_result"
    }
   ],
   "source": [
    "wb2df2.dtypes"
   ]
  },
  {
   "cell_type": "code",
   "execution_count": 39,
   "metadata": {},
   "outputs": [],
   "source": [
    "wb2df2 = wb2df1.astype(convert_dict)\n",
    "for column in time_delta_columns:\n",
    "    wb2df2[column] = pd.to_timedelta(wb2df2[column])\n",
    "wb2df2[parse_dates] = wb2df2[parse_dates].astype(dtype='datetime64[ns]')"
   ]
  },
  {
   "cell_type": "code",
   "execution_count": 40,
   "metadata": {},
   "outputs": [
    {
     "data": {
      "text/plain": [
       "a            float64\n",
       "b            boolean\n",
       "c           category\n",
       "d    timedelta64[ns]\n",
       "i            float64\n",
       "r             object\n",
       "s             object\n",
       "t     datetime64[ns]\n",
       "u     datetime64[ns]\n",
       "x            float64\n",
       "y              Int64\n",
       "z            float64\n",
       "dtype: object"
      ]
     },
     "execution_count": 40,
     "metadata": {},
     "output_type": "execute_result"
    }
   ],
   "source": [
    "wb2df2.dtypes"
   ]
  },
  {
   "cell_type": "code",
   "execution_count": 41,
   "metadata": {},
   "outputs": [
    {
     "data": {
      "text/html": [
       "<div>\n",
       "<style scoped>\n",
       "    .dataframe tbody tr th:only-of-type {\n",
       "        vertical-align: middle;\n",
       "    }\n",
       "\n",
       "    .dataframe tbody tr th {\n",
       "        vertical-align: top;\n",
       "    }\n",
       "\n",
       "    .dataframe thead th {\n",
       "        text-align: right;\n",
       "    }\n",
       "</style>\n",
       "<table border=\"1\" class=\"dataframe\">\n",
       "  <thead>\n",
       "    <tr style=\"text-align: right;\">\n",
       "      <th></th>\n",
       "      <th>a</th>\n",
       "      <th>b</th>\n",
       "      <th>c</th>\n",
       "      <th>d</th>\n",
       "      <th>i</th>\n",
       "      <th>r</th>\n",
       "      <th>s</th>\n",
       "      <th>t</th>\n",
       "      <th>u</th>\n",
       "      <th>x</th>\n",
       "      <th>y</th>\n",
       "      <th>z</th>\n",
       "    </tr>\n",
       "  </thead>\n",
       "  <tbody>\n",
       "    <tr>\n",
       "      <th>0</th>\n",
       "      <td>28.761685</td>\n",
       "      <td>False</td>\n",
       "      <td>medium</td>\n",
       "      <td>0</td>\n",
       "      <td>13.949897</td>\n",
       "      <td>1</td>\n",
       "      <td>male</td>\n",
       "      <td>2020-12-25 15:19:09</td>\n",
       "      <td>2020-12-25 15:19:09</td>\n",
       "      <td>1.496460</td>\n",
       "      <td>18</td>\n",
       "      <td>0.582901</td>\n",
       "    </tr>\n",
       "    <tr>\n",
       "      <th>1</th>\n",
       "      <td>41.392858</td>\n",
       "      <td>True</td>\n",
       "      <td>medium</td>\n",
       "      <td>0</td>\n",
       "      <td>27.218786</td>\n",
       "      <td>1</td>\n",
       "      <td>male</td>\n",
       "      <td>2020-12-26 15:19:09</td>\n",
       "      <td>2020-12-26 15:19:09</td>\n",
       "      <td>-0.468279</td>\n",
       "      <td>43</td>\n",
       "      <td>0.296075</td>\n",
       "    </tr>\n",
       "  </tbody>\n",
       "</table>\n",
       "</div>"
      ],
      "text/plain": [
       "           a      b       c  d          i  r     s                   t  \\\n",
       "0  28.761685  False  medium  0  13.949897  1  male 2020-12-25 15:19:09   \n",
       "1  41.392858   True  medium  0  27.218786  1  male 2020-12-26 15:19:09   \n",
       "\n",
       "                    u         x   y         z  \n",
       "0 2020-12-25 15:19:09  1.496460  18  0.582901  \n",
       "1 2020-12-26 15:19:09 -0.468279  43  0.296075  "
      ]
     },
     "execution_count": 41,
     "metadata": {},
     "output_type": "execute_result"
    }
   ],
   "source": [
    "wb2df3 = wb2['sheet_three']\n",
    "wb2df3.head(2)"
   ]
  },
  {
   "cell_type": "code",
   "execution_count": 42,
   "metadata": {},
   "outputs": [
    {
     "data": {
      "text/plain": [
       "a           float64\n",
       "b              bool\n",
       "c            object\n",
       "d             int64\n",
       "i           float64\n",
       "r             int64\n",
       "s            object\n",
       "t    datetime64[ns]\n",
       "u    datetime64[ns]\n",
       "x           float64\n",
       "y             int64\n",
       "z           float64\n",
       "dtype: object"
      ]
     },
     "execution_count": 42,
     "metadata": {},
     "output_type": "execute_result"
    }
   ],
   "source": [
    "wb2df3.dtypes"
   ]
  },
  {
   "cell_type": "code",
   "execution_count": 43,
   "metadata": {},
   "outputs": [],
   "source": [
    "wb2df3 = wb2df3.astype(convert_dict)\n",
    "for column in time_delta_columns:\n",
    "    wb2df3[column] = pd.to_timedelta(wb2df3[column])\n",
    "wb2df3[parse_dates] = wb2df3[parse_dates].astype(dtype='datetime64[ns]')"
   ]
  },
  {
   "cell_type": "code",
   "execution_count": 44,
   "metadata": {
    "scrolled": true
   },
   "outputs": [
    {
     "data": {
      "text/plain": [
       "a            float64\n",
       "b            boolean\n",
       "c           category\n",
       "d    timedelta64[ns]\n",
       "i            float64\n",
       "r             object\n",
       "s             object\n",
       "t     datetime64[ns]\n",
       "u     datetime64[ns]\n",
       "x            float64\n",
       "y              Int64\n",
       "z            float64\n",
       "dtype: object"
      ]
     },
     "execution_count": 44,
     "metadata": {},
     "output_type": "execute_result"
    }
   ],
   "source": [
    "wb2df3.dtypes"
   ]
  },
  {
   "cell_type": "markdown",
   "metadata": {},
   "source": [
    "# Read an Excel workbook with data and formulae in three worksheets"
   ]
  },
  {
   "cell_type": "markdown",
   "metadata": {},
   "source": [
    "## openpyxl"
   ]
  },
  {
   "cell_type": "code",
   "execution_count": 45,
   "metadata": {},
   "outputs": [
    {
     "data": {
      "text/plain": [
       "['sheet_calcs_1', 'sheet_calcs_2', 'sheet_calcs_3']"
      ]
     },
     "execution_count": 45,
     "metadata": {},
     "output_type": "execute_result"
    }
   ],
   "source": [
    "wb3 = load_workbook(filename='data/file_with_formulae.xlsx')\n",
    "wb3.sheetnames"
   ]
  },
  {
   "cell_type": "code",
   "execution_count": 46,
   "metadata": {},
   "outputs": [
    {
     "data": {
      "text/html": [
       "<div>\n",
       "<style scoped>\n",
       "    .dataframe tbody tr th:only-of-type {\n",
       "        vertical-align: middle;\n",
       "    }\n",
       "\n",
       "    .dataframe tbody tr th {\n",
       "        vertical-align: top;\n",
       "    }\n",
       "\n",
       "    .dataframe thead th {\n",
       "        text-align: right;\n",
       "    }\n",
       "</style>\n",
       "<table border=\"1\" class=\"dataframe\">\n",
       "  <thead>\n",
       "    <tr style=\"text-align: right;\">\n",
       "      <th></th>\n",
       "      <th>data</th>\n",
       "      <th>power_two</th>\n",
       "    </tr>\n",
       "  </thead>\n",
       "  <tbody>\n",
       "    <tr>\n",
       "      <th>0</th>\n",
       "      <td>1</td>\n",
       "      <td>=A2^2</td>\n",
       "    </tr>\n",
       "    <tr>\n",
       "      <th>1</th>\n",
       "      <td>3</td>\n",
       "      <td>=A3^2</td>\n",
       "    </tr>\n",
       "    <tr>\n",
       "      <th>2</th>\n",
       "      <td>6</td>\n",
       "      <td>=A4^2</td>\n",
       "    </tr>\n",
       "    <tr>\n",
       "      <th>3</th>\n",
       "      <td>4</td>\n",
       "      <td>=A5^2</td>\n",
       "    </tr>\n",
       "    <tr>\n",
       "      <th>4</th>\n",
       "      <td>7</td>\n",
       "      <td>=A6^2</td>\n",
       "    </tr>\n",
       "    <tr>\n",
       "      <th>5</th>\n",
       "      <td>2</td>\n",
       "      <td>=A7^2</td>\n",
       "    </tr>\n",
       "    <tr>\n",
       "      <th>6</th>\n",
       "      <td>8</td>\n",
       "      <td>=A8^2</td>\n",
       "    </tr>\n",
       "  </tbody>\n",
       "</table>\n",
       "</div>"
      ],
      "text/plain": [
       "   data power_two\n",
       "0     1     =A2^2\n",
       "1     3     =A3^2\n",
       "2     6     =A4^2\n",
       "3     4     =A5^2\n",
       "4     7     =A6^2\n",
       "5     2     =A7^2\n",
       "6     8     =A8^2"
      ]
     },
     "execution_count": 46,
     "metadata": {},
     "output_type": "execute_result"
    }
   ],
   "source": [
    "wb3s1 = wb3['sheet_calcs_1']\n",
    "from itertools import islice\n",
    "data = wb3s1.values\n",
    "cols = next(data)[:]\n",
    "data = list(data)\n",
    "# idx = [row[0] for row in data]\n",
    "data = (islice(row, None) for row in data)\n",
    "wb3df1 = pd.DataFrame(data, columns=cols)\n",
    "wb3df1"
   ]
  },
  {
   "cell_type": "code",
   "execution_count": 47,
   "metadata": {},
   "outputs": [
    {
     "data": {
      "text/plain": [
       "data          int64\n",
       "power_two    object\n",
       "dtype: object"
      ]
     },
     "execution_count": 47,
     "metadata": {},
     "output_type": "execute_result"
    }
   ],
   "source": [
    "wb3df1.dtypes"
   ]
  },
  {
   "cell_type": "code",
   "execution_count": 48,
   "metadata": {},
   "outputs": [
    {
     "data": {
      "text/html": [
       "<div>\n",
       "<style scoped>\n",
       "    .dataframe tbody tr th:only-of-type {\n",
       "        vertical-align: middle;\n",
       "    }\n",
       "\n",
       "    .dataframe tbody tr th {\n",
       "        vertical-align: top;\n",
       "    }\n",
       "\n",
       "    .dataframe thead th {\n",
       "        text-align: right;\n",
       "    }\n",
       "</style>\n",
       "<table border=\"1\" class=\"dataframe\">\n",
       "  <thead>\n",
       "    <tr style=\"text-align: right;\">\n",
       "      <th></th>\n",
       "      <th>data</th>\n",
       "      <th>power_three</th>\n",
       "    </tr>\n",
       "  </thead>\n",
       "  <tbody>\n",
       "    <tr>\n",
       "      <th>0</th>\n",
       "      <td>3</td>\n",
       "      <td>=A2^3</td>\n",
       "    </tr>\n",
       "    <tr>\n",
       "      <th>1</th>\n",
       "      <td>6</td>\n",
       "      <td>=A3^3</td>\n",
       "    </tr>\n",
       "    <tr>\n",
       "      <th>2</th>\n",
       "      <td>4</td>\n",
       "      <td>=A4^3</td>\n",
       "    </tr>\n",
       "    <tr>\n",
       "      <th>3</th>\n",
       "      <td>7</td>\n",
       "      <td>=A5^3</td>\n",
       "    </tr>\n",
       "    <tr>\n",
       "      <th>4</th>\n",
       "      <td>2</td>\n",
       "      <td>=A6^3</td>\n",
       "    </tr>\n",
       "    <tr>\n",
       "      <th>5</th>\n",
       "      <td>8</td>\n",
       "      <td>=A7^3</td>\n",
       "    </tr>\n",
       "    <tr>\n",
       "      <th>6</th>\n",
       "      <td>1</td>\n",
       "      <td>=A8^3</td>\n",
       "    </tr>\n",
       "  </tbody>\n",
       "</table>\n",
       "</div>"
      ],
      "text/plain": [
       "   data power_three\n",
       "0     3       =A2^3\n",
       "1     6       =A3^3\n",
       "2     4       =A4^3\n",
       "3     7       =A5^3\n",
       "4     2       =A6^3\n",
       "5     8       =A7^3\n",
       "6     1       =A8^3"
      ]
     },
     "execution_count": 48,
     "metadata": {},
     "output_type": "execute_result"
    }
   ],
   "source": [
    "wb3s2 = wb3['sheet_calcs_2']\n",
    "from itertools import islice\n",
    "data = wb3s2.values\n",
    "cols = next(data)[:]\n",
    "data = list(data)\n",
    "# idx = [row[0] for row in data]\n",
    "data = (islice(row, None) for row in data)\n",
    "wb3df2 = pd.DataFrame(data, columns=cols)\n",
    "wb3df2"
   ]
  },
  {
   "cell_type": "code",
   "execution_count": 49,
   "metadata": {},
   "outputs": [
    {
     "data": {
      "text/plain": [
       "data            int64\n",
       "power_three    object\n",
       "dtype: object"
      ]
     },
     "execution_count": 49,
     "metadata": {},
     "output_type": "execute_result"
    }
   ],
   "source": [
    "wb3df2.dtypes"
   ]
  },
  {
   "cell_type": "code",
   "execution_count": 50,
   "metadata": {},
   "outputs": [
    {
     "data": {
      "text/html": [
       "<div>\n",
       "<style scoped>\n",
       "    .dataframe tbody tr th:only-of-type {\n",
       "        vertical-align: middle;\n",
       "    }\n",
       "\n",
       "    .dataframe tbody tr th {\n",
       "        vertical-align: top;\n",
       "    }\n",
       "\n",
       "    .dataframe thead th {\n",
       "        text-align: right;\n",
       "    }\n",
       "</style>\n",
       "<table border=\"1\" class=\"dataframe\">\n",
       "  <thead>\n",
       "    <tr style=\"text-align: right;\">\n",
       "      <th></th>\n",
       "      <th>data</th>\n",
       "      <th>power_four</th>\n",
       "    </tr>\n",
       "  </thead>\n",
       "  <tbody>\n",
       "    <tr>\n",
       "      <th>0</th>\n",
       "      <td>6</td>\n",
       "      <td>=A2^4</td>\n",
       "    </tr>\n",
       "    <tr>\n",
       "      <th>1</th>\n",
       "      <td>4</td>\n",
       "      <td>=A3^4</td>\n",
       "    </tr>\n",
       "    <tr>\n",
       "      <th>2</th>\n",
       "      <td>7</td>\n",
       "      <td>=A4^4</td>\n",
       "    </tr>\n",
       "    <tr>\n",
       "      <th>3</th>\n",
       "      <td>2</td>\n",
       "      <td>=A5^4</td>\n",
       "    </tr>\n",
       "    <tr>\n",
       "      <th>4</th>\n",
       "      <td>8</td>\n",
       "      <td>=A6^4</td>\n",
       "    </tr>\n",
       "    <tr>\n",
       "      <th>5</th>\n",
       "      <td>1</td>\n",
       "      <td>=A7^4</td>\n",
       "    </tr>\n",
       "    <tr>\n",
       "      <th>6</th>\n",
       "      <td>3</td>\n",
       "      <td>=A8^4</td>\n",
       "    </tr>\n",
       "  </tbody>\n",
       "</table>\n",
       "</div>"
      ],
      "text/plain": [
       "   data power_four\n",
       "0     6      =A2^4\n",
       "1     4      =A3^4\n",
       "2     7      =A4^4\n",
       "3     2      =A5^4\n",
       "4     8      =A6^4\n",
       "5     1      =A7^4\n",
       "6     3      =A8^4"
      ]
     },
     "execution_count": 50,
     "metadata": {},
     "output_type": "execute_result"
    }
   ],
   "source": [
    "wb3s3 = wb3['sheet_calcs_3']\n",
    "from itertools import islice\n",
    "data = wb3s3.values\n",
    "cols = next(data)[:]\n",
    "data = list(data)\n",
    "# idx = [row[0] for row in data]\n",
    "data = (islice(row, None) for row in data)\n",
    "wb3df3 = pd.DataFrame(data, columns=cols)\n",
    "wb3df3"
   ]
  },
  {
   "cell_type": "code",
   "execution_count": 51,
   "metadata": {},
   "outputs": [
    {
     "data": {
      "text/plain": [
       "data           int64\n",
       "power_four    object\n",
       "dtype: object"
      ]
     },
     "execution_count": 51,
     "metadata": {},
     "output_type": "execute_result"
    }
   ],
   "source": [
    "wb3df3.dtypes"
   ]
  },
  {
   "cell_type": "markdown",
   "metadata": {},
   "source": [
    "## pd.read_excel"
   ]
  },
  {
   "cell_type": "code",
   "execution_count": 52,
   "metadata": {},
   "outputs": [
    {
     "data": {
      "text/plain": [
       "dict_keys(['sheet_calcs_1', 'sheet_calcs_2', 'sheet_calcs_3'])"
      ]
     },
     "execution_count": 52,
     "metadata": {},
     "output_type": "execute_result"
    }
   ],
   "source": [
    "wb4 = pd.read_excel(\n",
    "    io='data/file_with_formulae.xlsx',\n",
    "    sheet_name=None,\n",
    "    engine='openpyxl'\n",
    ")\n",
    "wb4.keys()"
   ]
  },
  {
   "cell_type": "code",
   "execution_count": 53,
   "metadata": {},
   "outputs": [
    {
     "data": {
      "text/html": [
       "<div>\n",
       "<style scoped>\n",
       "    .dataframe tbody tr th:only-of-type {\n",
       "        vertical-align: middle;\n",
       "    }\n",
       "\n",
       "    .dataframe tbody tr th {\n",
       "        vertical-align: top;\n",
       "    }\n",
       "\n",
       "    .dataframe thead th {\n",
       "        text-align: right;\n",
       "    }\n",
       "</style>\n",
       "<table border=\"1\" class=\"dataframe\">\n",
       "  <thead>\n",
       "    <tr style=\"text-align: right;\">\n",
       "      <th></th>\n",
       "      <th>data</th>\n",
       "      <th>power_two</th>\n",
       "    </tr>\n",
       "  </thead>\n",
       "  <tbody>\n",
       "    <tr>\n",
       "      <th>0</th>\n",
       "      <td>1</td>\n",
       "      <td>1</td>\n",
       "    </tr>\n",
       "    <tr>\n",
       "      <th>1</th>\n",
       "      <td>3</td>\n",
       "      <td>9</td>\n",
       "    </tr>\n",
       "    <tr>\n",
       "      <th>2</th>\n",
       "      <td>6</td>\n",
       "      <td>36</td>\n",
       "    </tr>\n",
       "    <tr>\n",
       "      <th>3</th>\n",
       "      <td>4</td>\n",
       "      <td>16</td>\n",
       "    </tr>\n",
       "    <tr>\n",
       "      <th>4</th>\n",
       "      <td>7</td>\n",
       "      <td>49</td>\n",
       "    </tr>\n",
       "    <tr>\n",
       "      <th>5</th>\n",
       "      <td>2</td>\n",
       "      <td>4</td>\n",
       "    </tr>\n",
       "    <tr>\n",
       "      <th>6</th>\n",
       "      <td>8</td>\n",
       "      <td>64</td>\n",
       "    </tr>\n",
       "  </tbody>\n",
       "</table>\n",
       "</div>"
      ],
      "text/plain": [
       "   data  power_two\n",
       "0     1          1\n",
       "1     3          9\n",
       "2     6         36\n",
       "3     4         16\n",
       "4     7         49\n",
       "5     2          4\n",
       "6     8         64"
      ]
     },
     "execution_count": 53,
     "metadata": {},
     "output_type": "execute_result"
    }
   ],
   "source": [
    "wb4s1 = wb4['sheet_calcs_1']\n",
    "wb4s1"
   ]
  },
  {
   "cell_type": "code",
   "execution_count": 54,
   "metadata": {},
   "outputs": [
    {
     "data": {
      "text/plain": [
       "data         int64\n",
       "power_two    int64\n",
       "dtype: object"
      ]
     },
     "execution_count": 54,
     "metadata": {},
     "output_type": "execute_result"
    }
   ],
   "source": [
    "wb4s1.dtypes"
   ]
  },
  {
   "cell_type": "code",
   "execution_count": 55,
   "metadata": {},
   "outputs": [
    {
     "data": {
      "text/html": [
       "<div>\n",
       "<style scoped>\n",
       "    .dataframe tbody tr th:only-of-type {\n",
       "        vertical-align: middle;\n",
       "    }\n",
       "\n",
       "    .dataframe tbody tr th {\n",
       "        vertical-align: top;\n",
       "    }\n",
       "\n",
       "    .dataframe thead th {\n",
       "        text-align: right;\n",
       "    }\n",
       "</style>\n",
       "<table border=\"1\" class=\"dataframe\">\n",
       "  <thead>\n",
       "    <tr style=\"text-align: right;\">\n",
       "      <th></th>\n",
       "      <th>data</th>\n",
       "      <th>power_three</th>\n",
       "    </tr>\n",
       "  </thead>\n",
       "  <tbody>\n",
       "    <tr>\n",
       "      <th>0</th>\n",
       "      <td>3</td>\n",
       "      <td>27</td>\n",
       "    </tr>\n",
       "    <tr>\n",
       "      <th>1</th>\n",
       "      <td>6</td>\n",
       "      <td>216</td>\n",
       "    </tr>\n",
       "    <tr>\n",
       "      <th>2</th>\n",
       "      <td>4</td>\n",
       "      <td>64</td>\n",
       "    </tr>\n",
       "    <tr>\n",
       "      <th>3</th>\n",
       "      <td>7</td>\n",
       "      <td>343</td>\n",
       "    </tr>\n",
       "    <tr>\n",
       "      <th>4</th>\n",
       "      <td>2</td>\n",
       "      <td>8</td>\n",
       "    </tr>\n",
       "    <tr>\n",
       "      <th>5</th>\n",
       "      <td>8</td>\n",
       "      <td>512</td>\n",
       "    </tr>\n",
       "    <tr>\n",
       "      <th>6</th>\n",
       "      <td>1</td>\n",
       "      <td>1</td>\n",
       "    </tr>\n",
       "  </tbody>\n",
       "</table>\n",
       "</div>"
      ],
      "text/plain": [
       "   data  power_three\n",
       "0     3           27\n",
       "1     6          216\n",
       "2     4           64\n",
       "3     7          343\n",
       "4     2            8\n",
       "5     8          512\n",
       "6     1            1"
      ]
     },
     "execution_count": 55,
     "metadata": {},
     "output_type": "execute_result"
    }
   ],
   "source": [
    "wb4s2 = wb4['sheet_calcs_2']\n",
    "wb4s2"
   ]
  },
  {
   "cell_type": "code",
   "execution_count": 56,
   "metadata": {},
   "outputs": [
    {
     "data": {
      "text/plain": [
       "data           int64\n",
       "power_three    int64\n",
       "dtype: object"
      ]
     },
     "execution_count": 56,
     "metadata": {},
     "output_type": "execute_result"
    }
   ],
   "source": [
    "wb4s2.dtypes"
   ]
  },
  {
   "cell_type": "code",
   "execution_count": 57,
   "metadata": {},
   "outputs": [
    {
     "data": {
      "text/html": [
       "<div>\n",
       "<style scoped>\n",
       "    .dataframe tbody tr th:only-of-type {\n",
       "        vertical-align: middle;\n",
       "    }\n",
       "\n",
       "    .dataframe tbody tr th {\n",
       "        vertical-align: top;\n",
       "    }\n",
       "\n",
       "    .dataframe thead th {\n",
       "        text-align: right;\n",
       "    }\n",
       "</style>\n",
       "<table border=\"1\" class=\"dataframe\">\n",
       "  <thead>\n",
       "    <tr style=\"text-align: right;\">\n",
       "      <th></th>\n",
       "      <th>data</th>\n",
       "      <th>power_four</th>\n",
       "    </tr>\n",
       "  </thead>\n",
       "  <tbody>\n",
       "    <tr>\n",
       "      <th>0</th>\n",
       "      <td>6</td>\n",
       "      <td>1296</td>\n",
       "    </tr>\n",
       "    <tr>\n",
       "      <th>1</th>\n",
       "      <td>4</td>\n",
       "      <td>256</td>\n",
       "    </tr>\n",
       "    <tr>\n",
       "      <th>2</th>\n",
       "      <td>7</td>\n",
       "      <td>2401</td>\n",
       "    </tr>\n",
       "    <tr>\n",
       "      <th>3</th>\n",
       "      <td>2</td>\n",
       "      <td>16</td>\n",
       "    </tr>\n",
       "    <tr>\n",
       "      <th>4</th>\n",
       "      <td>8</td>\n",
       "      <td>4096</td>\n",
       "    </tr>\n",
       "    <tr>\n",
       "      <th>5</th>\n",
       "      <td>1</td>\n",
       "      <td>1</td>\n",
       "    </tr>\n",
       "    <tr>\n",
       "      <th>6</th>\n",
       "      <td>3</td>\n",
       "      <td>81</td>\n",
       "    </tr>\n",
       "  </tbody>\n",
       "</table>\n",
       "</div>"
      ],
      "text/plain": [
       "   data  power_four\n",
       "0     6        1296\n",
       "1     4         256\n",
       "2     7        2401\n",
       "3     2          16\n",
       "4     8        4096\n",
       "5     1           1\n",
       "6     3          81"
      ]
     },
     "execution_count": 57,
     "metadata": {},
     "output_type": "execute_result"
    }
   ],
   "source": [
    "wb4s3 = wb4['sheet_calcs_3']\n",
    "wb4s3"
   ]
  },
  {
   "cell_type": "code",
   "execution_count": 58,
   "metadata": {},
   "outputs": [
    {
     "data": {
      "text/plain": [
       "data          int64\n",
       "power_four    int64\n",
       "dtype: object"
      ]
     },
     "execution_count": 58,
     "metadata": {},
     "output_type": "execute_result"
    }
   ],
   "source": [
    "wb4s3.dtypes"
   ]
  }
 ],
 "metadata": {
  "kernelspec": {
   "display_name": "Python 3",
   "language": "python",
   "name": "python3"
  },
  "language_info": {
   "codemirror_mode": {
    "name": "ipython",
    "version": 3
   },
   "file_extension": ".py",
   "mimetype": "text/x-python",
   "name": "python",
   "nbconvert_exporter": "python",
   "pygments_lexer": "ipython3",
   "version": "3.9.1"
  },
  "varInspector": {
   "cols": {
    "lenName": 16,
    "lenType": 16,
    "lenVar": 40
   },
   "kernels_config": {
    "python": {
     "delete_cmd_postfix": "",
     "delete_cmd_prefix": "del ",
     "library": "var_list.py",
     "varRefreshCmd": "print(var_dic_list())"
    },
    "r": {
     "delete_cmd_postfix": ") ",
     "delete_cmd_prefix": "rm(",
     "library": "var_list.r",
     "varRefreshCmd": "cat(var_dic_list()) "
    }
   },
   "types_to_exclude": [
    "module",
    "function",
    "builtin_function_or_method",
    "instance",
    "_Feature"
   ],
   "window_display": false
  }
 },
 "nbformat": 4,
 "nbformat_minor": 2
}
