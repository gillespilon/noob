{
 "cells": [
  {
   "cell_type": "markdown",
   "metadata": {},
   "source": [
    "# Linear regression scratchpad\n",
    "\n",
    "File: noob/minitab_particle_board.ipynb"
   ]
  },
  {
   "cell_type": "code",
   "execution_count": 1,
   "metadata": {},
   "outputs": [],
   "source": [
    "# Temporary notebook to develop linear regression example using SKLEARN.\n",
    "import pandas as pd\n",
    "import numpy as np\n",
    "import matplotlib.cm as cm\n",
    "import matplotlib.axes as axes\n",
    "from sklearn.linear_model import LinearRegression"
   ]
  },
  {
   "cell_type": "code",
   "execution_count": 2,
   "metadata": {},
   "outputs": [],
   "source": [
    "%matplotlib inline"
   ]
  },
  {
   "cell_type": "code",
   "execution_count": 3,
   "metadata": {},
   "outputs": [],
   "source": [
    "c = cm.Paired.colors\n",
    "# c[0] c[1] ... c[11]\n",
    "# See \"paired\" in \"qualitative colormaps\"\n",
    "# https://matplotlib.org/tutorials/colors/colormaps.html"
   ]
  },
  {
   "cell_type": "code",
   "execution_count": 4,
   "metadata": {},
   "outputs": [],
   "source": [
    "def despine(ax: axes.Axes) -> None:\n",
    "    \"\"\"\n",
    "    Remove the top and right spines of a graph.\n",
    "\n",
    "    Parameters\n",
    "    ----------\n",
    "    ax : axes.Axes\n",
    "\n",
    "    Example\n",
    "    -------\n",
    "    >>> despine(ax)\n",
    "    \"\"\"\n",
    "    for spine in 'right', 'top':\n",
    "        ax.spines[spine].set_visible(False)"
   ]
  },
  {
   "cell_type": "code",
   "execution_count": 5,
   "metadata": {},
   "outputs": [],
   "source": [
    "df = pd.read_csv('particle_board.csv')"
   ]
  },
  {
   "cell_type": "code",
   "execution_count": 6,
   "metadata": {},
   "outputs": [
    {
     "data": {
      "text/html": [
       "<div>\n",
       "<style scoped>\n",
       "    .dataframe tbody tr th:only-of-type {\n",
       "        vertical-align: middle;\n",
       "    }\n",
       "\n",
       "    .dataframe tbody tr th {\n",
       "        vertical-align: top;\n",
       "    }\n",
       "\n",
       "    .dataframe thead th {\n",
       "        text-align: right;\n",
       "    }\n",
       "</style>\n",
       "<table border=\"1\" class=\"dataframe\">\n",
       "  <thead>\n",
       "    <tr style=\"text-align: right;\">\n",
       "      <th></th>\n",
       "      <th>Density</th>\n",
       "      <th>Stiffness</th>\n",
       "      <th>Temp</th>\n",
       "    </tr>\n",
       "  </thead>\n",
       "  <tbody>\n",
       "    <tr>\n",
       "      <th>0</th>\n",
       "      <td>9.5</td>\n",
       "      <td>14.814</td>\n",
       "      <td>70.610561</td>\n",
       "    </tr>\n",
       "    <tr>\n",
       "      <th>1</th>\n",
       "      <td>8.4</td>\n",
       "      <td>17.502</td>\n",
       "      <td>73.348930</td>\n",
       "    </tr>\n",
       "    <tr>\n",
       "      <th>2</th>\n",
       "      <td>9.8</td>\n",
       "      <td>14.007</td>\n",
       "      <td>66.153767</td>\n",
       "    </tr>\n",
       "    <tr>\n",
       "      <th>3</th>\n",
       "      <td>11.0</td>\n",
       "      <td>19.443</td>\n",
       "      <td>70.057809</td>\n",
       "    </tr>\n",
       "    <tr>\n",
       "      <th>4</th>\n",
       "      <td>8.3</td>\n",
       "      <td>7.573</td>\n",
       "      <td>69.339188</td>\n",
       "    </tr>\n",
       "  </tbody>\n",
       "</table>\n",
       "</div>"
      ],
      "text/plain": [
       "   Density  Stiffness       Temp\n",
       "0      9.5     14.814  70.610561\n",
       "1      8.4     17.502  73.348930\n",
       "2      9.8     14.007  66.153767\n",
       "3     11.0     19.443  70.057809\n",
       "4      8.3      7.573  69.339188"
      ]
     },
     "execution_count": 6,
     "metadata": {},
     "output_type": "execute_result"
    }
   ],
   "source": [
    "df.head()"
   ]
  },
  {
   "cell_type": "code",
   "execution_count": 7,
   "metadata": {},
   "outputs": [
    {
     "data": {
      "text/plain": [
       "Density      float64\n",
       "Stiffness    float64\n",
       "Temp         float64\n",
       "dtype: object"
      ]
     },
     "execution_count": 7,
     "metadata": {},
     "output_type": "execute_result"
    }
   ],
   "source": [
    "df.dtypes"
   ]
  },
  {
   "cell_type": "code",
   "execution_count": 8,
   "metadata": {},
   "outputs": [],
   "source": [
    "# values converts it into a numpy array\n",
    "X_actual = df.iloc[:, 0].values.reshape(-1, 1)\n",
    "# -1 means that calculate the dimension of rows, but have 1 column\n",
    "Y_actual = df.iloc[:, 1].values.reshape(-1, 1)"
   ]
  },
  {
   "cell_type": "code",
   "execution_count": 9,
   "metadata": {},
   "outputs": [],
   "source": [
    "linear_regressor = LinearRegression() # create object for the class"
   ]
  },
  {
   "cell_type": "code",
   "execution_count": 10,
   "metadata": {},
   "outputs": [
    {
     "data": {
      "text/plain": [
       "LinearRegression(copy_X=True, fit_intercept=True, n_jobs=None,\n",
       "         normalize=False)"
      ]
     },
     "execution_count": 10,
     "metadata": {},
     "output_type": "execute_result"
    }
   ],
   "source": [
    "linear_regressor.fit(X_actual, Y_actual)  # perform linear regression"
   ]
  },
  {
   "cell_type": "code",
   "execution_count": 11,
   "metadata": {},
   "outputs": [],
   "source": [
    "Y_predicted = linear_regressor.predict(X_actual)  # make predictions"
   ]
  },
  {
   "cell_type": "code",
   "execution_count": 12,
   "metadata": {},
   "outputs": [
    {
     "data": {
      "text/html": [
       "<div>\n",
       "<style scoped>\n",
       "    .dataframe tbody tr th:only-of-type {\n",
       "        vertical-align: middle;\n",
       "    }\n",
       "\n",
       "    .dataframe tbody tr th {\n",
       "        vertical-align: top;\n",
       "    }\n",
       "\n",
       "    .dataframe thead th {\n",
       "        text-align: right;\n",
       "    }\n",
       "</style>\n",
       "<table border=\"1\" class=\"dataframe\">\n",
       "  <thead>\n",
       "    <tr style=\"text-align: right;\">\n",
       "      <th></th>\n",
       "      <th>Density</th>\n",
       "      <th>Stiffness</th>\n",
       "      <th>Temp</th>\n",
       "      <th>Y_predicted</th>\n",
       "    </tr>\n",
       "  </thead>\n",
       "  <tbody>\n",
       "    <tr>\n",
       "      <th>0</th>\n",
       "      <td>9.5</td>\n",
       "      <td>14.814</td>\n",
       "      <td>70.610561</td>\n",
       "      <td>12.101302</td>\n",
       "    </tr>\n",
       "    <tr>\n",
       "      <th>1</th>\n",
       "      <td>8.4</td>\n",
       "      <td>17.502</td>\n",
       "      <td>73.348930</td>\n",
       "      <td>8.206708</td>\n",
       "    </tr>\n",
       "    <tr>\n",
       "      <th>2</th>\n",
       "      <td>9.8</td>\n",
       "      <td>14.007</td>\n",
       "      <td>66.153767</td>\n",
       "      <td>13.163464</td>\n",
       "    </tr>\n",
       "    <tr>\n",
       "      <th>3</th>\n",
       "      <td>11.0</td>\n",
       "      <td>19.443</td>\n",
       "      <td>70.057809</td>\n",
       "      <td>17.412112</td>\n",
       "    </tr>\n",
       "    <tr>\n",
       "      <th>4</th>\n",
       "      <td>8.3</td>\n",
       "      <td>7.573</td>\n",
       "      <td>69.339188</td>\n",
       "      <td>7.852654</td>\n",
       "    </tr>\n",
       "    <tr>\n",
       "      <th>5</th>\n",
       "      <td>9.9</td>\n",
       "      <td>14.191</td>\n",
       "      <td>69.128820</td>\n",
       "      <td>13.517518</td>\n",
       "    </tr>\n",
       "    <tr>\n",
       "      <th>6</th>\n",
       "      <td>8.6</td>\n",
       "      <td>9.714</td>\n",
       "      <td>69.833514</td>\n",
       "      <td>8.914816</td>\n",
       "    </tr>\n",
       "    <tr>\n",
       "      <th>7</th>\n",
       "      <td>6.4</td>\n",
       "      <td>8.076</td>\n",
       "      <td>64.366166</td>\n",
       "      <td>1.125628</td>\n",
       "    </tr>\n",
       "    <tr>\n",
       "      <th>8</th>\n",
       "      <td>7.0</td>\n",
       "      <td>5.304</td>\n",
       "      <td>65.410393</td>\n",
       "      <td>3.249952</td>\n",
       "    </tr>\n",
       "    <tr>\n",
       "      <th>9</th>\n",
       "      <td>8.2</td>\n",
       "      <td>10.728</td>\n",
       "      <td>67.767388</td>\n",
       "      <td>7.498600</td>\n",
       "    </tr>\n",
       "    <tr>\n",
       "      <th>10</th>\n",
       "      <td>17.4</td>\n",
       "      <td>43.243</td>\n",
       "      <td>69.700525</td>\n",
       "      <td>40.071570</td>\n",
       "    </tr>\n",
       "    <tr>\n",
       "      <th>11</th>\n",
       "      <td>15.0</td>\n",
       "      <td>25.319</td>\n",
       "      <td>66.930955</td>\n",
       "      <td>31.574273</td>\n",
       "    </tr>\n",
       "    <tr>\n",
       "      <th>12</th>\n",
       "      <td>15.2</td>\n",
       "      <td>28.028</td>\n",
       "      <td>71.523619</td>\n",
       "      <td>32.282381</td>\n",
       "    </tr>\n",
       "    <tr>\n",
       "      <th>13</th>\n",
       "      <td>16.4</td>\n",
       "      <td>41.792</td>\n",
       "      <td>66.607476</td>\n",
       "      <td>36.531029</td>\n",
       "    </tr>\n",
       "    <tr>\n",
       "      <th>14</th>\n",
       "      <td>16.7</td>\n",
       "      <td>49.499</td>\n",
       "      <td>67.986853</td>\n",
       "      <td>37.593191</td>\n",
       "    </tr>\n",
       "    <tr>\n",
       "      <th>15</th>\n",
       "      <td>15.4</td>\n",
       "      <td>25.312</td>\n",
       "      <td>64.293236</td>\n",
       "      <td>32.990489</td>\n",
       "    </tr>\n",
       "    <tr>\n",
       "      <th>16</th>\n",
       "      <td>15.0</td>\n",
       "      <td>26.222</td>\n",
       "      <td>64.483429</td>\n",
       "      <td>31.574273</td>\n",
       "    </tr>\n",
       "    <tr>\n",
       "      <th>17</th>\n",
       "      <td>14.5</td>\n",
       "      <td>22.148</td>\n",
       "      <td>71.308402</td>\n",
       "      <td>29.804003</td>\n",
       "    </tr>\n",
       "    <tr>\n",
       "      <th>18</th>\n",
       "      <td>14.8</td>\n",
       "      <td>26.751</td>\n",
       "      <td>69.587548</td>\n",
       "      <td>30.866165</td>\n",
       "    </tr>\n",
       "    <tr>\n",
       "      <th>19</th>\n",
       "      <td>13.6</td>\n",
       "      <td>18.036</td>\n",
       "      <td>71.133207</td>\n",
       "      <td>26.617517</td>\n",
       "    </tr>\n",
       "    <tr>\n",
       "      <th>20</th>\n",
       "      <td>25.6</td>\n",
       "      <td>96.305</td>\n",
       "      <td>72.097066</td>\n",
       "      <td>69.103999</td>\n",
       "    </tr>\n",
       "    <tr>\n",
       "      <th>21</th>\n",
       "      <td>24.4</td>\n",
       "      <td>72.594</td>\n",
       "      <td>67.322072</td>\n",
       "      <td>64.855351</td>\n",
       "    </tr>\n",
       "    <tr>\n",
       "      <th>22</th>\n",
       "      <td>23.3</td>\n",
       "      <td>49.512</td>\n",
       "      <td>66.655967</td>\n",
       "      <td>60.960757</td>\n",
       "    </tr>\n",
       "    <tr>\n",
       "      <th>23</th>\n",
       "      <td>19.5</td>\n",
       "      <td>32.207</td>\n",
       "      <td>68.122592</td>\n",
       "      <td>47.506704</td>\n",
       "    </tr>\n",
       "    <tr>\n",
       "      <th>24</th>\n",
       "      <td>21.2</td>\n",
       "      <td>48.218</td>\n",
       "      <td>66.456212</td>\n",
       "      <td>53.525622</td>\n",
       "    </tr>\n",
       "    <tr>\n",
       "      <th>25</th>\n",
       "      <td>22.8</td>\n",
       "      <td>70.453</td>\n",
       "      <td>65.667792</td>\n",
       "      <td>59.190487</td>\n",
       "    </tr>\n",
       "    <tr>\n",
       "      <th>26</th>\n",
       "      <td>21.7</td>\n",
       "      <td>47.661</td>\n",
       "      <td>66.278873</td>\n",
       "      <td>55.295892</td>\n",
       "    </tr>\n",
       "    <tr>\n",
       "      <th>27</th>\n",
       "      <td>19.8</td>\n",
       "      <td>38.138</td>\n",
       "      <td>69.414735</td>\n",
       "      <td>48.568866</td>\n",
       "    </tr>\n",
       "    <tr>\n",
       "      <th>28</th>\n",
       "      <td>21.3</td>\n",
       "      <td>53.045</td>\n",
       "      <td>68.264817</td>\n",
       "      <td>53.879676</td>\n",
       "    </tr>\n",
       "  </tbody>\n",
       "</table>\n",
       "</div>"
      ],
      "text/plain": [
       "    Density  Stiffness       Temp  Y_predicted\n",
       "0       9.5     14.814  70.610561    12.101302\n",
       "1       8.4     17.502  73.348930     8.206708\n",
       "2       9.8     14.007  66.153767    13.163464\n",
       "3      11.0     19.443  70.057809    17.412112\n",
       "4       8.3      7.573  69.339188     7.852654\n",
       "5       9.9     14.191  69.128820    13.517518\n",
       "6       8.6      9.714  69.833514     8.914816\n",
       "7       6.4      8.076  64.366166     1.125628\n",
       "8       7.0      5.304  65.410393     3.249952\n",
       "9       8.2     10.728  67.767388     7.498600\n",
       "10     17.4     43.243  69.700525    40.071570\n",
       "11     15.0     25.319  66.930955    31.574273\n",
       "12     15.2     28.028  71.523619    32.282381\n",
       "13     16.4     41.792  66.607476    36.531029\n",
       "14     16.7     49.499  67.986853    37.593191\n",
       "15     15.4     25.312  64.293236    32.990489\n",
       "16     15.0     26.222  64.483429    31.574273\n",
       "17     14.5     22.148  71.308402    29.804003\n",
       "18     14.8     26.751  69.587548    30.866165\n",
       "19     13.6     18.036  71.133207    26.617517\n",
       "20     25.6     96.305  72.097066    69.103999\n",
       "21     24.4     72.594  67.322072    64.855351\n",
       "22     23.3     49.512  66.655967    60.960757\n",
       "23     19.5     32.207  68.122592    47.506704\n",
       "24     21.2     48.218  66.456212    53.525622\n",
       "25     22.8     70.453  65.667792    59.190487\n",
       "26     21.7     47.661  66.278873    55.295892\n",
       "27     19.8     38.138  69.414735    48.568866\n",
       "28     21.3     53.045  68.264817    53.879676"
      ]
     },
     "execution_count": 12,
     "metadata": {},
     "output_type": "execute_result"
    }
   ],
   "source": [
    "df['Y_predicted'] = Y_predicted\n",
    "df"
   ]
  },
  {
   "cell_type": "code",
   "execution_count": 13,
   "metadata": {},
   "outputs": [
    {
     "data": {
      "image/png": "[encoded data removed]",
      "text/plain": [
       "<Figure size 648x432 with 1 Axes>"
      ]
     },
     "metadata": {
      "needs_background": "light"
     },
     "output_type": "display_data"
    }
   ],
   "source": [
    "# Scatter plot of actuals and predicted.\n",
    "ax = df.plot.line(x='Density',\n",
    "                  y='Stiffness',\n",
    "                  legend=False,\n",
    "                  style='.',\n",
    "                  color=c[1],\n",
    "                  figsize=(9, 6))\n",
    "#ax.set_ylabel('Stiffness', fontweight='bold')\n",
    "#ax.set_xlabel('Density', fontweight='bold')\n",
    "df.plot(x='Density',\n",
    "        y='Y_predicted',\n",
    "        linewidth=2,\n",
    "        color=c[5],\n",
    "        legend=False,\n",
    "        ax=ax)\n",
    "despine(ax)"
   ]
  }
 ],
 "metadata": {
  "kernelspec": {
   "display_name": "Python 3",
   "language": "python",
   "name": "python3"
  },
  "language_info": {
   "codemirror_mode": {
    "name": "ipython",
    "version": 3
   },
   "file_extension": ".py",
   "mimetype": "text/x-python",
   "name": "python",
   "nbconvert_exporter": "python",
   "pygments_lexer": "ipython3",
   "version": "3.8.5"
  },
  "varInspector": {
   "cols": {
    "lenName": 16,
    "lenType": 16,
    "lenVar": 40
   },
   "kernels_config": {
    "python": {
     "delete_cmd_postfix": "",
     "delete_cmd_prefix": "del ",
     "library": "var_list.py",
     "varRefreshCmd": "print(var_dic_list())"
    },
    "r": {
     "delete_cmd_postfix": ") ",
     "delete_cmd_prefix": "rm(",
     "library": "var_list.r",
     "varRefreshCmd": "cat(var_dic_list()) "
    }
   },
   "types_to_exclude": [
    "module",
    "function",
    "builtin_function_or_method",
    "instance",
    "_Feature"
   ],
   "window_display": false
  }
 },
 "nbformat": 4,
 "nbformat_minor": 2
}
