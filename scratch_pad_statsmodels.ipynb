{
 "cells": [
  {
   "cell_type": "markdown",
   "metadata": {},
   "source": [
    "# Scratch pad StatsModels\n",
    "\n",
    "The purpose of this notebook is to explore single-factor and multiple-factor regression using StatsModels."
   ]
  },
  {
   "cell_type": "code",
   "execution_count": null,
   "metadata": {},
   "outputs": [],
   "source": [
    "import pandas as pd\n",
    "import matplotlib.cm as cm\n",
    "import matplotlib.axes as axes\n",
    "%matplotlib inline"
   ]
  },
  {
   "cell_type": "code",
   "execution_count": null,
   "metadata": {},
   "outputs": [],
   "source": [
    "# Colour-blind colour definitions.\n",
    "c1, c2, c3, c4, c5, c6, c7, c8, c9, c10, c11, c12 = cm.Paired.colors\n",
    "# See \"paired\" in \"qualitative colormaps\"\n",
    "# https://matplotlib.org/tutorials/colors/colormaps.html"
   ]
  },
  {
   "cell_type": "code",
   "execution_count": null,
   "metadata": {},
   "outputs": [],
   "source": [
    "# Function to remove upper and right graphic borders.\n",
    "def despine(ax: axes.Axes) -> None:\n",
    "    'Remove the top and right spines of a graph'\n",
    "    for spine in 'right', 'top':\n",
    "        ax.spines[spine].set_color('none')"
   ]
  },
  {
   "cell_type": "code",
   "execution_count": null,
   "metadata": {},
   "outputs": [],
   "source": [
    "# Create the dataframe.\n",
    "stock_market = {'Year': [2017,2017,2017,2017,2017,2017,2017,\n",
    "                         2017,2017,2017,2017,2017,2016,2016,\n",
    "                         2016,2016,2016,2016,2016,2016,2016,\n",
    "                         2016,2016,2016],\n",
    "                'Month': [12, 11,10,9,8,7,6,5,4,3,2,1,12,11,\n",
    "                          10,9,8,7,6,5,4,3,2,1],\n",
    "                'Interest_Rate': [2.75,2.5,2.5,2.5,2.5,2.5,\n",
    "                                  2.5,2.25,2.25,2.25,2,2,2,\n",
    "                                  1.75,1.75,1.75,1.75,1.75,\n",
    "                                  1.75,1.75,1.75,1.75,1.75,1.75],\n",
    "                'Unemployment_Rate': [5.3,5.3,5.3,5.3,5.4,5.6,\n",
    "                                      5.5,5.5,5.5,5.6,5.7,5.9,\n",
    "                                      6,5.9,5.8,6.1,6.2,6.1,\n",
    "                                      6.1,6.1,5.9,6.2,6.2,6.1],\n",
    "                'Stock_Index_Price': [1464,1394,1357,1293,1256,\n",
    "                                      1254,1234,1195,1159,1167,\n",
    "                                      1130,1075,1047,965,943,\n",
    "                                      958,971,949,884,866,876,\n",
    "                                      822,704,719]        \n",
    "                }\n",
    "df = pd.DataFrame(stock_market,columns=['Year','Month',\n",
    "                                        'Interest_Rate',\n",
    "                                        'Unemployment_Rate',\n",
    "                                        'Stock_Index_Price'])"
   ]
  }
 ],
 "metadata": {
  "kernelspec": {
   "display_name": "Python 3",
   "language": "python",
   "name": "python3"
  },
  "language_info": {
   "codemirror_mode": {
    "name": "ipython",
    "version": 3
   },
   "file_extension": ".py",
   "mimetype": "text/x-python",
   "name": "python",
   "nbconvert_exporter": "python",
   "pygments_lexer": "ipython3",
   "version": "3.7.2"
  }
 },
 "nbformat": 4,
 "nbformat_minor": 2
}
