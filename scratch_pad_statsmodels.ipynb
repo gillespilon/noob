{
 "cells": [
  {
   "cell_type": "markdown",
   "metadata": {},
   "source": [
    "# Scratch pad StatsModels\n",
    "\n",
    "The purpose of this notebook is to explore single-factor and multiple-factor regression using StatsModels."
   ]
  },
  {
   "cell_type": "code",
   "execution_count": null,
   "metadata": {},
   "outputs": [],
   "source": [
    "import pandas as pd\n",
    "import numpy as np\n",
    "import matplotlib.cm as cm\n",
    "import matplotlib.axes as axes\n",
    "import statsmodels.api as sm\n",
    "%matplotlib inline"
   ]
  },
  {
   "cell_type": "code",
   "execution_count": null,
   "metadata": {},
   "outputs": [],
   "source": [
    "c = cm.Paired.colors\n",
    "# c[0] c[1] ... c[11]\n",
    "# See \"paired\" in \"qualitative colormaps\"\n",
    "# https://matplotlib.org/tutorials/colors/colormaps.html"
   ]
  },
  {
   "cell_type": "code",
   "execution_count": null,
   "metadata": {},
   "outputs": [],
   "source": [
    "# Function to remove upper and right graphic borders.\n",
    "def despine(ax: axes.Axes) -> None:\n",
    "    'Remove the top and right spines of a graph'\n",
    "    for spine in 'right', 'top':\n",
    "        ax.spines[spine].set_color('none')"
   ]
  },
  {
   "cell_type": "markdown",
   "metadata": {},
   "source": [
    "## Example from stock market prices"
   ]
  },
  {
   "cell_type": "code",
   "execution_count": null,
   "metadata": {},
   "outputs": [],
   "source": [
    "# Create the dataframe.\n",
    "# The dependent variable is Stock_Index_Price.\n",
    "# The independent variables are Interest_Rate and\n",
    "# Unemployment_Rate.\n",
    "stock_market = {'Year': [2017,2017,2017,2017,2017,2017,2017,\n",
    "                         2017,2017,2017,2017,2017,2016,2016,\n",
    "                         2016,2016,2016,2016,2016,2016,2016,\n",
    "                         2016,2016,2016],\n",
    "                'Month': [12, 11,10,9,8,7,6,5,4,3,2,1,12,11,\n",
    "                          10,9,8,7,6,5,4,3,2,1],\n",
    "                'Interest_Rate': [2.75,2.5,2.5,2.5,2.5,2.5,\n",
    "                                  2.5,2.25,2.25,2.25,2,2,2,\n",
    "                                  1.75,1.75,1.75,1.75,1.75,\n",
    "                                  1.75,1.75,1.75,1.75,1.75,1.75],\n",
    "                'Unemployment_Rate': [5.3,5.3,5.3,5.3,5.4,5.6,\n",
    "                                      5.5,5.5,5.5,5.6,5.7,5.9,\n",
    "                                      6,5.9,5.8,6.1,6.2,6.1,\n",
    "                                      6.1,6.1,5.9,6.2,6.2,6.1],\n",
    "                'Stock_Index_Price': [1464,1394,1357,1293,1256,\n",
    "                                      1254,1234,1195,1159,1167,\n",
    "                                      1130,1075,1047,965,943,\n",
    "                                      958,971,949,884,866,876,\n",
    "                                      822,704,719]        \n",
    "                }\n",
    "df = pd.DataFrame(stock_market,columns=['Year','Month',\n",
    "                                        'Interest_Rate',\n",
    "                                        'Unemployment_Rate',\n",
    "                                        'Stock_Index_Price'])"
   ]
  },
  {
   "cell_type": "code",
   "execution_count": null,
   "metadata": {},
   "outputs": [],
   "source": [
    "# Scatter plot of Y v. X.\n",
    "for xx, yy in ('Interest_Rate', 'Stock_Index_Price'),\\\n",
    "              ('Interest_Rate', 'Unemployment_Rate'):\n",
    "    ax = df.plot.line(x=xx,\n",
    "                      y=yy,\n",
    "                      legend=False,\n",
    "                      style='.',\n",
    "                      color=c[1],\n",
    "                      figsize=(9, 6))\n",
    "    ax.autoscale(enable=True)\n",
    "    ax.set_title(f'{yy} vs {xx}', fontweight='bold')\n",
    "    ax.set_ylabel(f'{yy}', fontweight='bold')\n",
    "    ax.set_xlabel(f'{xx}', fontweight='bold')\n",
    "    despine(ax)"
   ]
  },
  {
   "cell_type": "code",
   "execution_count": null,
   "metadata": {},
   "outputs": [],
   "source": [
    "x = df[['Interest_Rate', 'Unemployment_Rate']]\n",
    "y = df['Stock_Index_Price']\n",
    "x = sm.add_constant(x)\n",
    "model = sm.OLS(y, x, missing='drop').fit()\n",
    "predictions = model.predict(x)\n",
    "model.summary2()"
   ]
  },
  {
   "cell_type": "code",
   "execution_count": null,
   "metadata": {},
   "outputs": [],
   "source": [
    "df['Predicted_Stock_Index_Price'] = predictions"
   ]
  },
  {
   "cell_type": "code",
   "execution_count": null,
   "metadata": {},
   "outputs": [],
   "source": [
    "model.params.round(3)"
   ]
  },
  {
   "cell_type": "code",
   "execution_count": null,
   "metadata": {},
   "outputs": [],
   "source": [
    "model.pvalues.round(3)"
   ]
  },
  {
   "cell_type": "code",
   "execution_count": null,
   "metadata": {},
   "outputs": [],
   "source": [
    "model.rsquared_adj.round(3)"
   ]
  },
  {
   "cell_type": "code",
   "execution_count": null,
   "metadata": {},
   "outputs": [],
   "source": [
    "model.conf_int().round(3)"
   ]
  },
  {
   "cell_type": "code",
   "execution_count": null,
   "metadata": {},
   "outputs": [],
   "source": [
    "np.sqrt(model.mse_resid).round(3)"
   ]
  },
  {
   "cell_type": "code",
   "execution_count": null,
   "metadata": {},
   "outputs": [],
   "source": [
    "np.sqrt(model.mse_model).round(3)"
   ]
  },
  {
   "cell_type": "code",
   "execution_count": null,
   "metadata": {},
   "outputs": [],
   "source": [
    "np.sqrt(model.mse_total).round(3)"
   ]
  },
  {
   "cell_type": "markdown",
   "metadata": {},
   "source": [
    "## Example from Boston house prices"
   ]
  },
  {
   "cell_type": "code",
   "execution_count": null,
   "metadata": {},
   "outputs": [],
   "source": [
    "features_cols = pd.read_csv('boston_features.csv', nrows=1).columns\n",
    "features = pd.read_csv('boston_features.csv', usecols=features_cols[1:])\n",
    "features.head()"
   ]
  },
  {
   "cell_type": "code",
   "execution_count": null,
   "metadata": {},
   "outputs": [],
   "source": [
    "target_cols = pd.read_csv('boston_target.csv', nrows=1).columns\n",
    "target = pd.read_csv('boston_target.csv', usecols=target_cols[1:])\n",
    "target.head()"
   ]
  },
  {
   "cell_type": "code",
   "execution_count": null,
   "metadata": {},
   "outputs": [],
   "source": [
    "boston = pd.concat([target, features], axis=1, sort=False)\n",
    "boston.head()"
   ]
  },
  {
   "cell_type": "code",
   "execution_count": null,
   "metadata": {},
   "outputs": [],
   "source": [
    "# Scatter plot of Y v. X.\n",
    "for xx, yy in ('RM', 'MEDV'),\\\n",
    "              ('LSTAT', 'MEDV'):\n",
    "    ax = boston.plot.line(x=xx,\n",
    "                      y=yy,\n",
    "                      legend=False,\n",
    "                      style='.',\n",
    "                      color=c[1],\n",
    "                      figsize=(9, 6))\n",
    "    ax.autoscale(enable=True)\n",
    "    ax.set_title(f'{yy} vs {xx}', fontweight='bold')\n",
    "    ax.set_ylabel(f'{yy}', fontweight='bold')\n",
    "    ax.set_xlabel(f'{xx}', fontweight='bold')\n",
    "    despine(ax)"
   ]
  },
  {
   "cell_type": "code",
   "execution_count": null,
   "metadata": {},
   "outputs": [],
   "source": [
    "x = features[['RM', 'LSTAT']]\n",
    "y = target['MEDV']\n",
    "x = sm.add_constant(x)"
   ]
  },
  {
   "cell_type": "code",
   "execution_count": null,
   "metadata": {},
   "outputs": [],
   "source": [
    "model = sm.OLS(y, x, missing='drop').fit()\n",
    "predictions = model.predict(x)\n",
    "model.summary2()"
   ]
  },
  {
   "cell_type": "code",
   "execution_count": null,
   "metadata": {},
   "outputs": [],
   "source": [
    "df['Predicted_MEDV'] = predictions"
   ]
  },
  {
   "cell_type": "code",
   "execution_count": null,
   "metadata": {},
   "outputs": [],
   "source": [
    "model.params.round(3)"
   ]
  },
  {
   "cell_type": "code",
   "execution_count": null,
   "metadata": {},
   "outputs": [],
   "source": [
    "model.pvalues.round(3)"
   ]
  },
  {
   "cell_type": "code",
   "execution_count": null,
   "metadata": {},
   "outputs": [],
   "source": [
    "model.rsquared_adj.round(3)"
   ]
  },
  {
   "cell_type": "code",
   "execution_count": null,
   "metadata": {},
   "outputs": [],
   "source": [
    "model.conf_int().round(3)"
   ]
  },
  {
   "cell_type": "code",
   "execution_count": null,
   "metadata": {},
   "outputs": [],
   "source": [
    "np.sqrt(model.mse_resid).round(3)"
   ]
  },
  {
   "cell_type": "code",
   "execution_count": null,
   "metadata": {},
   "outputs": [],
   "source": [
    "np.sqrt(model.mse_model).round(3)"
   ]
  },
  {
   "cell_type": "code",
   "execution_count": null,
   "metadata": {},
   "outputs": [],
   "source": [
    "np.sqrt(model.mse_total).round(3)"
   ]
  }
 ],
 "metadata": {
  "kernelspec": {
   "display_name": "Python 3",
   "language": "python",
   "name": "python3"
  },
  "language_info": {
   "codemirror_mode": {
    "name": "ipython",
    "version": 3
   },
   "file_extension": ".py",
   "mimetype": "text/x-python",
   "name": "python",
   "nbconvert_exporter": "python",
   "pygments_lexer": "ipython3",
   "version": "3.7.3"
  }
 },
 "nbformat": 4,
 "nbformat_minor": 2
}
