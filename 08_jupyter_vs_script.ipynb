{
 "cells": [
  {
   "cell_type": "markdown",
   "metadata": {},
   "source": [
    "# Jupyter notebook versus script"
   ]
  },
  {
   "cell_type": "markdown",
   "metadata": {},
   "source": [
    "# Document\n",
    "\n",
    "<table align=\"left\">\n",
    "    <tr>\n",
    "        <th class=\"text-align:left\">Title</th>\n",
    "        <td class=\"text-align:left\">Jupyter notebook versus script</td>\n",
    "    </tr>\n",
    "    <tr>\n",
    "        <th class=\"text-align:left\">Last modified</th>\n",
    "        <td class=\"text-align:left\">2019-11-05</td>\n",
    "    </tr>\n",
    "    <tr>\n",
    "        <th class=\"text-align:left\">Author</th>\n",
    "        <td class=\"text-align:left\">Gilles Pilon <gillespilon13@gmail.com></td>\n",
    "    </tr>\n",
    "    <tr>\n",
    "        <th class=\"text-align:left\">Status</th>\n",
    "        <td class=\"text-align:left\">Active</td>\n",
    "    </tr>\n",
    "    <tr>\n",
    "        <th class=\"text-align:left\">Type</th>\n",
    "        <td class=\"text-align:left\">Jupyter notebook</td>\n",
    "    </tr>\n",
    "    <tr>\n",
    "        <th class=\"text-align:left\">Created</th>\n",
    "        <td class=\"text-align:left\">2018-12-22</td>\n",
    "    </tr>\n",
    "    <tr>\n",
    "        <th class=\"text-align:left\">File name</th>\n",
    "        <td class=\"text-align:left\">jupyter_vs_script.ipynb</td>\n",
    "    </tr>\n",
    "    <tr>\n",
    "        <th class=\"text-align:left\">Other files required</th>\n",
    "        <td class=\"text-align:left\">N/A</td>\n",
    "    </tr>\n",
    "</table>"
   ]
  },
  {
   "cell_type": "markdown",
   "metadata": {},
   "source": [
    "# Introduction\n",
    "\n",
    "A Jupyter notebook is useful for:\n",
    "\n",
    "- Interactive development of code\n",
    "- Testing code snippets in isolation from a larger script\n",
    "- Quick and simple code environment\n",
    "\n",
    "A script is useful for:\n",
    "\n",
    "- Batch operation of relatively large code files and output\n",
    "- Can be run automatically without intervention"
   ]
  },
  {
   "cell_type": "markdown",
   "metadata": {},
   "source": [
    "# Example of a script\n"
   ]
  },
  {
   "cell_type": "markdown",
   "metadata": {},
   "source": [
    "<pre><code>\n",
    "from shutil import rmtree\n",
    "from pathlib import Path\n",
    "import pandas as pd\n",
    "import matplotlib.pyplot as plt\n",
    "\n",
    "df = pd.read_csv('data/norfolk.csv',\n",
    "                 parse_dates=True,\n",
    "                 index_col='LAB_BOARD_DAT_COD')\n",
    "print(df.shape)\n",
    "print(df.size)\n",
    "print(df.index)\n",
    "\n",
    "df = df.dropna(how='all', axis=1)\n",
    "df = df.dropna(how='all', axis=0)\n",
    "\n",
    "pd.DataFrame(list(df)).to_csv('data/column_names.csv',\n",
    "                              header=False,\n",
    "                              index=False)\n",
    "\n",
    "print(df.dtypes)\n",
    "print(df.shape)\n",
    "\n",
    "for column_name in df.columns:\n",
    "    if df[column_name].dtype == object:\n",
    "        print(column_name, df[df[column_name].\n",
    "                              str.contains('[a-z]',\n",
    "                              na=False)][column_name].unique())\n",
    "\n",
    "try:\n",
    "    rmtree('graphics')\n",
    "except FileNotFoundError:\n",
    "    pass\n",
    "Path('graphics').mkdir(parents=True, exist_ok=True)\n",
    "\n",
    "for column_name in df.columns:\n",
    "    if df[column_name].dtype == float:\n",
    "        ax = df.plot.line(y=column_name,\n",
    "                          legend=False,\n",
    "                          style='.')\n",
    "        ax.set_ylabel(column_name)\n",
    "        ax.figure.savefig(f'graphics/scatter_plot_{column_name}.png',\n",
    "                          format='png')\n",
    "    else:\n",
    "        pass\n",
    "plt.close('all')\n",
    "\n",
    "for column_name in df.columns:\n",
    "    if df[column_name].dtype == float:\n",
    "        ax = df.plot.box(y=column_name,\n",
    "                         notch=True)\n",
    "        ax.set_ylabel(column_name)\n",
    "        ax.figure.savefig(f'graphics/box_plot_{column_name}.png', format='png')\n",
    "    else:\n",
    "        pass\n",
    "plt.close('all')\n",
    "\n",
    "for column_name in df.columns:\n",
    "    if df[column_name].dtype == float:\n",
    "        ax = df.plot.hist(y=column_name,\n",
    "                          legend=False)\n",
    "        ax.set_xlabel(column_name)\n",
    "        ax.figure.savefig(f'graphics/histogram_{column_name}.png',\n",
    "                          format='png')\n",
    "    else:\n",
    "        pass\n",
    "plt.close('all')\n",
    "</code></pre>"
   ]
  }
 ],
 "metadata": {
  "kernelspec": {
   "display_name": "Python 3",
   "language": "python",
   "name": "python3"
  },
  "language_info": {
   "codemirror_mode": {
    "name": "ipython",
    "version": 3
   },
   "file_extension": ".py",
   "mimetype": "text/x-python",
   "name": "python",
   "nbconvert_exporter": "python",
   "pygments_lexer": "ipython3",
   "version": "3.7.4"
  },
  "varInspector": {
   "cols": {
    "lenName": 16,
    "lenType": 16,
    "lenVar": 40
   },
   "kernels_config": {
    "python": {
     "delete_cmd_postfix": "",
     "delete_cmd_prefix": "del ",
     "library": "var_list.py",
     "varRefreshCmd": "print(var_dic_list())"
    },
    "r": {
     "delete_cmd_postfix": ") ",
     "delete_cmd_prefix": "rm(",
     "library": "var_list.r",
     "varRefreshCmd": "cat(var_dic_list()) "
    }
   },
   "types_to_exclude": [
    "module",
    "function",
    "builtin_function_or_method",
    "instance",
    "_Feature"
   ],
   "window_display": false
  }
 },
 "nbformat": 4,
 "nbformat_minor": 2
}
