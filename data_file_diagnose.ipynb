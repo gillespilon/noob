{
 "cells": [
  {
   "cell_type": "markdown",
   "metadata": {},
   "source": [
    "# Diagnose a data file"
   ]
  },
  {
   "cell_type": "markdown",
   "metadata": {},
   "source": [
    "# Document\n",
    "\n",
    "<table align=\"left\">\n",
    "    <tr>\n",
    "        <th class=\"text-align:left\">Title</th>\n",
    "        <td class=\"text-align:left\">Diagnose a data file</td>\n",
    "    </tr>\n",
    "    <tr>\n",
    "        <th class=\"text-align:left\">Last modified</th>\n",
    "        <td class=\"text-align:left\">2019-01-09</td>\n",
    "    </tr>\n",
    "    <tr>\n",
    "        <th class=\"text-align:left\">Author</th>\n",
    "        <td class=\"text-align:left\">Gilles Pilon <gillespilon13@gmail.com></td>\n",
    "    </tr>\n",
    "    <tr>\n",
    "        <th class=\"text-align:left\">Status</th>\n",
    "        <td class=\"text-align:left\">Active</td>\n",
    "    </tr>\n",
    "    <tr>\n",
    "        <th class=\"text-align:left\">Type</th>\n",
    "        <td class=\"text-align:left\">Jupyter notebook</td>\n",
    "    </tr>\n",
    "    <tr>\n",
    "        <th class=\"text-align:left\">Created</th>\n",
    "        <td class=\"text-align:left\">2018-12-21</td>\n",
    "    </tr>\n",
    "    <tr>\n",
    "        <th class=\"text-align:left\">File name</th>\n",
    "        <td class=\"text-align:left\">N/A</td>\n",
    "    </tr>\n",
    "    <tr>\n",
    "        <th class=\"text-align:left\">Other files required</th>\n",
    "        <td class=\"text-align:left\">N/A</td>\n",
    "    </tr>\n",
    "</table>"
   ]
  },
  {
   "cell_type": "markdown",
   "metadata": {},
   "source": [
    "# Ideas\n",
    "\n",
    "- Read a file.\n",
    "- Determine the column types.\n",
    "- Determine the number of unique entries.\n",
    "- Create filter.\n",
    "- Read a file with a filter.\n",
    "- Scatter plot of a column.\n",
    "- Create a munging filter."
   ]
  },
  {
   "cell_type": "code",
   "execution_count": 1,
   "metadata": {
    "scrolled": false
   },
   "outputs": [],
   "source": [
    "import pandas as pd"
   ]
  },
  {
   "cell_type": "code",
   "execution_count": 2,
   "metadata": {
    "scrolled": false
   },
   "outputs": [],
   "source": [
    "# Read a csv file.\n",
    "FILE_TO_READ = 'year_to_date.csv'\n",
    "df = pd.read_csv(FILE_TO_READ,\n",
    "                 parse_dates=True,\n",
    "                 index_col='Time')"
   ]
  },
  {
   "cell_type": "code",
   "execution_count": 3,
   "metadata": {
    "scrolled": false
   },
   "outputs": [
    {
     "data": {
      "text/plain": [
       "(8689, 29)"
      ]
     },
     "execution_count": 3,
     "metadata": {},
     "output_type": "execute_result"
    }
   ],
   "source": [
    "df.shape"
   ]
  },
  {
   "cell_type": "code",
   "execution_count": 4,
   "metadata": {
    "scrolled": false
   },
   "outputs": [],
   "source": [
    "# Delete weekend data.\n",
    "df = df[df.index.dayofweek < 5]"
   ]
  },
  {
   "cell_type": "code",
   "execution_count": 5,
   "metadata": {
    "scrolled": false
   },
   "outputs": [
    {
     "data": {
      "text/plain": [
       "(6240, 29)"
      ]
     },
     "execution_count": 5,
     "metadata": {},
     "output_type": "execute_result"
    }
   ],
   "source": [
    "df.shape"
   ]
  },
  {
   "cell_type": "code",
   "execution_count": 6,
   "metadata": {
    "scrolled": false
   },
   "outputs": [
    {
     "data": {
      "text/plain": [
       "Water Load (lb/MSF)            object\n",
       "Trim Board Density (lb/cft)    object\n",
       "Trim Board Thickness (in)      object\n",
       "Trim Board Weight (lb/sft)     object\n",
       "Wool Target (%)                object\n",
       "Wool Usage (%)                 object\n",
       "Wool Flow (lb/min)             object\n",
       "Starch Target (%)              object\n",
       "Starch Usage (%)               object\n",
       "Starch Flow (lb/min)           object\n",
       "Clay Target (%)                object\n",
       "Clay Usage (%)                 object\n",
       "Clay Flow (lb/min)             object\n",
       "Newsprint Target (%)           object\n",
       "Newsprint Usage (%)            object\n",
       "Perlite Target (%)             object\n",
       "Perlite Usage (%)              object\n",
       "Wet Clay Target (%)            object\n",
       "Wet Clay Usage (%)             object\n",
       "Wet Gypsum Target (%)          object\n",
       "Wet Gypsum Usage (%)           object\n",
       "Wet Broke Target (%)           object\n",
       "Wet Broke Usage (%)            object\n",
       "Dust Target (%)                object\n",
       "Dust Usage (%)                 object\n",
       "Broke Target (%)               object\n",
       "Broke Usage (%)                object\n",
       "Consistency Target (%)         object\n",
       "Consistency Actual (%)         object\n",
       "dtype: object"
      ]
     },
     "execution_count": 6,
     "metadata": {},
     "output_type": "execute_result"
    }
   ],
   "source": [
    "# Check data type for the columns. We want float or int for numbers, not object.\n",
    "df.dtypes"
   ]
  },
  {
   "cell_type": "code",
   "execution_count": 7,
   "metadata": {
    "scrolled": false
   },
   "outputs": [
    {
     "name": "stdout",
     "output_type": "stream",
     "text": [
      "Water Load (lb/MSF) has 289 unique values.\n",
      "Trim Board Density (lb/cft) has 1499 unique values.\n",
      "Trim Board Thickness (in) has 78 unique values.\n",
      "Trim Board Weight (lb/sft) has 229 unique values.\n",
      "Wool Target (%) has 4 unique values.\n",
      "Wool Usage (%) has 5995 unique values.\n",
      "Wool Flow (lb/min) has 6043 unique values.\n",
      "Starch Target (%) has 2 unique values.\n",
      "Starch Usage (%) has 5993 unique values.\n",
      "Starch Flow (lb/min) has 6193 unique values.\n",
      "Clay Target (%) has 2 unique values.\n",
      "Clay Usage (%) has 2 unique values.\n",
      "Clay Flow (lb/min) has 6173 unique values.\n",
      "Newsprint Target (%) has 2 unique values.\n",
      "Newsprint Usage (%) has 5990 unique values.\n",
      "Perlite Target (%) has 4 unique values.\n",
      "Perlite Usage (%) has 5996 unique values.\n",
      "Wet Clay Target (%) has 2 unique values.\n",
      "Wet Clay Usage (%) has 1916 unique values.\n",
      "Wet Gypsum Target (%) has 2 unique values.\n",
      "Wet Gypsum Usage (%) has 2 unique values.\n",
      "Wet Broke Target (%) has 5 unique values.\n",
      "Wet Broke Usage (%) has 5989 unique values.\n",
      "Dust Target (%) has 7 unique values.\n",
      "Dust Usage (%) has 5998 unique values.\n",
      "Broke Target (%) has 5 unique values.\n",
      "Broke Usage (%) has 5906 unique values.\n",
      "Consistency Target (%) has 5906 unique values.\n",
      "Consistency Actual (%) has 2 unique values.\n"
     ]
    }
   ],
   "source": [
    "for column_name in df.columns:\n",
    "    print(column_name, 'has', df[column_name].nunique(), 'unique values.')"
   ]
  },
  {
   "cell_type": "code",
   "execution_count": 8,
   "metadata": {
    "scrolled": false
   },
   "outputs": [
    {
     "name": "stdout",
     "output_type": "stream",
     "text": [
      "Water Load (lb/MSF) has ['1183.380005' '1496.340088' '1354.530029' '1378.97998' '1437.659912'\n",
      " '1305.630127' '1100.250122' '1114.920044' '1070.909912' '1051.349976'\n",
      " '1041.569946' '1046.460083' '1056.240112' '1110.029907' '1056.23999'\n",
      " '1061.129883' '1085.580078' '1075.800049' '1266.51001' '1095.359985'\n",
      " '1090.469971' '1090.470093' '1036.680054' '1124.700073' '1105.140015'\n",
      " '1105.140137' '1100.25' '1080.690186' '1095.359863' '1070.910156'\n",
      " '992.6699829' '1007.340088' '1017.119995' '1041.570068' '1119.809937'\n",
      " '1217.609985' '1188.270142' '1066.02002' '1080.690063' '1002.450012'\n",
      " '1017.120117' '997.5600586' '973.1101074' '1026.899902' '1031.789917'\n",
      " '987.7800293' '1012.230042' '1110.030029' '1051.349854' '1051.350098'\n",
      " '1066.020142' '1139.370117' '1085.579956' '1031.790039' '1026.900024'\n",
      " '1007.339966' '1012.229919' '1022.010071' '1022.009827' '1061.130005'\n",
      " '1080.689941' '1129.590088' '1124.699951' '1467' '1413.210083'\n",
      " '1432.770142' '1437.660156' '963.3300171' '1134.47998' '1070.910034'\n",
      " '1158.930054' '1246.950195' '1139.369995' '997.5599976' '1227.390137'\n",
      " '1036.679932' '1022.009949' '1100.249878' '1119.809814' '1193.160034'\n",
      " '1173.599976' '1207.829956' '1188.27002' '1144.26001' '1168.709961'\n",
      " '1281.180054' '1413.210205' '1491.449951' '1476.780029' '1471.890137'\n",
      " '1144.259888' '982.8900146' '1119.810059' '1154.040039' '1031.790161'\n",
      " '1046.459961' '987.7799683' '1310.52002' '1261.619995' '1237.169922'\n",
      " '1222.500122' '1129.59021' '1202.939941' '1129.589966' '1149.150024'\n",
      " '1222.5' '1589.25' '1520.790039' '1276.289917' '978.000061' '1002.44989'\n",
      " '958.4400024' '1075.799927' '1481.670044' '1212.720093' '1198.050171'\n",
      " '1193.159912' '1178.48999' '1398.540161' '1408.320068' '1447.439941'\n",
      " '1344.75' '1149.150146' '1158.929932' '1168.710083' '1447.440063'\n",
      " '1506.119995' '1491.450073' '1388.759888' '2249.400146' '2102.699951'\n",
      " '2078.25' '2083.139893' '2063.580322' '2053.800049' '2058.690186'\n",
      " '1995.120117' '1960.889893' '1995.119995' '2004.900024' '1902.210083'\n",
      " '1848.420044' '1863.089966' '1872.870239' '1833.75' '1750.619995'\n",
      " '1828.859985' '1867.979858' '2019.570068' '1985.339966' '1907.10022'\n",
      " '2112.480225' '2097.810059' '2146.710205' '2034.23999' '1931.549805'\n",
      " '1911.990112' '1897.32019' '1926.660034' '1907.100098' '2000.01001'\n",
      " '1872.869995' '1980.450317' '1887.540161' '1990.229858' '1858.200195'\n",
      " '1951.110107' '1936.439941' '1921.77002' '1892.430298' '1907.099854'\n",
      " '1931.550049' '1990.230103' '1980.450073' '1339.859985' '1325.189941'\n",
      " '1163.820068' 'Bad Input' '1242.059937' '1369.200073' '1246.949951'\n",
      " '1310.519897' '1334.969971' '1369.199951' '1413.209961' '1442.549927'\n",
      " '1501.22998' '1290.959961' '1178.489868' '1427.880005' '1418.099976'\n",
      " '1432.77002' '1403.430054' '1452.329956' '1486.559937' '1511.01001'\n",
      " '1486.560059' '1496.34021' '1467.000122' '1398.539917' '1388.76001'\n",
      " '1227.389893' '1442.550049' '1427.879883' '1339.860107' '1374.090088'\n",
      " '1271.400024' '1227.390015' '1261.619873' '1286.069946' '1266.509888'\n",
      " '1295.850098' '1290.960083' '1530.570068' '1383.869995' '1232.280029'\n",
      " '1325.190063' '1330.080078' '1354.530151' '1344.750122' '1349.640137'\n",
      " '1334.970093' '1349.639893' '1276.290161' '1320.300049' '992.6700439'\n",
      " '997.5598755' '973.1100464' '968.2199707' '958.4399414' '1804.410156'\n",
      " '1819.0802' '1804.409912' '1814.189941' '1779.960205' '1770.17981'\n",
      " '1755.51001' '1745.72998' '1794.630005' '1740.84021' '1784.849976'\n",
      " '1726.170166' '1731.060181' '1760.400024' '1731.059937' '1711.500122'\n",
      " '1691.940186' '1687.049927' '1706.609985' '1750.620117' '1755.510132'\n",
      " '1721.280273' '1711.5' '1726.1698' '1775.07019' '1745.730103'\n",
      " '1716.389893' '1711.499756' '1682.160156' '1721.279907' '2048.910156'\n",
      " '1882.650024' '1799.52002' '1799.520142' '1814.190186' '1882.649902'\n",
      " '1858.199829' '1823.969971' '1735.949951' '1002.450134' '982.8899536'\n",
      " '982.8901367' '929.1000366' '889.9801025' '1315.410156' '1320.299927'\n",
      " '1393.649902' '1398.540039' '1359.420044' '1315.410034' '1364.310181'\n",
      " '1452.330078' '1359.419922' '948.6600952' '977.999939' '1393.650146'\n",
      " '1364.310059' '1168.709839' '953.5500488'] unique values. \n",
      "\n",
      "Trim Board Density (lb/cft) has ['11.28582382' '12.19593906' '10.99839497' ... '12.51699924' '11.27274323'\n",
      " '13.06741619'] unique values. \n",
      "\n",
      "Trim Board Thickness (in) has ['0.587000012' '0.602999985' '0.592000008' '0.597000003' '0.59799999'\n",
      " '0.596000016' '0.601999998' '0.603999972' '0.606999993' '0.60799998'\n",
      " '0.601000011' '0.600000024' '0.595000029' '0.589999974' '0.598999977'\n",
      " '0.591000021' '0.593999982' '0.605000019' '0.610000014' 'Invalid Data'\n",
      " '0.609000027' '0.584999979' '0.588999987' '0.592999995' '0.606000006'\n",
      " '0.583000004' '0.588' '0.586000025' '0' '0.583999991' '0.582000017'\n",
      " '0.61500001' '0.617999971' '0.58099997' '0.579999983' '0.573000014'\n",
      " '0.611999989' '0.614000022' '0.616999984' '0.572000027' '0.575999975'\n",
      " '0.602199972' '0.598699987' '0.63499999' '0.646000028' '0.628000021'\n",
      " '0.654999971' '0.64200002' '0.639999986' '0.670000017' '0.644999981'\n",
      " '0.629999995' '0.660000026' '0.647000015' '0.620000005' '0.649999976'\n",
      " '0.674000025' '0.615999997' '0.621999979' '0.637000024' '0.633000016'\n",
      " '0.643000007' '0.638999999' '0.625' '0.612999976' '0.588800013'\n",
      " '0.588699996' '0.626999974' '0.619000018' '0.577000022' '0.578999996'\n",
      " '0.630999982' '0.624000013' '0.611000001' '0.635999978' '0.638000011'\n",
      " '0.620999992' '0.566999972'] unique values. \n",
      "\n",
      "Trim Board Weight (lb/sft) has ['54.59999847' '60.70000076' '245.6999969' '54.5' '54.70000076'\n",
      " '53.20000076' '53.5' '55.79999924' '56.20000076' '56.70000076'\n",
      " '56.40000153' '55.59999847' '56' '56.29999924' '54.20000076'\n",
      " '58.70000076' '59' '54' '57.29999924' '55' '54.40000153' '55.40000153'\n",
      " '56.09999847' '56.5' '54.29999924' '56.79999924' '55.29999924' '57.5'\n",
      " '55.5' '57' '57.59999847' 'Invalid Data' '53.70000076' '54.79999924'\n",
      " '56.90000153' '59.90000153' '58.20000076' '55.20000076' '55.09999847'\n",
      " '54.09999847' '54.90000153' '62.5' '51.40000153' '59.20000076' '58.5'\n",
      " '53.90000153' '60.20000076' '58.29999924' '60.40000153' '63'\n",
      " '58.79999924' '59.5' '59.59999847' '55.70000076' '53.59999847'\n",
      " '52.40000153' '58.09999847' '59.40000153' '58.90000153' '57.70000076'\n",
      " '57.40000153' '52.09999847' '59.70000076' '57.79999924' '55.90000153'\n",
      " '59.29999924' '53' '63.29999924' '60.29999924' '58' '0' '58.59999847'\n",
      " '52.79999924' '60' '60.09999847' '53.79999924' '53.40000153'\n",
      " '58.40000153' '53.29999924' '50.90000153' '60.5' '64.19999695'\n",
      " '53.09999847' '52.90000153' '56.59999847' '57.20000076' '61.70000076'\n",
      " '52.70000076' '12' '49.70000076' '52.5' '57.09999847' '52.29999924'\n",
      " '61.90000153' '51.5' '52.59999847' '52.20000076' '51.59999847'\n",
      " '62.40000153' '57.90000153' '51.29999924' '277.8999939' '261.7000122'\n",
      " '51.70000076' '61.40000153' '62.90000153' '61.5' '50.79999924'\n",
      " '50.70000076' '48.70000076' '51.79999924' '265.5' '255.1000061'\n",
      " '255.8999939' '60.90000153' '63.20000076' '60.79999924' '786'\n",
      " '741.7999878' '786.4000244' '74.80000305' '740.4000244' '761.9000244'\n",
      " '738.7999878' '770' '781' '737.5999756' '760.5' '784' '804' '795.2999878'\n",
      " '722' '753.7999878' '746' '764' '755.0999756' '768.4000244' '778.7000122'\n",
      " '767' '778' '769.0999756' '780.5999756' '749' '750.7999878' '769' '762'\n",
      " '764.7999878' '763.5' '766.5999756' '757' '745' '65' '52' '61.09999847'\n",
      " '61.29999924' '49.5' '61' '59.09999847' '62.29999924' '66.40000153'\n",
      " '65.80000305' '64.80000305' '65.69999695' '65.19999695' '63.70000076'\n",
      " '65.40000153' '64' '63.40000153' '67.40000153' '62.20000076'\n",
      " '556.4000244' '59.79999924' '61.20000076' '51' '62' '63.5' '60.59999847'\n",
      " '64.30000305' '67.30000305' '63.59999847' '844.2999878' '840.5'\n",
      " '798.5999756' '837.5' '865.7999878' '762.2000122' '802.9000244' '722.5'\n",
      " '760.7999878' '772.5' '777.7999878' '799.5999756' '818.7000122'\n",
      " '804.4000244' '781.5' '823.5' '808.5' '828' '809' '804.9000244'\n",
      " '828.2000122' '804.2000122' '810.7999878' '790' '822.0999756'\n",
      " '816.2999878' '887.7000122' '783.0999756' '741.5999756' '797.2999878'\n",
      " '782.2999878' '747.2000122' '780.2999878' '776.0999756' '776.7999878'\n",
      " '777.7000122' '803.5999756' '799.4000244' '784.7999878' '62.79999924'\n",
      " '68' '68.40000153' '62.59999847' '64.40000153' '61.79999924' '65.5'\n",
      " '64.69999695' '67.90000153' '64.90000153'] unique values. \n",
      "\n",
      "Wool Target (%) has ['No Data' '18' '16' '20'] unique values. \n",
      "\n",
      "Wool Usage (%) has ['70.49019623' '71.46138763' '72.43257141' ... '1361.941284' '20.10575294'\n",
      " '16.9385128'] unique values. \n",
      "\n",
      "Wool Flow (lb/min) has ['0.102989055' '0.104410477' '0.105831899' ... '39.96948242' '38.92414093'\n",
      " '0.470875382'] unique values. \n",
      "\n",
      "Starch Target (%) has ['No Data' '10'] unique values. \n",
      "\n",
      "Starch Usage (%) has ['-46.67608643' '-47.31917953' '-47.96226883' ... '-5.201654911'\n",
      " '12.58694267' '9.924806595'] unique values. \n",
      "\n",
      "Starch Flow (lb/min) has ['-1.231214523' '-1.231019974' '-1.230825305' ... '-1.210293055'\n",
      " '-1.209763765' '-1.209234476'] unique values. \n",
      "\n",
      "Clay Target (%) has ['No Data' '0'] unique values. \n",
      "\n",
      "Clay Usage (%) has ['0' 'Bad Input'] unique values. \n",
      "\n",
      "Clay Flow (lb/min) has ['-1.219216108' '-1.218842506' '-1.218468785' ... '-1.190517902'\n",
      " '-1.189737797' '-1.189671636'] unique values. \n",
      "\n",
      "Newsprint Target (%) has ['No Data' '14'] unique values. \n",
      "\n",
      "Newsprint Usage (%) has ['1.071267962' '1.08602798' '1.100787997' ... '2.50737834' '17.09966278'\n",
      " '13.77197647'] unique values. \n",
      "\n",
      "Perlite Target (%) has ['No Data' '58' '60' '56'] unique values. \n",
      "\n",
      "Perlite Usage (%) has ['-0.599153936' '-0.607407808' '-0.615661681' ... '48.89833069'\n",
      " '58.03086853' '33.13806915'] unique values. \n",
      "\n",
      "Wet Clay Target (%) has ['No Data' '0'] unique values. \n",
      "\n",
      "Wet Clay Usage (%) has ['0' '0.009161353' '0.207690462' ... '46.16046143' '45.49860001'\n",
      " '45.60789108'] unique values. \n",
      "\n",
      "Wet Gypsum Target (%) has ['No Data' '0'] unique values. \n",
      "\n",
      "Wet Gypsum Usage (%) has ['0' 'Bad Input'] unique values. \n",
      "\n",
      "Wet Broke Target (%) has ['No Data' '0' '6' '4' '8'] unique values. \n",
      "\n",
      "Wet Broke Usage (%) has ['0.008751867' '0.008872488' '0.008993108' ... '0.434137404' '0.351562977'\n",
      " '0.074482933'] unique values. \n",
      "\n",
      "Dust Target (%) has ['No Data' '12' '10' '8' '14' '15' '11'] unique values. \n",
      "\n",
      "Dust Usage (%) has ['0.508930504' '0.515942633' '0.522954762' ... '17.09623909' '13.3644352'\n",
      " '15.67425919'] unique values. \n",
      "\n",
      "Broke Target (%) has ['No Data' '8' '6' '12' '10'] unique values. \n",
      "\n",
      "Broke Usage (%) has ['0.013003314' '0.013056589' '0.013109865' ... '0.029855121' '9.727087021'\n",
      " '8.105705261'] unique values. \n",
      "\n",
      "Consistency Target (%) has ['0.013003314' '0.013056589' '0.013109865' ... '0.029855121' '9.727087021'\n",
      " '8.105705261'] unique values. \n",
      "\n",
      "Consistency Actual (%) has ['0' 'Bad Input'] unique values. \n",
      "\n"
     ]
    }
   ],
   "source": [
    "for column_name in df.columns:\n",
    "    print(column_name, 'has', df[column_name].unique(), 'unique values.', '\\n')"
   ]
  },
  {
   "cell_type": "code",
   "execution_count": 9,
   "metadata": {
    "scrolled": false
   },
   "outputs": [
    {
     "name": "stdout",
     "output_type": "stream",
     "text": [
      "['Invalid Data']\n"
     ]
    }
   ],
   "source": [
    "# Find text values for a single column.\n",
    "print(df[df['Trim Board Density (lb/cft)']\n",
    "         .str.contains('[a-z]')]['Trim Board Density (lb/cft)']\n",
    "         .unique())"
   ]
  },
  {
   "cell_type": "code",
   "execution_count": 10,
   "metadata": {
    "scrolled": false
   },
   "outputs": [
    {
     "name": "stdout",
     "output_type": "stream",
     "text": [
      "Water Load (lb/MSF) ['Bad Input']\n",
      "Trim Board Density (lb/cft) ['Invalid Data']\n",
      "Trim Board Thickness (in) ['Invalid Data']\n",
      "Trim Board Weight (lb/sft) ['Invalid Data']\n",
      "Wool Target (%) ['No Data']\n",
      "Wool Usage (%) ['Bad Input']\n",
      "Wool Flow (lb/min) ['Bad Input']\n",
      "Starch Target (%) ['No Data']\n",
      "Starch Usage (%) ['Bad Input']\n",
      "Starch Flow (lb/min) ['Bad Input']\n",
      "Clay Target (%) ['No Data']\n",
      "Clay Usage (%) ['Bad Input']\n",
      "Clay Flow (lb/min) ['Bad Input']\n",
      "Newsprint Target (%) ['No Data']\n",
      "Newsprint Usage (%) ['Bad Input']\n",
      "Perlite Target (%) ['No Data']\n",
      "Perlite Usage (%) ['Bad Input']\n",
      "Wet Clay Target (%) ['No Data']\n",
      "Wet Clay Usage (%) ['Bad Input']\n",
      "Wet Gypsum Target (%) ['No Data']\n",
      "Wet Gypsum Usage (%) ['Bad Input']\n",
      "Wet Broke Target (%) ['No Data']\n",
      "Wet Broke Usage (%) ['Bad Input']\n",
      "Dust Target (%) ['No Data']\n",
      "Dust Usage (%) ['Bad Input']\n",
      "Broke Target (%) ['No Data']\n",
      "Broke Usage (%) ['Bad Input']\n",
      "Consistency Target (%) ['Bad Input']\n",
      "Consistency Actual (%) ['Bad Input']\n"
     ]
    }
   ],
   "source": [
    "# Find text values in the dataframe, by column.\n",
    "for column_name in df.columns:\n",
    "    if df[column_name].dtype == object:\n",
    "        print(column_name, df[df[column_name]\n",
    "                               .str.contains('[a-z]')][column_name]\n",
    "                               .unique())\n",
    "    else:\n",
    "        pass"
   ]
  },
  {
   "cell_type": "code",
   "execution_count": 11,
   "metadata": {
    "scrolled": false
   },
   "outputs": [],
   "source": [
    "NA_VALUES = ['Bad Input',\n",
    "             'Invalid Data',\n",
    "             'No Data',\n",
    "             'Calc Failed',\n",
    "             'Pt Created']"
   ]
  },
  {
   "cell_type": "code",
   "execution_count": 12,
   "metadata": {
    "scrolled": false
   },
   "outputs": [],
   "source": [
    "df = pd.read_csv(FILE_TO_READ,\n",
    "                 parse_dates=True,\n",
    "                 index_col='Time',\n",
    "                 na_values=NA_VALUES)"
   ]
  },
  {
   "cell_type": "code",
   "execution_count": 13,
   "metadata": {
    "scrolled": false
   },
   "outputs": [
    {
     "data": {
      "text/plain": [
       "(8689, 29)"
      ]
     },
     "execution_count": 13,
     "metadata": {},
     "output_type": "execute_result"
    }
   ],
   "source": [
    "df.shape"
   ]
  },
  {
   "cell_type": "code",
   "execution_count": 14,
   "metadata": {
    "scrolled": false
   },
   "outputs": [
    {
     "data": {
      "text/plain": [
       "Water Load (lb/MSF)            float64\n",
       "Trim Board Density (lb/cft)    float64\n",
       "Trim Board Thickness (in)      float64\n",
       "Trim Board Weight (lb/sft)     float64\n",
       "Wool Target (%)                float64\n",
       "Wool Usage (%)                 float64\n",
       "Wool Flow (lb/min)             float64\n",
       "Starch Target (%)              float64\n",
       "Starch Usage (%)               float64\n",
       "Starch Flow (lb/min)           float64\n",
       "Clay Target (%)                float64\n",
       "Clay Usage (%)                 float64\n",
       "Clay Flow (lb/min)             float64\n",
       "Newsprint Target (%)           float64\n",
       "Newsprint Usage (%)            float64\n",
       "Perlite Target (%)             float64\n",
       "Perlite Usage (%)              float64\n",
       "Wet Clay Target (%)            float64\n",
       "Wet Clay Usage (%)             float64\n",
       "Wet Gypsum Target (%)          float64\n",
       "Wet Gypsum Usage (%)           float64\n",
       "Wet Broke Target (%)           float64\n",
       "Wet Broke Usage (%)            float64\n",
       "Dust Target (%)                float64\n",
       "Dust Usage (%)                 float64\n",
       "Broke Target (%)               float64\n",
       "Broke Usage (%)                float64\n",
       "Consistency Target (%)         float64\n",
       "Consistency Actual (%)         float64\n",
       "dtype: object"
      ]
     },
     "execution_count": 14,
     "metadata": {},
     "output_type": "execute_result"
    }
   ],
   "source": [
    "df.dtypes"
   ]
  },
  {
   "cell_type": "code",
   "execution_count": 15,
   "metadata": {
    "scrolled": false
   },
   "outputs": [
    {
     "data": {
      "image/png": "[encoded data removed]",
      "text/plain": [
       "<Figure size 432x288 with 1 Axes>"
      ]
     },
     "metadata": {},
     "output_type": "display_data"
    }
   ],
   "source": [
    "# Create a scatter plot of one column versus the index 'Time'.\n",
    "import matplotlib.pyplot as plt\n",
    "%matplotlib inline\n",
    "ax = df.plot.line(y='Water Load (lb/MSF)',\n",
    "                  legend=False,\n",
    "                  style='.')"
   ]
  },
  {
   "cell_type": "code",
   "execution_count": 16,
   "metadata": {
    "scrolled": false
   },
   "outputs": [],
   "source": [
    "# Munge this column with a filter.\n",
    "import numpy as np\n",
    "df.loc[df['Water Load (lb/MSF)'] > 1200,\n",
    "       'Water Load (lb/MSF)'] = np.nan"
   ]
  },
  {
   "cell_type": "code",
   "execution_count": 17,
   "metadata": {
    "scrolled": false
   },
   "outputs": [
    {
     "data": {
      "image/png": "[encoded data removed]",
      "text/plain": [
       "<Figure size 432x288 with 1 Axes>"
      ]
     },
     "metadata": {},
     "output_type": "display_data"
    }
   ],
   "source": [
    "# Redo the scatter plot\n",
    "ax = df.plot.line(y='Water Load (lb/MSF)',\n",
    "                  legend=False,\n",
    "                  style='.')"
   ]
  }
 ],
 "metadata": {
  "kernelspec": {
   "display_name": "Python 3",
   "language": "python",
   "name": "python3"
  },
  "language_info": {
   "codemirror_mode": {
    "name": "ipython",
    "version": 3
   },
   "file_extension": ".py",
   "mimetype": "text/x-python",
   "name": "python",
   "nbconvert_exporter": "python",
   "pygments_lexer": "ipython3",
   "version": "3.6.6"
  }
 },
 "nbformat": 4,
 "nbformat_minor": 2
}
