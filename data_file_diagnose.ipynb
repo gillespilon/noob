{
 "cells": [
  {
   "cell_type": "markdown",
   "metadata": {},
   "source": [
    "# Diagnose a data file"
   ]
  },
  {
   "cell_type": "markdown",
   "metadata": {},
   "source": [
    "# Document\n",
    "\n",
    "<table align=\"left\">\n",
    "    <tr>\n",
    "        <th class=\"text-align:left\">Title</th>\n",
    "        <td class=\"text-align:left\">Diagnose a data file</td>\n",
    "    </tr>\n",
    "    <tr>\n",
    "        <th class=\"text-align:left\">Last modified</th>\n",
    "        <td class=\"text-align:left\">2019-01-05</td>\n",
    "    </tr>\n",
    "    <tr>\n",
    "        <th class=\"text-align:left\">Author</th>\n",
    "        <td class=\"text-align:left\">Gilles Pilon <gillespilon13@gmail.com></td>\n",
    "    </tr>\n",
    "    <tr>\n",
    "        <th class=\"text-align:left\">Status</th>\n",
    "        <td class=\"text-align:left\">Active</td>\n",
    "    </tr>\n",
    "    <tr>\n",
    "        <th class=\"text-align:left\">Type</th>\n",
    "        <td class=\"text-align:left\">Jupyter notebook</td>\n",
    "    </tr>\n",
    "    <tr>\n",
    "        <th class=\"text-align:left\">Created</th>\n",
    "        <td class=\"text-align:left\">2018-12-21</td>\n",
    "    </tr>\n",
    "    <tr>\n",
    "        <th class=\"text-align:left\">File name</th>\n",
    "        <td class=\"text-align:left\">N/A</td>\n",
    "    </tr>\n",
    "    <tr>\n",
    "        <th class=\"text-align:left\">Other files required</th>\n",
    "        <td class=\"text-align:left\">N/A</td>\n",
    "    </tr>\n",
    "</table>"
   ]
  },
  {
   "cell_type": "markdown",
   "metadata": {},
   "source": [
    "# Ideas\n",
    "\n",
    "- Open a file.\n",
    "- Determine column types.\n",
    "- Determine number of unique entries.\n",
    "- Create filter.\n",
    "- Open file with filter.\n",
    "- Determine data range.\n",
    "- Scatter plot of data range.\n",
    "- Create munging filter."
   ]
  },
  {
   "cell_type": "code",
   "execution_count": 1,
   "metadata": {},
   "outputs": [],
   "source": [
    "import pandas as pd"
   ]
  },
  {
   "cell_type": "code",
   "execution_count": 2,
   "metadata": {},
   "outputs": [],
   "source": [
    "# Read the csv file.\n",
    "df = pd.read_csv('thirteen_weeks.csv',\n",
    "                 parse_dates=True,\n",
    "                 index_col='Time')"
   ]
  },
  {
   "cell_type": "code",
   "execution_count": 3,
   "metadata": {},
   "outputs": [
    {
     "data": {
      "text/plain": [
       "(4275, 29)"
      ]
     },
     "execution_count": 3,
     "metadata": {},
     "output_type": "execute_result"
    }
   ],
   "source": [
    "df.shape"
   ]
  },
  {
   "cell_type": "code",
   "execution_count": 4,
   "metadata": {},
   "outputs": [],
   "source": [
    "# Delete weekend data.\n",
    "df = df[df.index.dayofweek < 5]"
   ]
  },
  {
   "cell_type": "code",
   "execution_count": 5,
   "metadata": {},
   "outputs": [
    {
     "data": {
      "text/plain": [
       "(3120, 29)"
      ]
     },
     "execution_count": 5,
     "metadata": {},
     "output_type": "execute_result"
    }
   ],
   "source": [
    "df.shape"
   ]
  },
  {
   "cell_type": "code",
   "execution_count": 6,
   "metadata": {},
   "outputs": [
    {
     "data": {
      "text/plain": [
       "Water Load (lb/MSF)            float64\n",
       "Trim Board Density (lb/cft)     object\n",
       "Trim Board Thickness (in)       object\n",
       "Trim Board Weight (lb/sft)      object\n",
       "Wool Target (%)                 object\n",
       "Wool Usage (%)                 float64\n",
       "Wool Flow (lb/min)             float64\n",
       "Starch Target (%)               object\n",
       "Starch Usage (%)               float64\n",
       "Starch Flow (lb/min)           float64\n",
       "Clay Target (%)                 object\n",
       "Clay Usage (%)                   int64\n",
       "Clay Flow (lb/min)             float64\n",
       "Newsprint Target (%)            object\n",
       "Newsprint Usage (%)            float64\n",
       "Perlite Target (%)              object\n",
       "Perlite Usage (%)              float64\n",
       "Wet Clay Target (%)             object\n",
       "Wet Clay Usage (%)               int64\n",
       "Wet Gypsum Target (%)           object\n",
       "Wet Gypsum Usage (%)             int64\n",
       "Wet Broke Target (%)            object\n",
       "Wet Broke Usage (%)            float64\n",
       "Dust Target (%)                 object\n",
       "Dust Usage (%)                 float64\n",
       "Broke Target (%)                object\n",
       "Broke Usage (%)                float64\n",
       "Consistency Target (%)         float64\n",
       "Consistency Actual (%)           int64\n",
       "dtype: object"
      ]
     },
     "execution_count": 6,
     "metadata": {},
     "output_type": "execute_result"
    }
   ],
   "source": [
    "df.dtypes"
   ]
  },
  {
   "cell_type": "code",
   "execution_count": 7,
   "metadata": {},
   "outputs": [
    {
     "name": "stdout",
     "output_type": "stream",
     "text": [
      "Water Load (lb/MSF) has 127 unique values.\n",
      "Trim Board Density (lb/cft) has 590 unique values.\n",
      "Trim Board Thickness (in) has 42 unique values.\n",
      "Trim Board Weight (lb/sft) has 100 unique values.\n",
      "Wool Target (%) has 4 unique values.\n",
      "Wool Usage (%) has 2829 unique values.\n",
      "Wool Flow (lb/min) has 2829 unique values.\n",
      "Starch Target (%) has 2 unique values.\n",
      "Starch Usage (%) has 2828 unique values.\n",
      "Starch Flow (lb/min) has 3120 unique values.\n",
      "Clay Target (%) has 2 unique values.\n",
      "Clay Usage (%) has 1 unique values.\n",
      "Clay Flow (lb/min) has 3119 unique values.\n",
      "Newsprint Target (%) has 2 unique values.\n",
      "Newsprint Usage (%) has 2826 unique values.\n",
      "Perlite Target (%) has 4 unique values.\n",
      "Perlite Usage (%) has 2829 unique values.\n",
      "Wet Clay Target (%) has 2 unique values.\n",
      "Wet Clay Usage (%) has 1 unique values.\n",
      "Wet Gypsum Target (%) has 2 unique values.\n",
      "Wet Gypsum Usage (%) has 1 unique values.\n",
      "Wet Broke Target (%) has 6 unique values.\n",
      "Wet Broke Usage (%) has 2811 unique values.\n",
      "Dust Target (%) has 7 unique values.\n",
      "Dust Usage (%) has 2829 unique values.\n",
      "Broke Target (%) has 5 unique values.\n",
      "Broke Usage (%) has 2739 unique values.\n",
      "Consistency Target (%) has 2739 unique values.\n",
      "Consistency Actual (%) has 1 unique values.\n"
     ]
    }
   ],
   "source": [
    "for column_name in df.columns:\n",
    "    print(column_name, 'has', df[column_name].nunique(), 'unique values.')"
   ]
  },
  {
   "cell_type": "code",
   "execution_count": 8,
   "metadata": {
    "scrolled": false
   },
   "outputs": [
    {
     "name": "stdout",
     "output_type": "stream",
     "text": [
      "Water Load (lb/MSF) has [1036.680054  1031.790039  1026.900024  1012.230042  1007.340088\n",
      " 1012.229919  1041.569946  1041.570068  1026.899902  1046.460083\n",
      " 1022.009827  1017.120117  1022.009949  1070.909912  1007.339966\n",
      "  982.8900146  992.6699829  997.5599976 1017.119995  1002.450012\n",
      " 1061.129883  1105.140015  1095.359985  1070.910156  1070.910034\n",
      " 1056.23999   1022.010071   987.7799683 1486.560059  1457.220093\n",
      " 1383.869995  1300.73999   1290.959961  1305.630127  1100.250122\n",
      "  997.5598755 1158.930054  1066.02002   1036.679932   982.8899536\n",
      "  987.7800293 1413.210083  1393.649902  1398.540039  1437.660034\n",
      " 1447.440063  1427.880005  1295.850098  1119.810059  1110.029907\n",
      " 1154.040039  1085.580078  1075.800049  1085.579956  1095.359863\n",
      " 1061.130005  1056.240112  1075.799927  1110.030029  1100.249878\n",
      " 1080.689941  1051.350098  1080.690063  1046.459961  1432.77002\n",
      " 1354.530151  1031.789917  1051.349976   992.6700439 1031.790161\n",
      " 1080.690186  1281.180054  1090.469971  1051.349854  1090.470093\n",
      " 1139.369995  1114.920044  1066.020142  1105.140137  1173.599976\n",
      " 1232.280029  1124.700073   978.000061  1422.990112  1359.420044\n",
      " 1315.410034  1334.969971  1349.639893  1354.530029  1369.199951\n",
      " 1364.310181  1452.330078  1398.539917  1359.419922  1378.97998\n",
      " 1369.200073  1144.26001    963.3300171  948.6600952 1002.44989\n",
      "  997.5600586  977.999939  1139.370117  1320.299927  1163.820068\n",
      " 1237.169922   973.1100464 1286.069946  1149.150024   968.2199707\n",
      "  973.1101074  958.4400024 1374.089966  1393.650146  1144.259888\n",
      " 1119.809814  1129.589966  1188.270142  1408.320068  1403.430054\n",
      " 1251.839966  1364.310059  1374.090088  1168.709839   953.5500488\n",
      "  943.7700195  958.4399414] unique values.\n",
      "Trim Board Density (lb/cft) has ['11.3447876' '11.38438797' '11.12698269' '11.56443024' '11.83933258'\n",
      " '12.0380621' '11.89919662' '11.12862778' '11.29005241' '11.29088402'\n",
      " '11.06009293' '11.27261066' '11.92191887' '12.58906651' '11.38071251'\n",
      " '11.76177692' '11.22954273' '11.26840973' '11.54658604' '22.30562782'\n",
      " '11.10550022' '11.20769787' '11.32366657' '11.75699997' '12.47459698'\n",
      " '11.69415665' '11.51599121' '11.4193449' '11.7203331' '12.13710117'\n",
      " '12.11699963' '12.80276394' '12.42108917' '11.57426357' '11.49385834'\n",
      " '11.46250057' '11.38316631' '11.08306599' '11.01368904' '11.93997478'\n",
      " '11.65854168' '11.70119286' '11.13700008' '11.10211754' '11.65930843'\n",
      " '11.169034' '11.16341114' '11.33699989' '11.40299988' '12.2546854'\n",
      " '11.72165203' '11.48233318' '11.4917469' '11.37699986' '11.76000023'\n",
      " '11.57699966' '11.12201691' '11.15319729' '11.19100761' '11.21667099'\n",
      " '11.43196774' '12.04144382' '11.13838196' '12.19377518' '11.65310287'\n",
      " '10.54229259' '11.19233799' '10.92700005' '11.11699963' '11.47375774'\n",
      " '10.99887943' '11.26700115' '11.12367916' '11.4812746' '11.40655327'\n",
      " '11.70188427' '11.25988197' '11.68066597' '10.95894623' '11.60219097'\n",
      " '12.17640114' '11.77411938' '11.31834126' '11.43585587' '11.13203335'\n",
      " '10.97048855' '11.05699921' '11.13190174' '11.08048439' '12.01716805'\n",
      " '11.63699913' '11.17700005' '11.25555229' '11.23403263' '11.77469921'\n",
      " '11.4134531' '11.83414841' '11.9588604' '11.79483414' '11.67100334'\n",
      " '11.47157669' '11.61867523' '11.77699947' '11.51699924' '11.55605698'\n",
      " '11.38560486' '11.10886002' '11.46358871' '11.42167568' '11.30247593'\n",
      " '11.24578571' '11.38194275' '11.54087353' '11.44490719' '11.44154167'\n",
      " '11.65544891' '11.33038998' '11.48338985' '11.26416588' '11.51901054'\n",
      " '11.18327808' '11.06640625' '11.99740219' '11.2886467' '11.89700031'\n",
      " '11.65700054' '11.59612465' '13.0109911' '11.93669701' '11.37325001'\n",
      " '11.59960938' '11.35954666' '11.42283344' '12.13683224' '12.5341959'\n",
      " '11.26988125' '11.22450066' '11.76469803' '11.08566666' '11.28676796'\n",
      " '11.18483353' '11.25439739' '11.44266605' '11.24867535' '11.22598457'\n",
      " '11.16658401' '11.5859251' '11.95753574' '11.27699947' '11.97816658'\n",
      " '11.16021633' '11.83747005' '11.37824154' '11.23104477' '11.35314941'\n",
      " '11.21220684' '11.6417923' '11.50522614' '11.58060646' '11.938797'\n",
      " '11.2215147' '11.80072117' '11.59259415' '11.45699978' '11.61783886'\n",
      " '11.35827541' '11.43927765' '11.95726871' '12.05730152' '11.8769989'\n",
      " '12.25866699' '11.36691475' '11.26274395' '12.45360565' '11.75940514'\n",
      " '11.14191723' '11.74204159' '11.83699894' '11.39212608' '11.50011063'\n",
      " '11.40418816' '11.36583805' '11.25844288' '11.57970905' '12.25794697'\n",
      " '12.05649281' '11.83558083' '11.35572052' '11.68139267' '11.59874249'\n",
      " '11.90063667' '12.47281456' '11.60304642' '11.1970005' '12.53005791'\n",
      " '11.92127609' '11.30787945' '11.46467495' '11.08738327' '13.22952175'\n",
      " '12.56528759' '12.70590782' '11.67327118' '11.95536995' '11.6970005'\n",
      " '11.37947941' '11.03152657' '11.4547739' '11.97839832' '11.78261948'\n",
      " '11.528862' '11.19406319' '11.60559464' '11.30383301' '11.64099979'\n",
      " '11.34734917' '11.42398834' '11.70050049' '11.32630253' '12.03779888'\n",
      " '11.4980402' '11.93820286' '11.6631031' '11.89991951' '11.4262867'\n",
      " '11.62445068' '11.8595953' '11.6955843' '11.97699928' '12.39011478'\n",
      " '11.70257282' '12.13670254' '11.68283844' '11.26131439' '11.81999493'\n",
      " '11.43814182' '11.62199116' '11.14028263' '11.74266338' '11.57880878'\n",
      " '12.03645897' '11.74141788' '11.74079323' '11.64803505' '11.48444271'\n",
      " '11.20314407' '11.57517815' '13.10866642' '12.87699986' '11.41106892'\n",
      " '11.93423462' '11.6491375' '11.7363615' '12.29883385' '11.47592354'\n",
      " '11.02251816' '11.66083336' '11.5108881' '11.29561996' '12.05587006'\n",
      " '11.71699905' '11.71497345' '11.89513588' '11.32761383' '12.11700153'\n",
      " '12.33811474' '11.26558495' '11.23333645' '11.23041153' '11.72296143'\n",
      " '11.53109169' '11.93485737' '10.97239017' '10.89547825' '11.04241848'\n",
      " '11.29224777' '11.93849945' '11.29974651' '11.31699944' '11.3569994'\n",
      " '11.45588875' '12.33886528' '11.45365524' '11.37450409' '11.62116623'\n",
      " '11.93639374' '11.47048187' '12.09683132' '12.23599911' '11.55793953'\n",
      " '11.0477829' '12.41351223' '11.59436417' '11.02616596' '11.64415359'\n",
      " '11.33830929' '11.36081314' '11.28121376' '11.96042156' '11.3536787'\n",
      " '11.20161533' '12.67541504' '12.38228607' '11.69910717' '11.38923073'\n",
      " '11.99760246' '12.05669689' '11.95619011' '11.33961391' '11.00075245'\n",
      " '11.09079742' '11.19854355' '11.51800632' '11.67625999' '13.2130537'\n",
      " '11.46790981' '10.91118526' '12.13676834' '11.65777206' '11.45810699'\n",
      " '11.22746563' '11.29837608' '11.2362442' '11.84388447' '11.59700012'\n",
      " '11.67477036' '11.41239548' '11.7996664' '11.91932678' '11.86002445'\n",
      " '11.62281418' '11.23187637' '10.81017876' '11.54279041' '11.57242393'\n",
      " '11.55980968' '11.54374409' '11.41817379' '11.00633335' '11.16973686'\n",
      " '11.25011253' '11.50623894' '13.63909435' '11.10041714' '11.79537868'\n",
      " '11.77585316' '12.2161665' '11.44041157' '11.76236439' '12.72979069'\n",
      " '12.07706738' '11.69770527' '11.81548023' '11.83793831' '11.04404926'\n",
      " '11.34220886' '11.7611866' '11.59348011' '11.71085548' '11.7136116'\n",
      " '11.31294632' '10.94683361' '11.79753685' '12.01615334' '11.63293266'\n",
      " '11.071064' '11.52000999' '11.278409' '11.25264263' '11.21243954'\n",
      " '11.10852623' '11.23699951' '11.1302681' '11.49700069' '11.46031094'\n",
      " '11.4335537' '11.63780499' '11.1618166' '11.34606934' '11.60389996'\n",
      " '11.00447941' '11.44378853' '10.89345169' '11.88057709' '11.54469585'\n",
      " '11.87939644' '11.50420952' '11.81949902' '10.649333' '11.17752647'\n",
      " '11.49490929' '12.19659901' '11.36956215' '11.68427277' '11.46575737'\n",
      " '11.39335155' '11.16499996' '11.61950874' '11.41699982' '11.93909359'\n",
      " '11.63456821' '11.3633337' '11.53406048' '11.47699928' '11.22301102'\n",
      " '11.18014908' '11.32498646' '11.35443687' '11.28538704' '11.52200031'\n",
      " '11.39700031' '11.91598701' '11.50114059' '11.67993927' '11.85479736'\n",
      " '11.85743618' '11.95806885' '11.57334518' '11.5270853' '11.18604851'\n",
      " '11.86044979' '12.13734245' '12.19906998' '12.15720272' '12.19646645'\n",
      " '11.71016312' '11.30332565' '11.99598408' '11.91767025' '11.22652435'\n",
      " '11.89551163' '12.43971252' '11.93234444' '11.62962818' '11.0369997'\n",
      " '11.48653793' '10.56741714' '11.1681633' '10.94717026' '11.75639439'\n",
      " '12.25818729' '11.83605671' '11.55511093' '11.69344139' '11.89438057'\n",
      " '12.13716984' '12.11700058' '11.43699932' '11.78151131' '11.73953819'\n",
      " '11.87860394' '11.63860798' '11.77295208' '11.32234383' '11.47807407'\n",
      " '11.95646' '11.5369997' '11.89810467' '11.67699909' '11.57790565'\n",
      " '11.55225468' '11.79592133' '11.75456333' '11.89475918' '11.77353668'\n",
      " '11.31158447' '11.30111408' '11.95673084' '12.6560936' '11.89362144'\n",
      " '12.03549385' '11.73050404' '11.60670853' '11.56588554' '11.37072945'\n",
      " '11.45253277' '11.40987015' '11.27131557' '11.34349918' '11.12701702'\n",
      " '11.13369465' '11.77177811' '11.85523987' '11.65073109' '11.6127634'\n",
      " '11.69629288' '11.79807186' '11.53009605' '11.55416298' '11.16742516'\n",
      " '11.71223831' '11.49595642' '11.52299023' '11.20466709' '11.49907684'\n",
      " '11.73247623' '11.57057095' '11.28298473' '11.7331295' '11.854352'\n",
      " '11.67176151' '11.45027733' '11.30609798' '11.63619328' '11.67551613'\n",
      " '11.40013313' '11.95481968' '11.53504467' '11.81239223' '11.80924225'\n",
      " '11.58720589' '11.15699959' '11.74705219' 'Invalid Data' '11.74832535'\n",
      " '12.25676441' '11.87899971' '11.1986084' '12.30588913' '11.77757072'\n",
      " '11.95990372' '11.49477768' '11.29631042' '11.40890026' '11.60474873'\n",
      " '12.15693283' '12.66250038' '11.67402267' '10.93475151' '10.85104275'\n",
      " '11.04051971' '11.17442608' '11.30921936' '11.24433327' '11.17383003'\n",
      " '11.56074047' '11.5814991' '11.38802719' '11.73699951' '11.65622616'\n",
      " '11.06758213' '10.72047138' '11.52397633' '11.09249687' '11.25297356'\n",
      " '10.94095325' '10.79914856' '11.15952873' '11.91866589' '11.61699963'\n",
      " '11.17223644' '11.04599953' '13.19706535' '11.18638515' '11.64020538'\n",
      " '11.85873699' '11.82048893' '10.79699993' '10.86750031' '11.62363434'\n",
      " '11.36207581' '11.30471325' '11.23847675' '11.53602409' '12.51499367'\n",
      " '10.99398804' '10.85607338' '10.95265579' '10.97428513' '10.77726555'\n",
      " '10.77947998' '10.78594875' '11.87740326' '12.07693386' '11.73763752'\n",
      " '11.65466976' '12.03604889' '12.17740631' '11.32892132' '11.48757839'\n",
      " '11.13864422' '11.72099304' '11.73442841' '12.51699924' '11.22001553'\n",
      " '11.27416706' '11.36458683' '11.39457226' '11.27274323' '13.06741619'] unique values.\n",
      "Trim Board Thickness (in) has ['0.601000011' '0.602999985' '0.600000024' '0.601999998' '0.589999974'\n",
      " '0.605000019' '0.60799998' '0.606000006' '0.610000014' '0.59799999'\n",
      " '0.298999995' '0.595000029' '0.598999977' '0.591000021' '0.593999982'\n",
      " '0.597000003' '0.592000008' '0.587000012' '0.603999972' '0.629999995'\n",
      " '0.620000005' '0.596000016' '0.592999995' '0.588999987' '0.606999993'\n",
      " '0.588' '0.583999991' '0.586000025' '0.609000027' '0.584999979'\n",
      " '0.617999971' '0.628000021' '0.579999983' '0.583000004' '0.58099997'\n",
      " '0.578999996' 'Invalid Data' '0.566999972' '0.611999989' '0.614000022'\n",
      " '0.611000001' '0.616999984'] unique values.\n",
      "Trim Board Weight (lb/sft) has ['56.20000076' '56.40000153' '55.09999847' '57.5' '58.59999847'\n",
      " '59.90000153' '59' '55.20000076' '54.90000153' '56.29999924'\n",
      " '55.40000153' '60' '62.90000153' '56.09999847' '58.5' '56' '57.59999847'\n",
      " '55.5' '55.59999847' '57.70000076' '61.70000076' '57' '58' '59.29999924'\n",
      " '59.5' '62.40000153' '60.20000076' '56.5' '56.70000076' '55.70000076'\n",
      " '54.79999924' '59.59999847' '57.40000153' '54.59999847' '54.70000076'\n",
      " '54.29999924' '61.20000076' '58.20000076' '56.79999924' '55.90000153'\n",
      " '55.79999924' '57.29999924' '62.59999847' '51.79999924' '53.09999847'\n",
      " '54.5' '54' '58.09999847' '57.79999924' '53.79999924' '60.40000153'\n",
      " '60.59999847' '54.40000153' '54.20000076' '57.09999847' '59.40000153'\n",
      " '57.20000076' '56.59999847' '56.90000153' '53.70000076' '59.09999847'\n",
      " '58.40000153' '64.40000153' '60.09999847' '62' '55.29999924'\n",
      " '58.90000153' '59.20000076' '58.79999924' '58.29999924' '55'\n",
      " '61.79999924' '59.79999924' '58.70000076' '57.90000153' '65.5' '61.5'\n",
      " '59.70000076' '60.5' '65' '63.29999924' '60.29999924' '64.69999695'\n",
      " '64.19999695' '54.09999847' '66.40000153' '53.5' '0' '67.90000153'\n",
      " '52.59999847' '52.09999847' '53.20000076' '62.29999924' 'Invalid Data'\n",
      " '61.59999847' '53.40000153' '67.30000305' '52.90000153' '53.59999847'\n",
      " '64.90000153'] unique values.\n",
      "Wool Target (%) has ['No Data' '18' '16' '20'] unique values.\n",
      "Wool Usage (%) has [ 6.23478365  6.27716351  6.31954336 ... 16.9385128  17.36794281\n",
      "  0.        ] unique values.\n",
      "Wool Flow (lb/min) has [ 0.13292782  0.13383293  0.13473804 ... 38.92414093 37.5017662\n",
      "  0.47087538] unique values.\n",
      "Starch Target (%) has ['No Data' '10'] unique values.\n",
      "Starch Usage (%) has [ 3.94674134  3.97356892  4.00039625 ...  9.92480659 10.20533943\n",
      "  0.        ] unique values.\n",
      "Starch Flow (lb/min) has [ 6.65864325  6.65710831  6.65557385 ... -1.20949912 -1.20923448\n",
      " -1.20896983] unique values.\n",
      "Clay Target (%) has ['No Data' '0'] unique values.\n",
      "Clay Usage (%) has [0] unique values.\n",
      "Clay Flow (lb/min) has [ 1.76820683  1.76105761  1.75390828 ... -1.18970466 -1.18967164\n",
      " -1.1896385 ] unique values.\n",
      "Newsprint Target (%) has ['No Data' '14'] unique values.\n",
      "Newsprint Usage (%) has [ 0.03374161  0.03397097  0.03420034 ... 13.77197647 13.33896923\n",
      "  0.        ] unique values.\n",
      "Perlite Target (%) has ['No Data' '58' '60' '56'] unique values.\n",
      "Perlite Usage (%) has [112.6712265  113.4369583  114.2026901  ...  58.03086853  59.58846283\n",
      "  33.13806915] unique values.\n",
      "Wet Clay Target (%) has ['No Data' '0'] unique values.\n",
      "Wet Clay Usage (%) has [0] unique values.\n",
      "Wet Gypsum Target (%) has ['No Data' '0'] unique values.\n",
      "Wet Gypsum Usage (%) has [0] unique values.\n",
      "Wet Broke Target (%) has ['No Data' '0' '6' '4' '8' '5'] unique values.\n",
      "Wet Broke Usage (%) has [0.00757478 0.00762628 0.00767777 ... 0.35156298 6.02526331 0.07448293] unique values.\n",
      "Dust Target (%) has ['No Data' '12' '10' '8' '14' '15' '11'] unique values.\n",
      "Dust Usage (%) has [ 0.1534633   0.15450649  0.15554966 ... 13.3644352  14.10190964\n",
      " 15.67425919] unique values.\n",
      "Broke Target (%) has ['No Data' '8' '6' '12' '10'] unique values.\n",
      "Broke Usage (%) has [-2.57901700e-03 -2.59654800e-03 -2.61408000e-03 ...  7.84400749e+00\n",
      "  8.10570526e+00  7.70400906e+00] unique values.\n",
      "Consistency Target (%) has [-2.57901700e-03 -2.59654800e-03 -2.61408000e-03 ...  7.84400749e+00\n",
      "  8.10570526e+00  7.70400906e+00] unique values.\n",
      "Consistency Actual (%) has [0] unique values.\n"
     ]
    }
   ],
   "source": [
    "for column_name in df.columns:\n",
    "    print(column_name, 'has', df[column_name].unique(), 'unique values.')"
   ]
  },
  {
   "cell_type": "code",
   "execution_count": 9,
   "metadata": {},
   "outputs": [],
   "source": [
    "NA_VALUES = ['Bad Input',\n",
    "             'Invalid Data',\n",
    "             'No Data',\n",
    "             'Calc Failed',\n",
    "             'Pt Created']"
   ]
  },
  {
   "cell_type": "code",
   "execution_count": 10,
   "metadata": {},
   "outputs": [],
   "source": [
    "df = pd.read_csv('thirteen_weeks.csv',\n",
    "                 parse_dates=True,\n",
    "                 index_col='Time',\n",
    "                 na_values=NA_VALUES)"
   ]
  },
  {
   "cell_type": "code",
   "execution_count": 11,
   "metadata": {},
   "outputs": [
    {
     "data": {
      "text/plain": [
       "(4275, 29)"
      ]
     },
     "execution_count": 11,
     "metadata": {},
     "output_type": "execute_result"
    }
   ],
   "source": [
    "df.shape"
   ]
  },
  {
   "cell_type": "code",
   "execution_count": 12,
   "metadata": {},
   "outputs": [
    {
     "data": {
      "text/plain": [
       "Water Load (lb/MSF)            float64\n",
       "Trim Board Density (lb/cft)    float64\n",
       "Trim Board Thickness (in)      float64\n",
       "Trim Board Weight (lb/sft)     float64\n",
       "Wool Target (%)                float64\n",
       "Wool Usage (%)                 float64\n",
       "Wool Flow (lb/min)             float64\n",
       "Starch Target (%)              float64\n",
       "Starch Usage (%)               float64\n",
       "Starch Flow (lb/min)           float64\n",
       "Clay Target (%)                float64\n",
       "Clay Usage (%)                   int64\n",
       "Clay Flow (lb/min)             float64\n",
       "Newsprint Target (%)           float64\n",
       "Newsprint Usage (%)            float64\n",
       "Perlite Target (%)             float64\n",
       "Perlite Usage (%)              float64\n",
       "Wet Clay Target (%)            float64\n",
       "Wet Clay Usage (%)               int64\n",
       "Wet Gypsum Target (%)          float64\n",
       "Wet Gypsum Usage (%)             int64\n",
       "Wet Broke Target (%)           float64\n",
       "Wet Broke Usage (%)            float64\n",
       "Dust Target (%)                float64\n",
       "Dust Usage (%)                 float64\n",
       "Broke Target (%)               float64\n",
       "Broke Usage (%)                float64\n",
       "Consistency Target (%)         float64\n",
       "Consistency Actual (%)           int64\n",
       "dtype: object"
      ]
     },
     "execution_count": 12,
     "metadata": {},
     "output_type": "execute_result"
    }
   ],
   "source": [
    "df.dtypes"
   ]
  },
  {
   "cell_type": "code",
   "execution_count": 14,
   "metadata": {},
   "outputs": [
    {
     "data": {
      "image/png": "[encoded data removed]",
      "text/plain": [
       "<Figure size 432x288 with 1 Axes>"
      ]
     },
     "metadata": {},
     "output_type": "display_data"
    }
   ],
   "source": [
    "# Create a scatter plot of one column versus the index 'Time'.\n",
    "import matplotlib.pyplot as plt\n",
    "ax = df.plot.line(y='Water Load (lb/MSF)',\n",
    "                  legend=False,\n",
    "                  style='.')"
   ]
  }
 ],
 "metadata": {
  "kernelspec": {
   "display_name": "Python 3",
   "language": "python",
   "name": "python3"
  },
  "language_info": {
   "codemirror_mode": {
    "name": "ipython",
    "version": 3
   },
   "file_extension": ".py",
   "mimetype": "text/x-python",
   "name": "python",
   "nbconvert_exporter": "python",
   "pygments_lexer": "ipython3",
   "version": "3.6.6"
  }
 },
 "nbformat": 4,
 "nbformat_minor": 2
}
